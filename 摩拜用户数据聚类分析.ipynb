{
 "cells": [
  {
   "cell_type": "code",
   "execution_count": 3,
   "metadata": {},
   "outputs": [],
   "source": [
    "import numpy as np\n",
    "import pandas as pd \n",
    "import matplotlib.pyplot as plt\n",
    "import seaborn as sns\n",
    "import os \n",
    "%matplotlib inline\n",
    "plt.style.use('ggplot')  #使用该风格\n",
    "plt.rcParams['axes.unicode_minus']=False #正常显示负号\n",
    "plt.rcParams['font.family'] = ['Arial Unicode MS'] #正常显示中文\n",
    "os.chdir('/Users/lyn/Library/Mobile Documents/com~apple~CloudDocs/Documents/jupyter/')  #定义相对路径"
   ]
  },
  {
   "cell_type": "code",
   "execution_count": 4,
   "metadata": {
    "scrolled": true
   },
   "outputs": [
    {
     "name": "stdout",
     "output_type": "stream",
     "text": [
      "<class 'pandas.core.frame.DataFrame'>\n",
      "RangeIndex: 6427 entries, 0 to 6426\n",
      "Data columns (total 15 columns):\n",
      " #   Column             Non-Null Count  Dtype  \n",
      "---  ------             --------------  -----  \n",
      " 0   Unnamed: 0         6427 non-null   int64  \n",
      " 1   user_id            6427 non-null   int64  \n",
      " 2   start_time         6427 non-null   object \n",
      " 3   end_time           6427 non-null   object \n",
      " 4   timeduration       6427 non-null   int64  \n",
      " 5   bikeid             6427 non-null   int64  \n",
      " 6   tripduration       6427 non-null   int64  \n",
      " 7   from_station_id    6427 non-null   int64  \n",
      " 8   from_station_name  6427 non-null   object \n",
      " 9   to_station_id      6427 non-null   int64  \n",
      " 10  to_station_name    6427 non-null   object \n",
      " 11  usertype           6427 non-null   object \n",
      " 12  gender             5938 non-null   object \n",
      " 13  birthyear          5956 non-null   float64\n",
      " 14  age                6427 non-null   object \n",
      "dtypes: float64(1), int64(7), object(7)\n",
      "memory usage: 753.3+ KB\n"
     ]
    },
    {
     "data": {
      "text/plain": [
       "Unnamed: 0             0\n",
       "user_id                0\n",
       "start_time             0\n",
       "end_time               0\n",
       "timeduration           0\n",
       "bikeid                 0\n",
       "tripduration           0\n",
       "from_station_id        0\n",
       "from_station_name      0\n",
       "to_station_id          0\n",
       "to_station_name        0\n",
       "usertype               0\n",
       "gender               489\n",
       "birthyear            471\n",
       "age                    0\n",
       "dtype: int64"
      ]
     },
     "execution_count": 4,
     "metadata": {},
     "output_type": "execute_result"
    }
   ],
   "source": [
    "#读取数据\n",
    "mo=pd.read_csv('mobike.csv')\n",
    "mo.info()\n",
    "mo.isnull().sum() "
   ]
  },
  {
   "cell_type": "markdown",
   "metadata": {},
   "source": [
    "- gender和birthday有少量空值，需drop；\n",
    "- birthyear跟age重复，可删除birthyear数据；age为类别性变量，需改为int；\n",
    "- start_time、end time为类别型变量，需更改为时间变量；\n",
    "- 多余变量Unnamed,user_id,bikeid,from_station_id,to_station_id可删除；"
   ]
  },
  {
   "cell_type": "code",
   "execution_count": 111,
   "metadata": {
    "scrolled": false
   },
   "outputs": [
    {
     "data": {
      "text/html": [
       "<div>\n",
       "<style scoped>\n",
       "    .dataframe tbody tr th:only-of-type {\n",
       "        vertical-align: middle;\n",
       "    }\n",
       "\n",
       "    .dataframe tbody tr th {\n",
       "        vertical-align: top;\n",
       "    }\n",
       "\n",
       "    .dataframe thead th {\n",
       "        text-align: right;\n",
       "    }\n",
       "</style>\n",
       "<table border=\"1\" class=\"dataframe\">\n",
       "  <thead>\n",
       "    <tr style=\"text-align: right;\">\n",
       "      <th></th>\n",
       "      <th>start_time</th>\n",
       "      <th>end_time</th>\n",
       "      <th>timeduration</th>\n",
       "      <th>tripduration</th>\n",
       "      <th>age</th>\n",
       "      <th>start_hour</th>\n",
       "      <th>usertype_Customer</th>\n",
       "      <th>usertype_Subscriber</th>\n",
       "      <th>gender_Female</th>\n",
       "      <th>gender_Male</th>\n",
       "    </tr>\n",
       "  </thead>\n",
       "  <tbody>\n",
       "    <tr>\n",
       "      <th>0</th>\n",
       "      <td>2018-11-14 07:37:00</td>\n",
       "      <td>2018-11-14 07:44:00</td>\n",
       "      <td>7</td>\n",
       "      <td>436</td>\n",
       "      <td>37</td>\n",
       "      <td>7</td>\n",
       "      <td>0</td>\n",
       "      <td>1</td>\n",
       "      <td>0</td>\n",
       "      <td>1</td>\n",
       "    </tr>\n",
       "    <tr>\n",
       "      <th>1</th>\n",
       "      <td>2018-12-18 19:02:00</td>\n",
       "      <td>2018-12-18 19:10:00</td>\n",
       "      <td>7</td>\n",
       "      <td>445</td>\n",
       "      <td>31</td>\n",
       "      <td>19</td>\n",
       "      <td>0</td>\n",
       "      <td>1</td>\n",
       "      <td>0</td>\n",
       "      <td>1</td>\n",
       "    </tr>\n",
       "    <tr>\n",
       "      <th>2</th>\n",
       "      <td>2018-10-09 12:37:00</td>\n",
       "      <td>2018-10-09 12:55:00</td>\n",
       "      <td>18</td>\n",
       "      <td>1090</td>\n",
       "      <td>30</td>\n",
       "      <td>12</td>\n",
       "      <td>1</td>\n",
       "      <td>0</td>\n",
       "      <td>0</td>\n",
       "      <td>1</td>\n",
       "    </tr>\n",
       "    <tr>\n",
       "      <th>3</th>\n",
       "      <td>2018-11-12 12:30:00</td>\n",
       "      <td>2018-11-12 12:40:00</td>\n",
       "      <td>9</td>\n",
       "      <td>581</td>\n",
       "      <td>30</td>\n",
       "      <td>12</td>\n",
       "      <td>0</td>\n",
       "      <td>1</td>\n",
       "      <td>1</td>\n",
       "      <td>0</td>\n",
       "    </tr>\n",
       "    <tr>\n",
       "      <th>4</th>\n",
       "      <td>2018-11-07 07:29:00</td>\n",
       "      <td>2018-11-07 07:35:00</td>\n",
       "      <td>6</td>\n",
       "      <td>390</td>\n",
       "      <td>40</td>\n",
       "      <td>7</td>\n",
       "      <td>0</td>\n",
       "      <td>1</td>\n",
       "      <td>0</td>\n",
       "      <td>1</td>\n",
       "    </tr>\n",
       "  </tbody>\n",
       "</table>\n",
       "</div>"
      ],
      "text/plain": [
       "           start_time            end_time  timeduration  tripduration  age  \\\n",
       "0 2018-11-14 07:37:00 2018-11-14 07:44:00             7           436   37   \n",
       "1 2018-12-18 19:02:00 2018-12-18 19:10:00             7           445   31   \n",
       "2 2018-10-09 12:37:00 2018-10-09 12:55:00            18          1090   30   \n",
       "3 2018-11-12 12:30:00 2018-11-12 12:40:00             9           581   30   \n",
       "4 2018-11-07 07:29:00 2018-11-07 07:35:00             6           390   40   \n",
       "\n",
       "   start_hour  usertype_Customer  usertype_Subscriber  gender_Female  \\\n",
       "0           7                  0                    1              0   \n",
       "1          19                  0                    1              0   \n",
       "2          12                  1                    0              0   \n",
       "3          12                  0                    1              1   \n",
       "4           7                  0                    1              0   \n",
       "\n",
       "   gender_Male  \n",
       "0            1  \n",
       "1            1  \n",
       "2            1  \n",
       "3            0  \n",
       "4            1  "
      ]
     },
     "execution_count": 111,
     "metadata": {},
     "output_type": "execute_result"
    }
   ],
   "source": [
    "mo1=mo.dropna().copy()     #去掉空值\n",
    "mo1=mo1.drop(['Unnamed: 0','user_id','bikeid','from_station_id',\n",
    "              'to_station_id','from_station_id','to_station_id','from_station_name','to_station_name','birthyear'],axis=1)\n",
    "#mo1.loc[:,'age']=mo1['age'].astype('int')    #改类型为int\n",
    "mo1['age']=mo1['age'].astype('int') \n",
    "mo1.loc[:,'start_time']=pd.to_datetime(mo1['start_time'])  #改类型为datetime64\n",
    "mo1.loc[:,'end_time']=pd.to_datetime(mo1['end_time'])        #改类型为datetime64\n",
    "mo1['start_hour']=mo1['start_time'].apply(lambda x:x.hour-0)  #新增每日开始骑行的小时数\n",
    "mo1=pd.get_dummies(mo1)    #哑变量转换\n",
    "mo1.head()\n"
   ]
  },
  {
   "cell_type": "code",
   "execution_count": 112,
   "metadata": {
    "scrolled": true
   },
   "outputs": [
    {
     "data": {
      "text/html": [
       "<div>\n",
       "<style scoped>\n",
       "    .dataframe tbody tr th:only-of-type {\n",
       "        vertical-align: middle;\n",
       "    }\n",
       "\n",
       "    .dataframe tbody tr th {\n",
       "        vertical-align: top;\n",
       "    }\n",
       "\n",
       "    .dataframe thead th {\n",
       "        text-align: right;\n",
       "    }\n",
       "</style>\n",
       "<table border=\"1\" class=\"dataframe\">\n",
       "  <thead>\n",
       "    <tr style=\"text-align: right;\">\n",
       "      <th></th>\n",
       "      <th>timeduration</th>\n",
       "      <th>tripduration</th>\n",
       "      <th>age</th>\n",
       "      <th>start_hour</th>\n",
       "      <th>usertype_Subscriber</th>\n",
       "      <th>gender_Female</th>\n",
       "    </tr>\n",
       "  </thead>\n",
       "  <tbody>\n",
       "    <tr>\n",
       "      <th>0</th>\n",
       "      <td>7</td>\n",
       "      <td>436</td>\n",
       "      <td>37</td>\n",
       "      <td>7</td>\n",
       "      <td>1</td>\n",
       "      <td>0</td>\n",
       "    </tr>\n",
       "    <tr>\n",
       "      <th>1</th>\n",
       "      <td>7</td>\n",
       "      <td>445</td>\n",
       "      <td>31</td>\n",
       "      <td>19</td>\n",
       "      <td>1</td>\n",
       "      <td>0</td>\n",
       "    </tr>\n",
       "    <tr>\n",
       "      <th>2</th>\n",
       "      <td>18</td>\n",
       "      <td>1090</td>\n",
       "      <td>30</td>\n",
       "      <td>12</td>\n",
       "      <td>0</td>\n",
       "      <td>0</td>\n",
       "    </tr>\n",
       "    <tr>\n",
       "      <th>3</th>\n",
       "      <td>9</td>\n",
       "      <td>581</td>\n",
       "      <td>30</td>\n",
       "      <td>12</td>\n",
       "      <td>1</td>\n",
       "      <td>1</td>\n",
       "    </tr>\n",
       "    <tr>\n",
       "      <th>4</th>\n",
       "      <td>6</td>\n",
       "      <td>390</td>\n",
       "      <td>40</td>\n",
       "      <td>7</td>\n",
       "      <td>1</td>\n",
       "      <td>0</td>\n",
       "    </tr>\n",
       "  </tbody>\n",
       "</table>\n",
       "</div>"
      ],
      "text/plain": [
       "   timeduration  tripduration  age  start_hour  usertype_Subscriber  \\\n",
       "0             7           436   37           7                    1   \n",
       "1             7           445   31          19                    1   \n",
       "2            18          1090   30          12                    0   \n",
       "3             9           581   30          12                    1   \n",
       "4             6           390   40           7                    1   \n",
       "\n",
       "   gender_Female  \n",
       "0              0  \n",
       "1              0  \n",
       "2              0  \n",
       "3              1  \n",
       "4              0  "
      ]
     },
     "execution_count": 112,
     "metadata": {},
     "output_type": "execute_result"
    }
   ],
   "source": [
    "mo2=mo1.drop(['start_time','end_time','gender_Male','usertype_Customer'],axis=1) #去掉多余信息\n",
    "mo2.head()"
   ]
  },
  {
   "cell_type": "code",
   "execution_count": 134,
   "metadata": {
    "scrolled": true
   },
   "outputs": [
    {
     "name": "stdout",
     "output_type": "stream",
     "text": [
      "0.9351433162052254\n"
     ]
    }
   ],
   "source": [
    "#开始聚类分析模型\n",
    "from sklearn import cluster\n",
    "from sklearn import preprocessing\n",
    "mo3=pd.DataFrame(preprocessing.scale(mo2))     #数据标准化\n",
    "model=cluster.KMeans(n_clusters=4,random_state=1)  #分成4个群，设置随机数种子1\n",
    "model.fit(mo3)  \n",
    "#评估模型\n",
    "from sklearn import metrics\n",
    "mo_cluster=model.fit_predict(mo2)    #生成输出集\n",
    "score=metrics.silhouette_score(mo2,mo_cluster)# 计算轮廓系数\n",
    "print(score)  #聚类效果很好；"
   ]
  },
  {
   "cell_type": "code",
   "execution_count": 136,
   "metadata": {},
   "outputs": [
    {
     "name": "stdout",
     "output_type": "stream",
     "text": [
      "0.983432351580415\n"
     ]
    }
   ],
   "source": [
    "#调整K簇优化模型\n",
    "from sklearn import cluster\n",
    "from sklearn import preprocessing\n",
    "mo3=pd.DataFrame(preprocessing.scale(mo2))     #数据标准化\n",
    "model=cluster.KMeans(n_clusters=3,random_state=1)  #分成3个群，设置随机数种子1\n",
    "model.fit(mo3)  \n",
    "mo2['cluster']=model.labels_  #添加分群标签\n",
    "from sklearn import metrics\n",
    "mo_cluster=model.fit_predict(mo2)    #生成输出集\n",
    "score=metrics.silhouette_score(mo2,mo_cluster)# 计算轮廓系数\n",
    "print(score)  #聚类效果更好，则取此模型；"
   ]
  },
  {
   "cell_type": "code",
   "execution_count": 137,
   "metadata": {
    "scrolled": false
   },
   "outputs": [
    {
     "data": {
      "text/html": [
       "<div>\n",
       "<style scoped>\n",
       "    .dataframe tbody tr th:only-of-type {\n",
       "        vertical-align: middle;\n",
       "    }\n",
       "\n",
       "    .dataframe tbody tr th {\n",
       "        vertical-align: top;\n",
       "    }\n",
       "\n",
       "    .dataframe thead th {\n",
       "        text-align: right;\n",
       "    }\n",
       "</style>\n",
       "<table border=\"1\" class=\"dataframe\">\n",
       "  <thead>\n",
       "    <tr style=\"text-align: right;\">\n",
       "      <th></th>\n",
       "      <th></th>\n",
       "      <th>age</th>\n",
       "      <th>gender_Female</th>\n",
       "      <th>start_hour</th>\n",
       "      <th>timeduration</th>\n",
       "      <th>tripduration</th>\n",
       "      <th>usertype_Subscriber</th>\n",
       "    </tr>\n",
       "    <tr>\n",
       "      <th>cluster</th>\n",
       "      <th>gender_Female</th>\n",
       "      <th></th>\n",
       "      <th></th>\n",
       "      <th></th>\n",
       "      <th></th>\n",
       "      <th></th>\n",
       "      <th></th>\n",
       "    </tr>\n",
       "  </thead>\n",
       "  <tbody>\n",
       "    <tr>\n",
       "      <th rowspan=\"2\" valign=\"top\">0</th>\n",
       "      <th>0</th>\n",
       "      <td>33.196078</td>\n",
       "      <td>153</td>\n",
       "      <td>13.555556</td>\n",
       "      <td>20.032680</td>\n",
       "      <td>3655.601307</td>\n",
       "      <td>2.0</td>\n",
       "    </tr>\n",
       "    <tr>\n",
       "      <th>1</th>\n",
       "      <td>35.464286</td>\n",
       "      <td>56</td>\n",
       "      <td>13.214286</td>\n",
       "      <td>21.625000</td>\n",
       "      <td>2359.142857</td>\n",
       "      <td>0.0</td>\n",
       "    </tr>\n",
       "    <tr>\n",
       "      <th>1</th>\n",
       "      <th>0</th>\n",
       "      <td>37.054639</td>\n",
       "      <td>4484</td>\n",
       "      <td>13.146744</td>\n",
       "      <td>10.246655</td>\n",
       "      <td>682.916369</td>\n",
       "      <td>4484.0</td>\n",
       "    </tr>\n",
       "    <tr>\n",
       "      <th>2</th>\n",
       "      <th>1</th>\n",
       "      <td>34.932530</td>\n",
       "      <td>1245</td>\n",
       "      <td>13.376707</td>\n",
       "      <td>11.204016</td>\n",
       "      <td>761.816867</td>\n",
       "      <td>1245.0</td>\n",
       "    </tr>\n",
       "  </tbody>\n",
       "</table>\n",
       "</div>"
      ],
      "text/plain": [
       "                             age  gender_Female  start_hour  timeduration  \\\n",
       "cluster gender_Female                                                       \n",
       "0       0              33.196078            153   13.555556     20.032680   \n",
       "        1              35.464286             56   13.214286     21.625000   \n",
       "1       0              37.054639           4484   13.146744     10.246655   \n",
       "2       1              34.932530           1245   13.376707     11.204016   \n",
       "\n",
       "                       tripduration  usertype_Subscriber  \n",
       "cluster gender_Female                                     \n",
       "0       0               3655.601307                  2.0  \n",
       "        1               2359.142857                  0.0  \n",
       "1       0                682.916369               4484.0  \n",
       "2       1                761.816867               1245.0  "
      ]
     },
     "execution_count": 137,
     "metadata": {},
     "output_type": "execute_result"
    }
   ],
   "source": [
    "#数据透视表，age取平均，gender_Female取count用来计算人数，start_hour取平均，usertype_Subscriber取sum计算订阅者人数,timeduration去平均；\n",
    "mo2.pivot_table(index=['cluster','gender_Female'],\n",
    "                values=['age','start_hour','usertype_Subscriber','gender_Female','timeduration','tripduration'],\n",
    "                aggfunc={'age':'mean','start_hour':'mean','usertype_Subscriber':'sum',\n",
    "                         'gender_Female':'count','timeduration':'mean','tripduration':'mean'})"
   ]
  },
  {
   "cell_type": "markdown",
   "metadata": {},
   "source": [
    "- 性别上，0群体均为男性，1群体均为女性，2群体男女皆有且男性人数大于女性人数\n",
    "- 订阅上，0和1群体均为订阅者，2群体几乎没有订阅者；\n",
    "- 年龄上，0群体年龄比1和2均高；\n",
    "- 骑行时长和距离上，0和1的骑行时长和骑行距离均显著小于2，说明订阅用户多用于短距高频出行；\n",
    "- 出行时刻上，3个群体start_hour基本一致；"
   ]
  },
  {
   "cell_type": "markdown",
   "metadata": {},
   "source": [
    "## 总结\n",
    "- 用户群0：单次骑行时长和距离均较小的男性订阅用户，年龄相对较大；\n",
    "- 用户群1：单次骑行时长和距离均较小的女性订阅用户，年龄较1群体大；\n",
    "- 用户群2：单次单次骑行时长和距离都较长的非订阅用户，年龄较0群体小，与1群体接近；\n",
    "- 对于用户群2，低频长距用户，次数包比时间包对他们来说更具吸引力；\n",
    "- 0群体和1群体都是短途高频用户，包月对于他们来说更优惠，可推出更长周期套餐和其他本地生活类APP共同会员提升用户粘性；"
   ]
  },
  {
   "cell_type": "code",
   "execution_count": null,
   "metadata": {},
   "outputs": [],
   "source": []
  }
 ],
 "metadata": {
  "kernelspec": {
   "display_name": "Python 3",
   "language": "python",
   "name": "python3"
  },
  "language_info": {
   "codemirror_mode": {
    "name": "ipython",
    "version": 3
   },
   "file_extension": ".py",
   "mimetype": "text/x-python",
   "name": "python",
   "nbconvert_exporter": "python",
   "pygments_lexer": "ipython3",
   "version": "3.7.7"
  }
 },
 "nbformat": 4,
 "nbformat_minor": 4
}
