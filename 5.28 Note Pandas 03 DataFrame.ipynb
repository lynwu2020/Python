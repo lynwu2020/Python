{
 "cells": [
  {
   "cell_type": "code",
   "execution_count": null,
   "metadata": {
    "collapsed": true
   },
   "outputs": [],
   "source": [
    "'''\n",
    "【课程2.14】  数值计算和统计基础\n",
    "\n",
    "常用数学、统计方法\n",
    "'''"
   ]
  },
  {
   "cell_type": "code",
   "execution_count": 9,
   "metadata": {},
   "outputs": [
    {
     "name": "stdout",
     "output_type": "stream",
     "text": [
      "<class 'pandas.core.frame.DataFrame'>\n",
      "Index: 5 entries, a to e\n",
      "Data columns (total 3 columns):\n",
      " #   Column  Non-Null Count  Dtype  \n",
      "---  ------  --------------  -----  \n",
      " 0   key1    4 non-null      float64\n",
      " 1   key2    4 non-null      float64\n",
      " 2   key3    5 non-null      object \n",
      "dtypes: float64(2), object(1)\n",
      "memory usage: 160.0+ bytes\n"
     ]
    },
    {
     "data": {
      "text/html": [
       "<div>\n",
       "<style scoped>\n",
       "    .dataframe tbody tr th:only-of-type {\n",
       "        vertical-align: middle;\n",
       "    }\n",
       "\n",
       "    .dataframe tbody tr th {\n",
       "        vertical-align: top;\n",
       "    }\n",
       "\n",
       "    .dataframe thead th {\n",
       "        text-align: right;\n",
       "    }\n",
       "</style>\n",
       "<table border=\"1\" class=\"dataframe\">\n",
       "  <thead>\n",
       "    <tr style=\"text-align: right;\">\n",
       "      <th></th>\n",
       "      <th>key1</th>\n",
       "      <th>key2</th>\n",
       "    </tr>\n",
       "  </thead>\n",
       "  <tbody>\n",
       "    <tr>\n",
       "      <th>count</th>\n",
       "      <td>4.000000</td>\n",
       "      <td>4.000000</td>\n",
       "    </tr>\n",
       "    <tr>\n",
       "      <th>mean</th>\n",
       "      <td>3.500000</td>\n",
       "      <td>3.000000</td>\n",
       "    </tr>\n",
       "    <tr>\n",
       "      <th>std</th>\n",
       "      <td>1.290994</td>\n",
       "      <td>1.825742</td>\n",
       "    </tr>\n",
       "    <tr>\n",
       "      <th>min</th>\n",
       "      <td>2.000000</td>\n",
       "      <td>1.000000</td>\n",
       "    </tr>\n",
       "    <tr>\n",
       "      <th>25%</th>\n",
       "      <td>2.750000</td>\n",
       "      <td>1.750000</td>\n",
       "    </tr>\n",
       "    <tr>\n",
       "      <th>50%</th>\n",
       "      <td>3.500000</td>\n",
       "      <td>3.000000</td>\n",
       "    </tr>\n",
       "    <tr>\n",
       "      <th>75%</th>\n",
       "      <td>4.250000</td>\n",
       "      <td>4.250000</td>\n",
       "    </tr>\n",
       "    <tr>\n",
       "      <th>max</th>\n",
       "      <td>5.000000</td>\n",
       "      <td>5.000000</td>\n",
       "    </tr>\n",
       "  </tbody>\n",
       "</table>\n",
       "</div>"
      ],
      "text/plain": [
       "           key1      key2\n",
       "count  4.000000  4.000000\n",
       "mean   3.500000  3.000000\n",
       "std    1.290994  1.825742\n",
       "min    2.000000  1.000000\n",
       "25%    2.750000  1.750000\n",
       "50%    3.500000  3.000000\n",
       "75%    4.250000  4.250000\n",
       "max    5.000000  5.000000"
      ]
     },
     "execution_count": 9,
     "metadata": {},
     "output_type": "execute_result"
    }
   ],
   "source": [
    "#查看基本信息\n",
    "\n",
    "import numpy as np\n",
    "import pandas as pd \n",
    "\n",
    "df = pd.DataFrame({'key1':[4,5,3,np.nan,2],\n",
    "                 'key2':[1,2,np.nan,4,5],\n",
    "                 'key3':[1,2,3,'j','k']},\n",
    "                 index = ['a','b','c','d','e'])    #np.nan代表空值\n",
    "df.info()   #查看描述\n",
    "df.describe()   #查看基础描述统计信息"
   ]
  },
  {
   "cell_type": "code",
   "execution_count": 8,
   "metadata": {
    "scrolled": true
   },
   "outputs": [
    {
     "name": "stdout",
     "output_type": "stream",
     "text": [
      "   key1  key2 key3\n",
      "a   4.0   1.0    1\n",
      "b   5.0   2.0    2\n",
      "c   3.0   NaN    3\n",
      "d   NaN   4.0    j\n",
      "e   2.0   5.0    k \n",
      "\n",
      "float64 \n",
      "\n",
      "key1    3.5\n",
      "key2    3.0\n",
      "dtype: float64 \n",
      "\n",
      "a    2.5\n",
      "b    3.5\n",
      "c    3.0\n",
      "d    4.0\n",
      "e    3.5\n",
      "dtype: float64 \n",
      "\n",
      "可单独统计一列: 3.0\n",
      "a    2.5\n",
      "b    3.5\n",
      "c    NaN\n",
      "d    NaN\n",
      "e    3.5\n",
      "dtype: float64 \n",
      "\n"
     ]
    }
   ],
   "source": [
    "# 基本参数 axis\\skipna\n",
    "print(df,'\\n')\n",
    "print(df['key1'].dtype,'\\n')\n",
    "print(df.mean(),'\\n')  #默认axis=0,跨行down，按照列计算，默认跳过空值，\n",
    "print(df.mean(axis=1),'\\n') #axis=1,跨列across，按照行计算，默认跳过空值\n",
    "print('可单独统计一列:',df['key2'].mean()) #可通过索引单独统计一列或者一行，或者多列多行\n",
    "print(df.mean(axis=1,skipna=False),'\\n') #skipna=False,则不跳过空值，则遇到空值计算结果为NaN"
   ]
  },
  {
   "cell_type": "code",
   "execution_count": 3,
   "metadata": {},
   "outputs": [
    {
     "name": "stdout",
     "output_type": "stream",
     "text": [
      "<class 'pandas.core.frame.DataFrame'>\n",
      "Index: 5 entries, a to e\n",
      "Data columns (total 3 columns):\n",
      " #   Column  Non-Null Count  Dtype  \n",
      "---  ------  --------------  -----  \n",
      " 0   key1    4 non-null      float64\n",
      " 1   key2    4 non-null      float64\n",
      " 2   key3    5 non-null      object \n",
      "dtypes: float64(2), object(1)\n",
      "memory usage: 160.0+ bytes\n"
     ]
    }
   ],
   "source": []
  },
  {
   "cell_type": "code",
   "execution_count": 12,
   "metadata": {},
   "outputs": [
    {
     "name": "stdout",
     "output_type": "stream",
     "text": [
      "   key1      key2\n",
      "0     0  1.919390\n",
      "1     1  9.543999\n",
      "2     2  3.773362\n",
      "3     3  3.278726\n",
      "4     4  7.600340\n",
      "-----\n",
      "key1    5\n",
      "key2    5\n",
      "dtype: int64 → count统计非Na值的数量\n",
      "\n",
      "key1    0.00000\n",
      "key2    1.91939\n",
      "dtype: float64 → min统计最小值\n",
      " 9.543999315078628 → max统计最大值\n",
      "\n",
      "key1    3.00000\n",
      "key2    7.60034\n",
      "Name: 0.75, dtype: float64 → quantile统计分位数，参数q确定位置\n",
      "\n",
      "key1    10.000000\n",
      "key2    26.115817\n",
      "dtype: float64 → sum求和\n",
      "\n",
      "key1    2.000000\n",
      "key2    5.223163\n",
      "dtype: float64 → mean求平均值\n",
      "\n",
      "key1    2.000000\n",
      "key2    3.773362\n",
      "dtype: float64 → median求算数中位数，50%分位数\n",
      "\n",
      "key1    1.581139\n",
      "key2    3.206177\n",
      "dtype: float64 \n",
      " key1     2.500000\n",
      "key2    10.279568\n",
      "dtype: float64 → std,var分别求标准差，方差\n",
      "\n",
      "key1    0.000000\n",
      "key2    0.602309\n",
      "dtype: float64 → skew样本的偏度\n",
      "\n",
      "key1   -1.200000\n",
      "key2   -1.868424\n",
      "dtype: float64 → kurt样本的峰度\n",
      "\n"
     ]
    }
   ],
   "source": [
    "# 主要数学计算方法，可用于Series和DataFrame（1）\n",
    "df = pd.DataFrame({'key1':np.arange(5),\n",
    "                  'key2':np.random.rand(5)*10})\n",
    "print(df)\n",
    "print('-----')\n",
    "print(df.count(),'→ count统计非Na值的数量\\n')\n",
    "print(df.min(),'→ min统计最小值\\n',df['key2'].max(),'→ max统计最大值\\n')\n",
    "print(df.quantile(q=0.75),'→ quantile统计分位数，参数q确定位置\\n')\n",
    "print(df.sum(),'→ sum求和\\n')\n",
    "print(df.mean(),'→ mean求平均值\\n')\n",
    "print(df.median(),'→ median求算数中位数，50%分位数\\n')\n",
    "print(df.std(),'\\n',df.var(),'→ std,var分别求标准差，方差\\n')\n",
    "print(df.skew(),'→ skew样本的偏度\\n')\n",
    "print(df.kurt(),'→ kurt样本的峰度\\n')"
   ]
  },
  {
   "cell_type": "code",
   "execution_count": 13,
   "metadata": {},
   "outputs": [
    {
     "name": "stdout",
     "output_type": "stream",
     "text": [
      "   key1      key2  key1_s     key2_s\n",
      "0     0  1.919390       0   1.919390\n",
      "1     1  9.543999       1  11.463389\n",
      "2     2  3.773362       3  15.236751\n",
      "3     3  3.278726       6  18.515477\n",
      "4     4  7.600340      10  26.115817 → cumsum样本的累计和\n",
      "\n",
      "   key1      key2  key1_s     key2_s  key1_p       key2_p\n",
      "0     0  1.919390       0   1.919390       0     1.919390\n",
      "1     1  9.543999       1  11.463389       0    18.318656\n",
      "2     2  3.773362       3  15.236751       0    69.122912\n",
      "3     3  3.278726       6  18.515477       0   226.635114\n",
      "4     4  7.600340      10  26.115817       0  1722.503913 → cumprod样本的累计积\n",
      "\n",
      "   key1      key2  key1_s     key2_s  key1_p       key2_p\n",
      "0     0  1.919390       0   1.919390       0     1.919390\n",
      "1     1  9.543999       1  11.463389       0    18.318656\n",
      "2     2  9.543999       3  15.236751       0    69.122912\n",
      "3     3  9.543999       6  18.515477       0   226.635114\n",
      "4     4  9.543999      10  26.115817       0  1722.503913 \n",
      "    key1     key2  key1_s   key2_s  key1_p   key2_p\n",
      "0     0  1.91939       0  1.91939       0  1.91939\n",
      "1     0  1.91939       0  1.91939       0  1.91939\n",
      "2     0  1.91939       0  1.91939       0  1.91939\n",
      "3     0  1.91939       0  1.91939       0  1.91939\n",
      "4     0  1.91939       0  1.91939       0  1.91939 → cummax,cummin分别求累计最大值，累计最小值\n",
      "\n"
     ]
    }
   ],
   "source": [
    "# 主要数学计算方法，可用于Series和DataFrame（2）\n",
    "df['key1_s'] = df['key1'].cumsum()   #累加\n",
    "df['key2_s'] = df['key2'].cumsum()   #累加\n",
    "print(df,'→ cumsum样本的累计和\\n')\n",
    "\n",
    "df['key1_p'] = df['key1'].cumprod()  #累乘\n",
    "df['key2_p'] = df['key2'].cumprod()  #累乘\n",
    "print(df,'→ cumprod样本的累计积\\n')\n",
    "print(df.cummax(),'\\n',df.cummin(),'→ cummax,cummin分别求累计最大值，累计最小值\\n')\n",
    "# 会填充key1，和key2的值"
   ]
  },
  {
   "cell_type": "code",
   "execution_count": 15,
   "metadata": {},
   "outputs": [
    {
     "name": "stdout",
     "output_type": "stream",
     "text": [
      "0    a\n",
      "1    d\n",
      "2    a\n",
      "3    s\n",
      "4    d\n",
      "5    f\n",
      "6    g\n",
      "7    g\n",
      "dtype: object \n",
      "\n",
      "['a' 'd' 's' 'f' 'g'] <class 'numpy.ndarray'> \n",
      "\n",
      "0    a\n",
      "1    d\n",
      "2    s\n",
      "3    f\n",
      "4    g\n",
      "dtype: object \n",
      "\n",
      "['a' 'd' 'f' 'g' 's'] \n",
      "\n"
     ]
    }
   ],
   "source": [
    "# 唯一值：.unique()\n",
    "s = pd.Series(list('adasdfgg'))\n",
    "sq = s.unique()   \n",
    "print(s,'\\n')\n",
    "print(sq,type(sq),'\\n')   #输出不重复的值为ndarray\n",
    "print(pd.Series(sq),'\\n')  # 通过pd.Series重新变成新的Series\n",
    "sq.sort()   # 重新排序\n",
    "print(sq,'\\n')"
   ]
  },
  {
   "cell_type": "code",
   "execution_count": 16,
   "metadata": {},
   "outputs": [
    {
     "name": "stdout",
     "output_type": "stream",
     "text": [
      "d    2\n",
      "s    1\n",
      "a    2\n",
      "f    1\n",
      "g    2\n",
      "dtype: int64\n"
     ]
    }
   ],
   "source": [
    "# 值计数：.value_counts()\n",
    "sc = s.value_counts(sort = False)  # 也可以这样写：pd.value_counts(sc, sort = False)\n",
    "print(sc)  # 得到一个新的Series，计算出不同值出现的频率,sort参数：排序，默认为True"
   ]
  },
  {
   "cell_type": "code",
   "execution_count": 17,
   "metadata": {},
   "outputs": [
    {
     "name": "stdout",
     "output_type": "stream",
     "text": [
      "0    10\n",
      "1    11\n",
      "2    12\n",
      "3    13\n",
      "4    14\n",
      "dtype: int64 \n",
      "\n",
      "  key1  key2\n",
      "0    a     4\n",
      "1    s     5\n",
      "2    d     6\n",
      "3    c     7\n",
      "4    b     8\n",
      "5    v     9\n",
      "6    a    10\n",
      "7    s    11\n",
      "8    d    12 \n",
      "\n",
      "0    False\n",
      "1    False\n",
      "2    False\n",
      "3    False\n",
      "4     True\n",
      "dtype: bool \n",
      "\n",
      "    key1   key2\n",
      "0   True  False\n",
      "1  False  False\n",
      "2  False  False\n",
      "3  False  False\n",
      "4  False   True\n",
      "5  False  False\n",
      "6   True  False\n",
      "7  False  False\n",
      "8  False  False \n",
      "\n"
     ]
    }
   ],
   "source": [
    "# 成员资格：.isin()\n",
    "s = pd.Series(np.arange(10,15))\n",
    "df = pd.DataFrame({'key1':list('asdcbvasd'),\n",
    "                  'key2':np.arange(4,13)})\n",
    "print(s,'\\n')\n",
    "print(df,'\\n')\n",
    "print(s.isin([5,14]),'\\n')  # 用[]表示\n",
    "print(df.isin(['a','bc','10',8]),'\\n') # 得到一个布尔值的Series或者Dataframe"
   ]
  },
  {
   "cell_type": "markdown",
   "metadata": {},
   "source": [
    "######## 本节课有作业，请查看 “课程作业.docx”  ########"
   ]
  },
  {
   "cell_type": "code",
   "execution_count": null,
   "metadata": {
    "collapsed": true
   },
   "outputs": [],
   "source": [
    "'''\n",
    "【课程2.15】  文本数据\n",
    "\n",
    "Pandas针对字符串配备的一套方法，使其易于对数组的每个元素进行操作\n",
    " \n",
    "'''"
   ]
  },
  {
   "cell_type": "code",
   "execution_count": 11,
   "metadata": {},
   "outputs": [
    {
     "name": "stdout",
     "output_type": "stream",
     "text": [
      "0          A\n",
      "1          b\n",
      "2    bbhello\n",
      "3        123\n",
      "4        NaN\n",
      "5         hj\n",
      "dtype: object \n",
      "\n",
      "  key1  key2\n",
      "0    b   hee\n",
      "1    c    fv\n",
      "2    d  hija\n",
      "3    e   123\n",
      "4    f   NaN \n",
      "\n",
      "0    0.0\n",
      "1    1.0\n",
      "2    2.0\n",
      "3    0.0\n",
      "4    NaN\n",
      "5    0.0\n",
      "dtype: float64 \n",
      "\n",
      "0    B\n",
      "1    C\n",
      "2    D\n",
      "3    E\n",
      "4    F\n",
      "Name: key1, dtype: object \n",
      "\n",
      "  KEY1  KEY2\n",
      "0    b   hee\n",
      "1    c    fv\n",
      "2    d  hija\n",
      "3    e   123\n",
      "4    f   NaN \n",
      "\n"
     ]
    }
   ],
   "source": [
    "# 通过str访问，且自动排除丢失/ NA值\n",
    "s = pd.Series(['A','b','bbhello','123',np.nan,'hj'])\n",
    "df = pd.DataFrame({'key1':list('bcdef'),\n",
    "                  'key2':['hee','fv','hija','123',np.nan]})\n",
    "print(s,'\\n')\n",
    "print(df,'\\n')\n",
    "print(s.str.count('b'),'\\n')   #计算b这个字母一共出现多少个\n",
    "print(df['key1'].str.upper(),'\\n')  #全部变成大写\n",
    "df.columns=df.columns.str.upper()   #columns大写\n",
    "print(df,'\\n')"
   ]
  },
  {
   "cell_type": "code",
   "execution_count": 9,
   "metadata": {},
   "outputs": [
    {
     "name": "stdout",
     "output_type": "stream",
     "text": [
      "0          a\n",
      "1          b\n",
      "2    bbhello\n",
      "3        NaN\n",
      "dtype: object → lower小写\n",
      "\n",
      "0          A\n",
      "1          B\n",
      "2    BBHELLO\n",
      "3        NaN\n",
      "dtype: object → upper大写\n",
      "\n",
      "0    1.0\n",
      "1    1.0\n",
      "2    7.0\n",
      "3    NaN\n",
      "dtype: float64 → len字符长度\n",
      "\n",
      "0    False\n",
      "1     True\n",
      "2     True\n",
      "3      NaN\n",
      "dtype: object → 判断起始是否为a\n",
      "\n",
      "0    False\n",
      "1    False\n",
      "2    False\n",
      "3      NaN\n",
      "dtype: object → 判断结束是否为3\n",
      "\n"
     ]
    }
   ],
   "source": [
    "# 字符串常用方法（1） - lower，upper，len，startswith，endswith\n",
    "s = pd.Series(['A','b','bbhello',np.nan])\n",
    "print(s.str.lower(),'→ lower小写\\n')\n",
    "print(s.str.upper(),'→ upper大写\\n')\n",
    "print(s.str.len(),'→ len字符长度\\n')\n",
    "print(s.str.startswith('b'),'→ 判断起始是否为a\\n')\n",
    "print(s.str.endswith('3'),'→ 判断结束是否为3\\n')"
   ]
  },
  {
   "cell_type": "code",
   "execution_count": 14,
   "metadata": {},
   "outputs": [
    {
     "name": "stdout",
     "output_type": "stream",
     "text": [
      "0       jack\n",
      "1      jill \n",
      "2     jesse \n",
      "3      frank\n",
      "dtype: object \n",
      "\n",
      "    Column A    Column B \n",
      "0    1.095120    1.359854\n",
      "1   -1.263509    0.570996\n",
      "2    0.701695   -1.105228 \n",
      "\n",
      "['jack' 'jill' 'jesse' 'frank'] \n",
      "\n",
      "0      jack\n",
      "1     jill \n",
      "2    jesse \n",
      "3     frank\n",
      "dtype: object \n",
      "\n",
      "0      jack\n",
      "1      jill\n",
      "2     jesse\n",
      "3     frank\n",
      "dtype: object \n",
      "\n",
      "   Column A  Column B\n",
      "0  1.095120  1.359854\n",
      "1 -1.263509  0.570996\n",
      "2  0.701695 -1.105228\n"
     ]
    }
   ],
   "source": [
    "# 字符串常用方法（2） - strip\n",
    "\n",
    "s = pd.Series([' jack', 'jill ', ' jesse ', 'frank'])\n",
    "df = pd.DataFrame(np.random.randn(3, 2), columns=[' Column A ', ' Column B '],\n",
    "                  index=range(3))\n",
    "print(s,'\\n')\n",
    "print(df,'\\n')\n",
    "print(s.str.strip().values,'\\n')  # 去除字符串中的空格\n",
    "print(s.str.lstrip(),'\\n')  # 去除字符串中的左空格\n",
    "print(s.str.rstrip(),'\\n')  # 去除字符串中的右空格\n",
    "df.columns = df.columns.str.strip()  # 这里去掉了columns的前后空格，但没有去掉中间空格\n",
    "print(df)"
   ]
  },
  {
   "cell_type": "code",
   "execution_count": 10,
   "metadata": {},
   "outputs": [
    {
     "name": "stdout",
     "output_type": "stream",
     "text": [
      "   -Column-A-  -Column-B-\n",
      "0    1.855227   -0.519479\n",
      "1   -0.400376   -0.421383\n",
      "2   -0.293797   -0.432481\n",
      "   heheColumn-A-  heheColumn-B-\n",
      "0       1.855227      -0.519479\n",
      "1      -0.400376      -0.421383\n",
      "2      -0.293797      -0.432481\n"
     ]
    }
   ],
   "source": [
    "# 字符串常用方法（3） - replace\n",
    "df = pd.DataFrame(np.random.randn(3, 2), columns=[' Column A ', ' Column B '],\n",
    "                  index=range(3))\n",
    "df.columns = df.columns.str.replace(' ','-') #替换所有的空格\n",
    "print(df)  \n",
    "df.columns = df.columns.str.replace('-','hehe',n=1)  #替换第一个空格\n",
    "print(df)    "
   ]
  },
  {
   "cell_type": "code",
   "execution_count": 36,
   "metadata": {},
   "outputs": [
    {
     "name": "stdout",
     "output_type": "stream",
     "text": [
      "0    [a, b, c]\n",
      "1    [1, 2, 3]\n",
      "2          NaN\n",
      "3          NaN\n",
      "dtype: object \n",
      "\n",
      "['a', 'b', 'c'] \n",
      "\n",
      "0      a\n",
      "1      1\n",
      "2    NaN\n",
      "3    NaN\n",
      "dtype: object \n",
      "\n",
      "0      a\n",
      "1      1\n",
      "2    NaN\n",
      "3    NaN\n",
      "dtype: object \n",
      "\n",
      "************************************************************\n",
      "     0    1    2\n",
      "0    a    b    c\n",
      "1    1    2    3\n",
      "2  NaN  NaN  NaN\n",
      "3  NaN  NaN  NaN\n",
      "     0    1\n",
      "0    a  b,c\n",
      "1    1  2,3\n",
      "2  NaN  NaN\n",
      "3  NaN  NaN\n",
      "     0    1\n",
      "0  a,b    c\n",
      "1  1,2    3\n",
      "2  NaN  NaN\n",
      "3  NaN  NaN\n",
      "************************************************************\n",
      "     0    1    2\n",
      "0    a    b    c\n",
      "1    1    2    3\n",
      "2  NaN  NaN  NaN\n"
     ]
    }
   ],
   "source": [
    "# 字符串常用方法（4） - split、rsplit\n",
    "s = pd.Series(['a,b,c','1,2,3',['a,,,c'],np.nan])\n",
    "print(s.str.split(','),'\\n')  # 针对所有字符串元素split\n",
    "print(s.str.split(',')[0],'\\n')  # 直接索引得到一个list，再次索引即可提取到元素\n",
    "# 可以使用get或[]符号访问拆分列表中的元素\n",
    "print(s.str.split(',').str[0],'\\n')  #转化成字符串并取字符串第一个字符，生成series\n",
    "print(s.str.split(',').str.get(0),'\\n')  #转化成字符串，.get(1)取字符串中第1个字符，生成series\n",
    "print('*'*60)\n",
    "# 可以使用expand分出扩展列以返回DataFrame\n",
    "print(s.str.split(',', expand=True))     #\n",
    "print(s.str.split(',', expand=True, n = 1))   # n参数限制分割数，1即代表分出1个新列\n",
    "print(s.str.rsplit(',', expand=True, n = 1))   # rsplit类似于split，反向工作，即从字符串的末尾到字符串的开头\n",
    "print('*'*60)\n",
    "df = pd.DataFrame({'key1':['a,b,c','1,2,3',[':,., ']],\n",
    "                  'key2':['a-b-c','1-2-3',[':-.- ']]})\n",
    "print(df['key2'].str.split('-',expand=True,n=2))\n",
    "# Dataframe使用split"
   ]
  },
  {
   "cell_type": "code",
   "execution_count": 37,
   "metadata": {},
   "outputs": [
    {
     "name": "stdout",
     "output_type": "stream",
     "text": [
      "0      A\n",
      "1      b\n",
      "2      C\n",
      "3      b\n",
      "4      1\n",
      "5    NaN\n",
      "6      h\n",
      "dtype: object \n",
      "\n",
      "0      A\n",
      "1      b\n",
      "2      C\n",
      "3     bb\n",
      "4     12\n",
      "5    NaN\n",
      "6     hj\n",
      "dtype: object \n",
      "\n",
      "0      h\n",
      "1      f\n",
      "2      w\n",
      "3      h\n",
      "4      1\n",
      "5    NaN\n",
      "Name: key2, dtype: object \n",
      "\n"
     ]
    }
   ],
   "source": [
    "# 字符串索引\n",
    "s = pd.Series(['A','b','C','bbhello','123',np.nan,'hj'])\n",
    "df = pd.DataFrame({'key1':list('abcdef'),\n",
    "                  'key2':['hee','fv','w','hija','123',np.nan]})\n",
    "print(s.str[0],'\\n')   # 取该列第一个字符\n",
    "print(s.str[:2],'\\n')  # 取该列前两个字符\n",
    "print(df['key2'].str[0],'\\n')  # 取key2列前两个字符\n",
    "# str和字符串本身索引方式相同"
   ]
  },
  {
   "cell_type": "markdown",
   "metadata": {},
   "source": [
    "######## 本节课有作业，请查看 “课程作业.docx”  ########"
   ]
  },
  {
   "cell_type": "code",
   "execution_count": null,
   "metadata": {
    "collapsed": true
   },
   "outputs": [],
   "source": [
    "'''\n",
    "【课程2.16】  合并 merge、join\n",
    "\n",
    "Pandas具有全功能的，高性能内存中连接操作，与SQL等关系数据库非常相似\n",
    "\n",
    "pd.merge(left, right, how='inner', on=None, left_on=None, right_on=None,\n",
    "         left_index=False, right_index=False, sort=True,\n",
    "         suffixes=('_x', '_y'), copy=True, indicator=False)\n",
    " \n",
    "'''"
   ]
  },
  {
   "cell_type": "code",
   "execution_count": 41,
   "metadata": {},
   "outputs": [
    {
     "name": "stdout",
     "output_type": "stream",
     "text": [
      "  key   A   B   C   D\n",
      "0  K0  A0  B0  C0  D0\n",
      "1  K1  A1  B1  C1  D1\n",
      "2  K2  A2  B2  C2  D2\n",
      "3  K3  A3  B3  C3  D3\n",
      "------------------------------------------------------------\n",
      "  key1 key2   A   B   C   D\n",
      "0   K0   K0  A0  B0  C0  D0\n",
      "1   K1   K0  A2  B2  C1  D1\n",
      "2   K1   K0  A2  B2  C2  D2\n"
     ]
    }
   ],
   "source": [
    "# merge合并 → 类似excel的vlookup\n",
    "#pd.merge(left,right,how= 'inner',on=None,left_on=None,right_on=None,copy: bool = True，suffixes=）\n",
    "df1 = pd.DataFrame({'key': ['K0', 'K1', 'K2', 'K3'],\n",
    "                     'A': ['A0', 'A1', 'A2', 'A3'],\n",
    "                     'B': ['B0', 'B1', 'B2', 'B3']})\n",
    "df2 = pd.DataFrame({'key': ['K0', 'K1', 'K2', 'K3'],\n",
    "                      'C': ['C0', 'C1', 'C2', 'C3'],\n",
    "                      'D': ['D0', 'D1', 'D2', 'D3']})\n",
    "df3 = pd.DataFrame({'key1': ['K0', 'K0', 'K1', 'K2'],\n",
    "                    'key2': ['K0', 'K1', 'K0', 'K1'],\n",
    "                    'A': ['A0', 'A1', 'A2', 'A3'],\n",
    "                    'B': ['B0', 'B1', 'B2', 'B3']})\n",
    "df4 = pd.DataFrame({'key1': ['K0', 'K1', 'K1', 'K2'],\n",
    "                    'key2': ['K0', 'K0', 'K0', 'K0'],\n",
    "                    'C': ['C0', 'C1', 'C2', 'C3'],\n",
    "                    'D': ['D0', 'D1', 'D2', 'D3']})\n",
    "print(pd.merge(df1, df2, on='key'))   # on：参考键\n",
    "print('-'*60)\n",
    "print(pd.merge(df3, df4, on=['key1','key2']))  # 多个链接键，多个键同时满足的时候连接"
   ]
  },
  {
   "cell_type": "code",
   "execution_count": 43,
   "metadata": {},
   "outputs": [
    {
     "name": "stdout",
     "output_type": "stream",
     "text": [
      "  key1 key2   A   B   C   D\n",
      "0   K0   K0  A0  B0  C0  D0\n",
      "1   K1   K0  A2  B2  C1  D1\n",
      "2   K1   K0  A2  B2  C2  D2\n",
      "------------------------------------------------------------\n",
      "  key1 key2    A    B    C    D\n",
      "0   K0   K0   A0   B0   C0   D0\n",
      "1   K0   K1   A1   B1  NaN  NaN\n",
      "2   K1   K0   A2   B2   C1   D1\n",
      "3   K1   K0   A2   B2   C2   D2\n",
      "4   K2   K1   A3   B3  NaN  NaN\n",
      "5   K2   K0  NaN  NaN   C3   D3\n",
      "------------------------------------------------------------\n",
      "  key1 key2   A   B    C    D\n",
      "0   K0   K0  A0  B0   C0   D0\n",
      "1   K0   K1  A1  B1  NaN  NaN\n",
      "2   K1   K0  A2  B2   C1   D1\n",
      "3   K1   K0  A2  B2   C2   D2\n",
      "4   K2   K1  A3  B3  NaN  NaN\n",
      "------------------------------------------------------------\n",
      "  key1 key2    A    B   C   D\n",
      "0   K0   K0   A0   B0  C0  D0\n",
      "1   K1   K0   A2   B2  C1  D1\n",
      "2   K1   K0   A2   B2  C2  D2\n",
      "3   K2   K0  NaN  NaN  C3  D3\n"
     ]
    }
   ],
   "source": [
    "# 参数how → 合并方式\n",
    "print(pd.merge(df3, df4,on=['key1','key2'], how = 'inner'))  # inner：默认，取交集\n",
    "print('-'*60)\n",
    "print(pd.merge(df3, df4, on=['key1','key2'], how = 'outer'))   # outer：取并集，数据缺失范围NaN\n",
    "print('-'*60)\n",
    "print(pd.merge(df3, df4, on=['key1','key2'], how = 'left'))   # left：按照df3为参考合并，数据缺失范围NaN\n",
    "print('-'*60)\n",
    "print(pd.merge(df3, df4, on=['key1','key2'], how = 'right'))   # right：按照df4为参考合并，数据缺失范围NaN"
   ]
  },
  {
   "cell_type": "code",
   "execution_count": 47,
   "metadata": {},
   "outputs": [
    {
     "name": "stdout",
     "output_type": "stream",
     "text": [
      "  lkey  data1 rkey  date2\n",
      "0    b      0    b      1\n",
      "1    b      1    b      1\n",
      "2    a      2    a      0\n",
      "3    a      4    a      0\n",
      "------------------------------------------------------------\n",
      "  key  data1\n",
      "0   a      0\n",
      "1   b      1\n",
      "2   c      2\n",
      "3   d      3\n",
      "4   f      4\n",
      "5   e      5 \n",
      "\n",
      "   date2\n",
      "a    100\n",
      "b    101\n",
      "c    102\n",
      "d    103 \n",
      "\n",
      "  key  data1  date2\n",
      "0   a      0    100\n",
      "1   b      1    101\n",
      "2   c      2    102\n",
      "3   d      3    103\n"
     ]
    }
   ],
   "source": [
    "# 参数 left_on, right_on, left_index, right_index → 当键不为一个列时，可以单独设置左键与右键\n",
    "df1 = pd.DataFrame({'lkey':list('bbaca'),\n",
    "                   'data1':range(5)})\n",
    "df2 = pd.DataFrame({'rkey':list('abd'),\n",
    "                   'date2':range(3)})\n",
    "print(pd.merge(df1, df2, left_on='lkey', right_on='rkey'))  # df1以‘lkey’为键，df2以‘rkey’为键\n",
    "print('-'*60)\n",
    "\n",
    "df1 = pd.DataFrame({'key':list('abcdfe'),\n",
    "                   'data1':range(6)})\n",
    "df2 = pd.DataFrame({'date2':range(100,104)},\n",
    "                  index = list('abcd'))\n",
    "print(df1,'\\n')\n",
    "print(df2,'\\n')\n",
    "# left_index=True则左边的df以index为键，right_index同理\n",
    "print(pd.merge(df1, df2, left_on='key', right_index=True)) # df1以‘key’为键，df2以index为键\n",
    "# left_on, right_on, left_index, right_index可以相互组合"
   ]
  },
  {
   "cell_type": "code",
   "execution_count": 16,
   "metadata": {
    "scrolled": true
   },
   "outputs": [
    {
     "name": "stdout",
     "output_type": "stream",
     "text": [
      "   data1 key  date2\n",
      "0    1.0   b    2.0\n",
      "1    3.0   b    2.0\n",
      "2    7.0   b    2.0\n",
      "3    2.0   a   11.0\n",
      "4    5.0   a   11.0\n",
      "5    9.0   a   11.0\n",
      "6    4.0   c    NaN\n",
      "7    NaN   d   33.0\n",
      "   data1 key  date2\n",
      "0    2.0   a   11.0\n",
      "1    5.0   a   11.0\n",
      "2    9.0   a   11.0\n",
      "3    1.0   b    2.0\n",
      "4    3.0   b    2.0\n",
      "5    7.0   b    2.0\n",
      "6    4.0   c    NaN\n",
      "7    NaN   d   33.0\n",
      "------\n",
      "   data1 key  date2\n",
      "3    1.0   b    2.0\n",
      "0    2.0   a   11.0\n",
      "4    3.0   b    2.0\n",
      "6    4.0   c    NaN\n",
      "1    5.0   a   11.0\n",
      "5    7.0   b    2.0\n",
      "2    9.0   a   11.0\n",
      "7    NaN   d   33.0\n"
     ]
    }
   ],
   "source": [
    "# 参数 sort\n",
    "df1 = pd.DataFrame({'key':list('bbacaab'),\n",
    "                   'data1':[1,3,2,4,5,9,7]})\n",
    "df2 = pd.DataFrame({'key':list('abd'),\n",
    "                   'date2':[11,2,33]})\n",
    "x1 = pd.merge(df1,df2, on = 'key', how = 'outer')\n",
    "x2 = pd.merge(df1,df2, on = 'key', sort=True, how = 'outer')\n",
    "print(x1)\n",
    "print(x2) # sort：按照字典顺序通过 连接键 对结果DataFrame进行排序。默认为False，设置为False会大幅提高性能\n",
    "print('-'*60) \n",
    "print(x2.sort_values('data1')) # 也可直接用Dataframe的排序方法：sort_values，sort_index"
   ]
  },
  {
   "cell_type": "code",
   "execution_count": 51,
   "metadata": {},
   "outputs": [
    {
     "name": "stdout",
     "output_type": "stream",
     "text": [
      "  key  data1\n",
      "0   b      1\n",
      "1   b      3\n",
      "2   a      2\n",
      "3   c      4\n",
      "4   a      5\n",
      "5   a      9\n",
      "6   b      7 \n",
      "\n",
      "  key  date2\n",
      "0   a     11\n",
      "1   b      2\n",
      "2   d     33 \n",
      "\n",
      "  key_1  data1 key_2  date2\n",
      "0     b      1     a     11\n",
      "1     b      3     b      2\n",
      "2     a      2     d     33 \n",
      "\n",
      "  key  data1  date2\n",
      "0   b      1   11.0\n",
      "1   b      3    2.0\n",
      "2   a      2   33.0\n",
      "3   c      4    NaN\n",
      "4   a      5    NaN\n",
      "5   a      9    NaN\n",
      "6   b      7    NaN \n",
      "\n",
      "-----\n"
     ]
    }
   ],
   "source": [
    "# 参数 suffixes=('', '') 连接列分别保留并重命名\n",
    "df1 = pd.DataFrame({'key':list('bbacaab'),\n",
    "                   'data1':[1,3,2,4,5,9,7]})\n",
    "df2 = pd.DataFrame({'key':list('abd'),\n",
    "                   'date2':[11,2,33]})\n",
    "print(df1,'\\n')\n",
    "print(df2,'\\n')\n",
    "print(pd.merge(df1, df2, left_index=True, right_index=True, suffixes=('_1', '_2')),'\\n')  #suffixes，相同键位区分\n",
    "print(df1.join(df2['date2']),'\\n')\n",
    "print('-'*60)\n",
    "# suffixes=('_x', '_y')默认"
   ]
  },
  {
   "cell_type": "code",
   "execution_count": 50,
   "metadata": {
    "scrolled": false
   },
   "outputs": [
    {
     "name": "stdout",
     "output_type": "stream",
     "text": [
      "     A   B    C    D\n",
      "K0  A0  B0   C0   D0\n",
      "K1  A1  B1  NaN  NaN\n",
      "K2  A2  B2   C2   D2 \n",
      "\n",
      "      A    B    C    D\n",
      "K0   A0   B0   C0   D0\n",
      "K1   A1   B1  NaN  NaN\n",
      "K2   A2   B2   C2   D2\n",
      "K3  NaN  NaN   C3   D3 \n",
      "\n",
      "------------------------------------------------------------\n",
      "  key  data1\n",
      "0   b      1\n",
      "1   b      3\n",
      "2   a      2\n",
      "3   c      4\n",
      "4   a      5\n",
      "5   a      9\n",
      "6   b      7 \n",
      "\n",
      "  key  date2\n",
      "0   a     11\n",
      "1   b      2\n",
      "2   d     33 \n",
      "\n",
      "  key_1  data1 key_2  date2\n",
      "0     b      1     a     11\n",
      "1     b      3     b      2\n",
      "2     a      2     d     33 \n",
      "\n",
      "  key  data1  date2\n",
      "0   b      1   11.0\n",
      "1   b      3    2.0\n",
      "2   a      2   33.0\n",
      "3   c      4    NaN\n",
      "4   a      5    NaN\n",
      "5   a      9    NaN\n",
      "6   b      7    NaN \n",
      "\n",
      "-----\n",
      "    A   B key\n",
      "0  A0  B0  K0\n",
      "1  A1  B1  K1\n",
      "2  A2  B2  K0\n",
      "3  A3  B3  K1\n",
      "     C   D\n",
      "K0  C0  D0\n",
      "K1  C1  D1\n",
      "    A   B key   C   D\n",
      "0  A0  B0  K0  C0  D0\n",
      "1  A1  B1  K1  C1  D1\n",
      "2  A2  B2  K0  C0  D0\n",
      "3  A3  B3  K1  C1  D1\n"
     ]
    }
   ],
   "source": [
    "# pd.join() → 直接通过索引链接\n",
    "left = pd.DataFrame({'A': ['A0', 'A1', 'A2'],\n",
    "                     'B': ['B0', 'B1', 'B2']},\n",
    "                    index=['K0', 'K1', 'K2'])\n",
    "right = pd.DataFrame({'C': ['C0', 'C2', 'C3'],\n",
    "                      'D': ['D0', 'D2', 'D3']},\n",
    "                     index=['K0', 'K2', 'K3'])\n",
    "print(left.join(right),'\\n')  #默认how=left\n",
    "print(left.join(right, how='outer'),'\\n')   # 等价于：pd.merge(left, right, left_index=True, right_index=True, how='outer')\n",
    "print('-'*60)\n",
    "\n",
    "\n",
    "left = pd.DataFrame({'A': ['A0', 'A1', 'A2', 'A3'],\n",
    "                     'B': ['B0', 'B1', 'B2', 'B3'],\n",
    "                     'key': ['K0', 'K1', 'K0', 'K1']})\n",
    "right = pd.DataFrame({'C': ['C0', 'C1'],\n",
    "                      'D': ['D0', 'D1']},\n",
    "                     index=['K0', 'K1'])\n",
    "print(left)\n",
    "print(right)\n",
    "print(left.join(right, on = 'key')) # left的‘key’和right的index连接\n",
    "# 等价于pd.merge(left, right, left_on='key', right_index=True, how='left', sort=False);\n"
   ]
  },
  {
   "cell_type": "markdown",
   "metadata": {},
   "source": [
    "######## 本节课有作业，请查看 “课程作业.docx”  ########"
   ]
  },
  {
   "cell_type": "code",
   "execution_count": null,
   "metadata": {},
   "outputs": [],
   "source": [
    "'''\n",
    "【课程2.17】  连接与修补 concat、combine_first\n",
    "连接 - 沿轴执行连接操作\n",
    "pd.concat(objs, axis=0, join='outer', join_axes=None, ignore_index=False,\n",
    "          keys=None, levels=None, names=None, verify_integrity=False,\n",
    "          copy=True)\n",
    " \n",
    "'''"
   ]
  },
  {
   "cell_type": "code",
   "execution_count": 56,
   "metadata": {},
   "outputs": [
    {
     "name": "stdout",
     "output_type": "stream",
     "text": [
      "0    1\n",
      "1    2\n",
      "2    3\n",
      "0    2\n",
      "1    3\n",
      "2    4\n",
      "dtype: int64 \n",
      "\n",
      "a    1\n",
      "b    2\n",
      "c    2\n",
      "d    4\n",
      "e    3\n",
      "h    3\n",
      "dtype: int64 \n",
      "\n",
      "------------------------------------------------------------\n",
      "     0    1\n",
      "a  1.0  NaN\n",
      "c  2.0  NaN\n",
      "h  3.0  NaN\n",
      "b  NaN  2.0\n",
      "e  NaN  3.0\n",
      "d  NaN  4.0 \n",
      "\n"
     ]
    }
   ],
   "source": [
    "# 连接：concat  表之间的堆叠\n",
    "#concat(axis=0,join='outer',ignore_index: bool = False,keys=None,sort: bool = False,copy: bool = True)\n",
    "s1 = pd.Series([1,2,3])\n",
    "s2 = pd.Series([2,3,4])\n",
    "s3 = pd.Series([1,2,3],index = ['a','c','h'])\n",
    "s4 = pd.Series([2,3,4],index = ['b','e','d'])\n",
    "print(pd.concat([s1,s2]),'\\n')   #直接连接两个Series，# 默认axis=0，行+行\n",
    "print(pd.concat([s3,s4]).sort_index(),'\\n') #直接连接两个Series并重新排序index\n",
    "print('-'*60)\n",
    "# axis=1,列+列，成为一个Dataframe\n",
    "print(pd.concat([s3,s4], axis=1),'\\n')"
   ]
  },
  {
   "cell_type": "code",
   "execution_count": 67,
   "metadata": {
    "scrolled": true
   },
   "outputs": [
    {
     "name": "stdout",
     "output_type": "stream",
     "text": [
      "     0    1\n",
      "a  1.0  NaN\n",
      "b  2.0  2.0\n",
      "c  3.0  3.0\n",
      "d  NaN  4.0\n",
      "   0  1\n",
      "b  2  2\n",
      "c  3  3\n"
     ]
    }
   ],
   "source": [
    "# 连接方式：join，join_axes\n",
    "s5 = pd.Series([1,2,3],index = ['a','b','c'])\n",
    "s6 = pd.Series([2,3,4],index = ['b','c','d'])\n",
    "print(pd.concat([s5,s6], axis= 1))  #列堆叠成DF\n",
    "print(pd.concat([s5,s6], axis= 1, join='inner'))  #取交集\n",
    "#print(pd.concat([s5,s6], axis= 1, join_axis=[['a','b','d']]))   #只取指定的index"
   ]
  },
  {
   "cell_type": "code",
   "execution_count": 74,
   "metadata": {},
   "outputs": [
    {
     "name": "stdout",
     "output_type": "stream",
     "text": [
      "one  a    1\n",
      "     b    2\n",
      "     c    3\n",
      "two  b    2\n",
      "     c    3\n",
      "     d    4\n",
      "dtype: int64 <class 'pandas.core.series.Series'> \n",
      "\n",
      "MultiIndex([('one', 'a'),\n",
      "            ('one', 'b'),\n",
      "            ('one', 'c'),\n",
      "            ('two', 'b'),\n",
      "            ('two', 'c'),\n",
      "            ('two', 'd')],\n",
      "           ) \n",
      "\n",
      "------------------------------------------------------------\n",
      "   one  two\n",
      "a  1.0  NaN\n",
      "b  2.0  2.0\n",
      "c  3.0  3.0\n",
      "d  NaN  4.0 <class 'pandas.core.frame.DataFrame'>\n"
     ]
    }
   ],
   "source": [
    "# keys：序列，默认值无。使用传递的键作为最外层构建层次索引\n",
    "sre = pd.concat([s5,s6], keys = ['one','two'])  \n",
    "print(sre,type(sre),'\\n')\n",
    "print(sre.index,'\\n')\n",
    "print('-'*60)\n",
    "# axis = 1, 覆盖列名\n",
    "sre = pd.concat([s5,s6], axis=1, keys = ['one','two'])  #axis=1的情形生成dataframe，则keys成为columns\n",
    "print(sre,type(sre))"
   ]
  },
  {
   "cell_type": "code",
   "execution_count": 82,
   "metadata": {},
   "outputs": [
    {
     "name": "stdout",
     "output_type": "stream",
     "text": [
      "     0    1    2\n",
      "0  NaN  3.0  5.0\n",
      "1 -4.6  NaN  NaN\n",
      "2  NaN  7.0  NaN \n",
      "\n",
      "      0    1    2\n",
      "a -42.6  NaN -8.2\n",
      "2  -5.0  1.6  4.0 \n",
      "\n",
      "      0    1    2\n",
      "0   NaN  3.0  5.0\n",
      "1  -4.6  NaN  NaN\n",
      "2  -5.0  1.6  4.0\n",
      "a -42.6  NaN -8.2 \n",
      "\n",
      "************************************************************\n",
      "     0    1    2\n",
      "0  NaN  3.0  5.0\n",
      "1 -4.6  NaN  NaN\n",
      "2 -5.0  1.6  4.0\n"
     ]
    }
   ],
   "source": [
    "# 修补 pd.combine_first()\n",
    "df1 = pd.DataFrame([[np.nan, 3., 5.], [-4.6, np.nan, np.nan],[np.nan, 7., np.nan]])\n",
    "df2 = pd.DataFrame([[-42.6, np.nan, -8.2], [-5., 1.6, 4]],index=['a', 2]) \n",
    "print(df1,'\\n')\n",
    "print(df2,'\\n')\n",
    "print(df2.combine_first(df1),'\\n')  # 根据index，df1的空值被df2替代,如果df2的index多于df1，则更新到df1上\n",
    "# update，直接df2覆盖df1相同index位置数据\n",
    "print('*'*60)\n",
    "df1.update(df2)\n",
    "print(df1)"
   ]
  },
  {
   "cell_type": "markdown",
   "metadata": {},
   "source": [
    "######## 本节课有作业，请查看 “课程作业.docx”  ########"
   ]
  },
  {
   "cell_type": "code",
   "execution_count": null,
   "metadata": {},
   "outputs": [],
   "source": [
    "'''\n",
    "【课程2.18】  去重及替换\n",
    ".duplicated / .replace\n",
    "\n",
    "'''"
   ]
  },
  {
   "cell_type": "code",
   "execution_count": 88,
   "metadata": {},
   "outputs": [
    {
     "name": "stdout",
     "output_type": "stream",
     "text": [
      "0    False\n",
      "1     True\n",
      "2    False\n",
      "3     True\n",
      "4    False\n",
      "5    False\n",
      "dtype: bool \n",
      "\n",
      "0    1\n",
      "2    2\n",
      "4    3\n",
      "5    4\n",
      "dtype: int64 \n",
      "\n",
      "1    1\n",
      "3    2\n",
      "dtype: int64 \n",
      "\n",
      "------------------------------------------------------------\n",
      "0    1\n",
      "2    2\n",
      "4    3\n",
      "5    4\n",
      "dtype: int64\n",
      "------------------------------------------------------------\n",
      "0    False\n",
      "1     True\n",
      "2    False\n",
      "3    False\n",
      "4    False\n",
      "dtype: bool\n",
      "0    False\n",
      "1     True\n",
      "2    False\n",
      "3     True\n",
      "4    False\n",
      "Name: key2, dtype: bool\n"
     ]
    }
   ],
   "source": [
    "# 去重 .duplicated\n",
    "s = pd.Series([1,1,2,2,3,4])\n",
    "print(s.duplicated(),'\\n')   #判断是否是重复值，生成Bool Series\n",
    "print(s[s.duplicated() == False],'\\n')  #使用Bool Series做索引，得到不重复的值\n",
    "print(s[s.duplicated()],'\\n')  #使用Bool Series做索引，得到重复的值\n",
    "print('-'*60)\n",
    "s_re = s.drop_duplicates(inplace=False)  # drop.duplicates移除重复,inplace参数：是否替换原值，默认False\n",
    "print(s_re)\n",
    "print('-'*60)\n",
    "# Dataframe中使用duplicated\n",
    "df = pd.DataFrame({'key1':['a','a',3,4,5],\n",
    "                  'key2':['a','a','b','b','c']})\n",
    "print(df.duplicated())\n",
    "print(df['key2'].duplicated())"
   ]
  },
  {
   "cell_type": "code",
   "execution_count": 90,
   "metadata": {},
   "outputs": [
    {
     "name": "stdout",
     "output_type": "stream",
     "text": [
      "0    NaN\n",
      "1      s\n",
      "2      c\n",
      "3    NaN\n",
      "4    NaN\n",
      "5      z\n",
      "6      s\n",
      "7      d\n",
      "dtype: object\n",
      "0      a\n",
      "1    NaN\n",
      "2    NaN\n",
      "3      a\n",
      "4      a\n",
      "5      z\n",
      "6    NaN\n",
      "7      d\n",
      "dtype: object\n",
      "0    hello world!\n",
      "1             123\n",
      "2               c\n",
      "3    hello world!\n",
      "4    hello world!\n",
      "5               z\n",
      "6             123\n",
      "7               d\n",
      "dtype: object\n"
     ]
    }
   ],
   "source": [
    "# 替换 .replace\n",
    "s = pd.Series(list('ascaazsd'))\n",
    "print(s.replace('a', np.nan))  # 可一次性替换一个值或多个值\n",
    "print(s.replace(['c','s'] ,np.nan)) #可传入列表,即列表中\n",
    "print(s.replace({'a':'hello world!','s':123})) # 可传入字典替换"
   ]
  },
  {
   "cell_type": "code",
   "execution_count": null,
   "metadata": {
    "collapsed": true
   },
   "outputs": [],
   "source": [
    "'''\n",
    "【课程2.19】  数据分组\n",
    "\n",
    "分组统计 - groupby功能\n",
    "\n",
    "① 根据某些条件将数据拆分成组\n",
    "② 对每个组独立应用函数\n",
    "③ 将结果合并到一个数据结构中\n",
    "Dataframe在行（axis=0）或列（axis=1）上进行分组，将一个函数应用到各个分组并产生一个新值，然后函数执行结果被合并到最终的结果对象中。\n",
    "\n",
    "df.groupby(by=None, axis=0, level=None, as_index=True, sort=True, group_keys=True, squeeze=False, **kwargs)\n",
    " \n",
    "'''"
   ]
  },
  {
   "cell_type": "code",
   "execution_count": 140,
   "metadata": {
    "scrolled": false
   },
   "outputs": [
    {
     "name": "stdout",
     "output_type": "stream",
     "text": [
      "     A      B         C         D\n",
      "0  foo    one  0.110186 -0.717578\n",
      "1  bar    one -0.838475  0.110513\n",
      "2  foo    two  2.361414 -1.279300\n",
      "3  bar  three  1.358628  1.127523\n",
      "4  foo    two  0.359639 -2.175506 \n",
      "\n",
      "<pandas.core.groupby.generic.DataFrameGroupBy object at 0x116d6bed0> <class 'pandas.core.groupby.generic.DataFrameGroupBy'> \n",
      "\n",
      "            C         D\n",
      "A                      \n",
      "bar  0.260077  0.619018\n",
      "foo  0.943747 -1.390795\n",
      "                  C         D\n",
      "A   B                        \n",
      "bar one   -0.838475  0.110513\n",
      "    three  1.358628  1.127523\n",
      "foo one    0.110186 -0.717578\n",
      "    two    1.360527 -1.727403\n",
      "A\n",
      "bar    0.619018\n",
      "foo   -1.390795\n",
      "Name: D, dtype: float64\n"
     ]
    }
   ],
   "source": [
    "# 分组df.groupby()\n",
    "df = pd.DataFrame({'A' : ['foo', 'bar', 'foo', 'bar','foo',],\n",
    "                   'B' : ['one', 'one', 'two', 'three', 'two'],\n",
    "                   'C' : np.random.randn(5),\n",
    "                   'D' : np.random.randn(5)}) \n",
    "print(df,'\\n')\n",
    "print(df.groupby('A'), type(df.groupby('A')),'\\n')  # 直接分组得到一个groupby对象\n",
    "print(df.groupby('A').mean())   #按照A列分组求平均值，,默认axis = 0以行来分组\n",
    "print( df.groupby(['A','B']).mean()) # 多列分组\n",
    "print(df.groupby(['A'])['D'].mean())  # 以A分组在做切片，求D的平均值"
   ]
  },
  {
   "cell_type": "code",
   "execution_count": 146,
   "metadata": {},
   "outputs": [
    {
     "name": "stdout",
     "output_type": "stream",
     "text": [
      "   X  Y\n",
      "0  A  1\n",
      "1  B  4\n",
      "2  A  3\n",
      "3  B  2\n",
      "<pandas.core.groupby.generic.DataFrameGroupBy object at 0x1180ae910> <class 'pandas.core.groupby.generic.DataFrameGroupBy'>\n",
      "------------------------------------------------------------\n",
      "[('A',    X  Y\n",
      "0  A  1\n",
      "2  A  3), ('B',    X  Y\n",
      "1  B  4\n",
      "3  B  2)] → 可迭代对象，直接生成list\n",
      "\n",
      "('A',    X  Y\n",
      "0  A  1\n",
      "2  A  3) → 以元祖形式显示\n",
      "\n",
      "A\n",
      "   X  Y\n",
      "0  A  1\n",
      "2  A  3 <class 'pandas.core.frame.DataFrame'>\n",
      "###\n",
      "B\n",
      "   X  Y\n",
      "1  B  4\n",
      "3  B  2 <class 'pandas.core.frame.DataFrame'>\n",
      "###\n",
      "------------------------------------------------------------\n",
      "   X  Y\n",
      "0  A  1\n",
      "2  A  3 \n",
      "\n",
      "   X  Y\n",
      "1  B  4\n",
      "3  B  2 \n",
      "\n",
      "------------------------------------------------------------\n"
     ]
    }
   ],
   "source": [
    "# 分组 - 可迭代对象\n",
    "df = pd.DataFrame({'X' : ['A', 'B', 'A', 'B'], 'Y' : [1, 4, 3, 2]})\n",
    "print(df)\n",
    "print(df.groupby('X'), type(df.groupby('X')))\n",
    "print('-'*60)\n",
    "print(list(df.groupby('X')), '→ 可迭代对象，直接生成list\\n')\n",
    "print(list(df.groupby('X'))[0], '→ 以元祖形式显示\\n')    # 结果组名和分组后的Dataframe\n",
    "for n,g in df.groupby('X'):   \n",
    "    print(n)\n",
    "    print(g,type(g))             # n是组名，g是分组后的Dataframe \n",
    "    print('###')\n",
    "print('-'*60)\n",
    "# .get_group()提取分组后的组\n",
    "print(df.groupby(['X']).get_group('A'),'\\n')\n",
    "print(df.groupby(['X']).get_group('B'),'\\n')\n",
    "print('-'*60)"
   ]
  },
  {
   "cell_type": "code",
   "execution_count": 147,
   "metadata": {
    "scrolled": false
   },
   "outputs": [
    {
     "name": "stdout",
     "output_type": "stream",
     "text": [
      "{'A': Int64Index([0, 2], dtype='int64'), 'B': Int64Index([1, 3], dtype='int64')}\n",
      "Int64Index([0, 2], dtype='int64')\n",
      "------------------------------------------------------------\n",
      "X\n",
      "A    2\n",
      "B    2\n",
      "dtype: int64 <class 'pandas.core.series.Series'>\n",
      "------------------------------------------------------------\n",
      "     A      B         C         D\n",
      "0  foo    one -0.733363  0.121371\n",
      "1  bar    one  0.312232 -0.029490\n",
      "2  foo    two  1.060907  0.246771\n",
      "3  bar  three  0.323053  1.142313\n",
      "4  foo    two -1.913239  0.043319\n",
      "5  bar    two  0.863411  0.186812\n",
      "6  foo    one  0.017590 -0.827242\n",
      "7  foo  three -0.351380 -0.463039\n",
      "{('bar', 'one'): Int64Index([1], dtype='int64'), ('bar', 'three'): Int64Index([3], dtype='int64'), ('bar', 'two'): Int64Index([5], dtype='int64'), ('foo', 'one'): Int64Index([0, 6], dtype='int64'), ('foo', 'three'): Int64Index([7], dtype='int64'), ('foo', 'two'): Int64Index([2, 4], dtype='int64')}\n",
      "Int64Index([7], dtype='int64')\n"
     ]
    }
   ],
   "source": [
    "# .groups：将分组后的groups转为dict\n",
    "grouped = df.groupby(['X'])\n",
    "print(grouped.groups)\n",
    "print(grouped.groups['A'])  # 也可写：df.groupby('X').groups['A'],可以字典索引方法来查看groups里的元素\n",
    "print('-'*60)\n",
    "# .size()：查看分组后的长度\n",
    "sz = grouped.size()\n",
    "print(sz,type(sz))\n",
    "print('-'*60)\n",
    "# 按照两个列进行分组\n",
    "df = pd.DataFrame({'A' : ['foo', 'bar', 'foo', 'bar','foo', 'bar', 'foo', 'foo'],\n",
    "                   'B' : ['one', 'one', 'two', 'three', 'two', 'two', 'one', 'three'],\n",
    "                   'C' : np.random.randn(8),\n",
    "                   'D' : np.random.randn(8)})\n",
    "grouped = df.groupby(['A','B']).groups\n",
    "print(df)\n",
    "print(grouped)\n",
    "print(grouped[('foo', 'three')])"
   ]
  },
  {
   "cell_type": "code",
   "execution_count": 149,
   "metadata": {},
   "outputs": [
    {
     "name": "stdout",
     "output_type": "stream",
     "text": [
      "      data1     data2 key1 key2\n",
      "0  0.300461  0.154790    a  one\n",
      "1  0.728558  0.224897    b  two\n",
      "data1    float64\n",
      "data2    float64\n",
      "key1      object\n",
      "key2      object\n",
      "dtype: object\n",
      "------------------------------------------------------------\n",
      "float64\n",
      "      data1     data2\n",
      "0  0.300461  0.154790\n",
      "1  0.728558  0.224897\n",
      "##\n",
      "object\n",
      "  key1 key2\n",
      "0    a  one\n",
      "1    b  two\n",
      "##\n"
     ]
    }
   ],
   "source": [
    "# 其他轴上的分组,按照类型\n",
    "df = pd.DataFrame({'data1':np.random.rand(2),\n",
    "                  'data2':np.random.rand(2),\n",
    "                  'key1':['a','b'],\n",
    "                  'key2':['one','two']})\n",
    "print(df)\n",
    "print(df.dtypes)\n",
    "print('-'*60)\n",
    "for n,p in df.groupby(df.dtypes,axis=1):  # 按照值类型分列\n",
    "    print(n)\n",
    "    print(p)\n",
    "    print('##')"
   ]
  },
  {
   "cell_type": "code",
   "execution_count": 159,
   "metadata": {},
   "outputs": [
    {
     "name": "stdout",
     "output_type": "stream",
     "text": [
      "    a   b   c   d\n",
      "0   0   1   2   3\n",
      "1   4   5   6   7\n",
      "2   8   9  10  11\n",
      "3  12  13  14  15\n",
      "------------------------------------------------------------\n",
      "   one  two\n",
      "0    1    5\n",
      "1    9   13\n",
      "2   17   21\n",
      "3   25   29\n",
      "------------------------------------------------------------\n",
      "a      one\n",
      "b      one\n",
      "c      two\n",
      "d      two\n",
      "e    three\n",
      "dtype: object \n",
      "\n",
      "one      2\n",
      "three    1\n",
      "two      2\n",
      "dtype: int64 \n",
      "\n",
      "   one  two\n",
      "0    1    5\n",
      "1    9   13\n",
      "2   17   21\n",
      "3   25   29\n"
     ]
    }
   ],
   "source": [
    "# 通过字典或者Series实现自定义分组\n",
    "df = pd.DataFrame(np.arange(16).reshape(4,4),\n",
    "                  columns = ['a','b','c','d'])\n",
    "print(df)\n",
    "print('-'*60)\n",
    "mapping = {'a':'one','b':'one','c':'two','d':'two','e':'three'}  # mapping中，a、b列对应的为one，c、d列对应的为two，以字典来分组\n",
    "by_column = df.groupby(mapping, axis = 1)  #按照mapping分组,默认axis = 0为按行分组，axis = 1按列分组\n",
    "print(by_column.sum())\n",
    "print('-'*60)\n",
    "s = pd.Series(mapping)  #将字典转化为Series\n",
    "print(s,'\\n')\n",
    "print(s.groupby(s).count(),'\\n')   # s中，index中a、b对应的为one，c、d对应的为two，以Series来分组\n",
    "print(df.groupby(s,axis = 1).sum())   "
   ]
  },
  {
   "cell_type": "code",
   "execution_count": 28,
   "metadata": {},
   "outputs": [
    {
     "name": "stdout",
     "output_type": "stream",
     "text": [
      "      a   b   c   d\n",
      "abc   0   1   2   3\n",
      "bcd   4   5   6   7\n",
      "aa    8   9  10  11\n",
      "b    12  13  14  15 \n",
      "\n",
      "    a   b   c   d\n",
      "1  12  13  14  15\n",
      "2   8   9  10  11\n",
      "3   4   6   8  10\n"
     ]
    }
   ],
   "source": [
    "# 通过函数分组\n",
    "df = pd.DataFrame(np.arange(16).reshape(4,4),\n",
    "                  columns = ['a','b','c','d'],\n",
    "                 index = ['abc','bcd','aa','b'])\n",
    "print(df,'\\n')\n",
    "print(df.groupby(len).sum())  # 按照字母长度分组"
   ]
  },
  {
   "cell_type": "code",
   "execution_count": 29,
   "metadata": {},
   "outputs": [
    {
     "name": "stdout",
     "output_type": "stream",
     "text": [
      "<pandas.core.groupby.SeriesGroupBy object at 0x00000000091992B0>\n",
      "1    1\n",
      "2    2\n",
      "3    3\n",
      "dtype: int64 → first：非NaN的第一个值\n",
      "\n",
      "1    10\n",
      "2    20\n",
      "3    30\n",
      "dtype: int64 → last：非NaN的最后一个值\n",
      "\n",
      "1    11\n",
      "2    22\n",
      "3    33\n",
      "dtype: int64 → sum：非NaN的和\n",
      "\n",
      "1     5.5\n",
      "2    11.0\n",
      "3    16.5\n",
      "dtype: float64 → mean：非NaN的平均值\n",
      "\n",
      "1     5.5\n",
      "2    11.0\n",
      "3    16.5\n",
      "dtype: float64 → median：非NaN的算术中位数\n",
      "\n",
      "1    2\n",
      "2    2\n",
      "3    2\n",
      "dtype: int64 → count：非NaN的值\n",
      "\n",
      "1    1\n",
      "2    2\n",
      "3    3\n",
      "dtype: int64 → min、max：非NaN的最小值、最大值\n",
      "\n",
      "1     6.363961\n",
      "2    12.727922\n",
      "3    19.091883\n",
      "dtype: float64 → std，var：非NaN的标准差和方差\n",
      "\n",
      "1    10\n",
      "2    40\n",
      "3    90\n",
      "dtype: int64 → prod：非NaN的积\n",
      "\n"
     ]
    }
   ],
   "source": [
    "# 分组计算函数方法\n",
    "s = pd.Series([1, 2, 3, 10, 20, 30], index = [1, 2, 3, 1, 2, 3])\n",
    "grouped = s.groupby(level=0)  # 唯一索引用.groupby(level=0)，将同一个index的分为一组 \n",
    "print(grouped)\n",
    "print(grouped.first(),'→ first：非NaN的第一个值\\n')\n",
    "print(grouped.last(),'→ last：非NaN的最后一个值\\n')\n",
    "print(grouped.sum(),'→ sum：非NaN的和\\n')\n",
    "print(grouped.mean(),'→ mean：非NaN的平均值\\n')\n",
    "print(grouped.median(),'→ median：非NaN的算术中位数\\n')\n",
    "print(grouped.count(),'→ count：非NaN的值\\n')\n",
    "print(grouped.min(),'→ min、max：非NaN的最小值、最大值\\n')\n",
    "print(grouped.std(),'→ std，var：非NaN的标准差和方差\\n')\n",
    "print(grouped.prod(),'→ prod：非NaN的积\\n')\n",
    "print(grouped.cumsum(),'→ prod：非NaN的积\\n')"
   ]
  },
  {
   "cell_type": "code",
   "execution_count": 15,
   "metadata": {},
   "outputs": [
    {
     "name": "stdout",
     "output_type": "stream",
     "text": [
      "   a         b         c         d\n",
      "0  1  0.639165  0.641905  0.671404\n",
      "1  1  0.003936  0.387169  0.539082\n",
      "2  2  0.513683  0.828146  0.607663\n",
      "3  2  0.169706  0.725606  0.442243 \n",
      "\n",
      "          b                   c                   d          \n",
      "       mean       sum      mean       sum      mean       sum\n",
      "a                                                            \n",
      "1  0.321551  0.643101  0.514537  1.029074  0.605243  1.210486\n",
      "2  0.341695  0.683389  0.776876  1.553751  0.524953  1.049907 \n",
      "\n",
      "   a         b                   c                   d          \n",
      "          mean       sum      mean       sum      mean       sum\n",
      "0  1  0.321551  0.643101  0.514537  1.029074  0.605243  1.210486\n",
      "1  2  0.341695  0.683389  0.776876  1.553751  0.524953  1.049907 \n",
      "\n"
     ]
    }
   ],
   "source": [
    "# 多函数计算：agg()\n",
    "df = pd.DataFrame({'a':[1,1,2,2],\n",
    "                  'b':np.random.rand(4),\n",
    "                  'c':np.random.rand(4),\n",
    "                  'd':np.random.rand(4),})\n",
    "print(df,'\\n')\n",
    "print(df.groupby('a').agg(['mean',np.sum]),'\\n')  #按a来分组，列分别计算mean和sum，函数写法可以用str，或者np.方法\n",
    "#print(df.groupby('a')['b'].agg({'result1':np.mean,'result2':np.sum})) # 可以通过list，dict传入，当用dict时，key名为columns\n",
    "#重置index\n",
    "print(df.groupby('a').agg(['mean',np.sum]).reset_index(),'\\n') "
   ]
  },
  {
   "cell_type": "markdown",
   "metadata": {},
   "source": [
    "######## 本节课有作业，请查看 “课程作业.docx”  ########"
   ]
  },
  {
   "cell_type": "code",
   "execution_count": null,
   "metadata": {},
   "outputs": [],
   "source": [
    "'''\n",
    "【课程2.20】  分组转换及一般性“拆分-应用-合并”\n",
    "\n",
    "transform / apply\n",
    " \n",
    "'''"
   ]
  },
  {
   "cell_type": "code",
   "execution_count": 11,
   "metadata": {},
   "outputs": [
    {
     "name": "stdout",
     "output_type": "stream",
     "text": [
      "      data1     data2 key1 key2\n",
      "0  0.856480  0.082198    a  one\n",
      "1  0.516221  0.538505    a  two\n",
      "2  0.764373  0.531776    b  one\n",
      "3  0.155485  0.129266    b  two\n",
      "4  0.159997  0.694357    a  one \n",
      "\n",
      "         data1     data2\n",
      "key1                    \n",
      "a     0.510899  0.438353\n",
      "b     0.459929  0.330521 \n",
      "\n",
      "   mean_data1_x  mean_data2_x mean_key1 mean_key2  mean_data1_y  mean_data2_y\n",
      "0      0.856480      0.082198         a       one      0.510899      0.438353\n",
      "1      0.516221      0.538505         a       two      0.510899      0.438353\n",
      "4      0.159997      0.694357         a       one      0.510899      0.438353\n",
      "2      0.764373      0.531776         b       one      0.459929      0.330521\n",
      "3      0.155485      0.129266         b       two      0.459929      0.330521 \n",
      "\n",
      "------------------------------------------------------------\n",
      "         data1     data2\n",
      "key2                    \n",
      "one   0.593617  0.436110\n",
      "two   0.335853  0.333885 \n",
      "\n",
      "      data1     data2\n",
      "0  0.593617  0.436110\n",
      "1  0.335853  0.333885\n",
      "2  0.593617  0.436110\n",
      "3  0.335853  0.333885\n",
      "4  0.593617  0.436110 \n",
      "\n",
      "      data1     data2 key1 key2  data1_mean  data2_mean\n",
      "0  0.856480  0.082198    a  one    0.593617    0.436110\n",
      "1  0.516221  0.538505    a  two    0.335853    0.333885\n",
      "2  0.764373  0.531776    b  one    0.593617    0.436110\n",
      "3  0.155485  0.129266    b  two    0.335853    0.333885\n",
      "4  0.159997  0.694357    a  one    0.593617    0.436110 \n",
      "\n"
     ]
    }
   ],
   "source": [
    "# 数据分组转换,transform\n",
    "df = pd.DataFrame({'data1':np.random.rand(5),\n",
    "                  'data2':np.random.rand(5),\n",
    "                  'key1':list('aabba'),\n",
    "                  'key2':['one','two','one','two','one']})\n",
    "\n",
    "k_mean = df.groupby('key1').mean()\n",
    "print(df,'\\n')\n",
    "print(k_mean,'\\n')\n",
    "# 通过分组、合并，得到一个包含均值的Dataframe\n",
    "print(pd.merge(df,k_mean,left_on='key1',right_index=True).add_prefix('mean_'),'\\n')  # .add_prefix('mean_')：添加前缀\n",
    "print('-'*60)\n",
    "\n",
    "print(df.groupby('key2').mean(),'\\n') # 按照key2分组求均值\n",
    "print(df.groupby('key2').transform(np.mean),'\\n')   # index与df相同，data1、data2每个元素取对应分组列的均值(字符串不能进行计算)\n",
    "print(df.join(df.groupby('key2').transform(np.mean),rsuffix='_mean'),'\\n')  #合并"
   ]
  },
  {
   "cell_type": "code",
   "execution_count": 181,
   "metadata": {
    "scrolled": false
   },
   "outputs": [
    {
     "name": "stdout",
     "output_type": "stream",
     "text": [
      "               data1     data2\n",
      "key1                          \n",
      "a    count  2.000000  2.000000\n",
      "     mean   0.070696  0.467503\n",
      "     std    0.091658  0.342518\n",
      "     min    0.005884  0.225306\n",
      "     25%    0.038290  0.346405\n",
      "     50%    0.070696  0.467503\n",
      "     75%    0.103102  0.588602\n",
      "     max    0.135508  0.709700\n",
      "b    count  1.000000  1.000000\n",
      "     mean   0.363319  0.914245\n",
      "     std         NaN       NaN\n",
      "     min    0.363319  0.914245\n",
      "     25%    0.363319  0.914245\n",
      "     50%    0.363319  0.914245\n",
      "     75%    0.363319  0.914245\n",
      "     max    0.363319  0.914245\n",
      "c    count  1.000000  1.000000\n",
      "     mean   0.429100  0.634973\n",
      "     std         NaN       NaN\n",
      "     min    0.429100  0.634973\n",
      "     25%    0.429100  0.634973\n",
      "     50%    0.429100  0.634973\n",
      "     75%    0.429100  0.634973\n",
      "     max    0.429100  0.634973\n",
      "************************************************************\n",
      "           data1     data2 key1   key2\n",
      "key1                                  \n",
      "a    0  0.135508  0.225306    a    one\n",
      "b    2  0.363319  0.914245    b    one\n",
      "c    3  0.429100  0.634973    c  three \n",
      "\n",
      "************************************************************\n",
      "key1   \n",
      "a     0    0.225306\n",
      "      1    0.709700\n",
      "b     2    0.914245\n",
      "c     3    0.634973\n",
      "Name: data2, dtype: float64 <class 'pandas.core.series.Series'>\n",
      "************************************************************\n"
     ]
    }
   ],
   "source": [
    "# 一般化Groupby方法：apply(func,parameter)\n",
    "df = pd.DataFrame({'data1':np.random.rand(4),\n",
    "                  'data2':np.random.rand(4),\n",
    "                  'key1':list('aabc'),\n",
    "                  'key2':['one','two','one','three']})\n",
    "print(df.groupby('key1').apply(lambda x: x.describe())) #apply直接运行匿名函数，直接描述分组后的统计量\n",
    "print('*'*60)\n",
    "def f_df1(d,n):\n",
    "    return(d.sort_index()[:n])  # f_df1函数：返回排序后的前n行数据\n",
    "def f_df2(d,k1):\n",
    "    return(d[k1])       # f_df2函数：返回分组后表的k1列，结果为Series，层次化索引\n",
    "print(df.groupby('key1').apply(f_df1,1),'\\n') # 参数直接写在后面，也可以为.apply(f_df,n = 2))\n",
    "print('*'*60)\n",
    "print(df.groupby('key1').apply(f_df2,'data2'),type(df.groupby('key1').apply(f_df2,'data2')))\n",
    "print('*'*60)"
   ]
  },
  {
   "cell_type": "markdown",
   "metadata": {},
   "source": [
    "######## 本节课有作业，请查看 “课程作业.docx”  ########"
   ]
  },
  {
   "cell_type": "code",
   "execution_count": null,
   "metadata": {},
   "outputs": [],
   "source": [
    "'''\n",
    "【课程2.21】  透视表及交叉表\n",
    "\n",
    "类似excel数据透视 - pivot table / crosstab\n",
    " \n",
    "'''"
   ]
  },
  {
   "cell_type": "code",
   "execution_count": 185,
   "metadata": {},
   "outputs": [
    {
     "name": "stdout",
     "output_type": "stream",
     "text": [
      "        date key    values\n",
      "0 2017-05-01   a  1.735045\n",
      "1 2017-05-02   b  5.609363\n",
      "2 2017-05-03   c  1.064812\n",
      "3 2017-05-01   d  5.246719\n",
      "4 2017-05-02   a  7.890891\n",
      "5 2017-05-03   b  1.454691\n",
      "6 2017-05-01   c  8.610750\n",
      "7 2017-05-02   d  2.246070\n",
      "8 2017-05-03   a  9.876891\n",
      "----------------------------------------------------------------------------------------------------\n",
      "key                a         b         c         d\n",
      "date                                              \n",
      "2017-05-01  1.735045       NaN  8.610750  5.246719\n",
      "2017-05-02  7.890891  5.609363       NaN  2.246070\n",
      "2017-05-03  9.876891  1.454691  1.064812       NaN\n",
      "----------------------------------------------------------------------------------------------------\n",
      "                values\n",
      "date       key        \n",
      "2017-05-01 a       1.0\n",
      "           c       1.0\n",
      "           d       1.0\n",
      "2017-05-02 a       1.0\n",
      "           b       1.0\n",
      "           d       1.0\n",
      "2017-05-03 a       1.0\n",
      "           b       1.0\n",
      "           c       1.0\n"
     ]
    }
   ],
   "source": [
    "# 透视表：pivot_table\n",
    "# pd.pivot_table(data, values=None, index=None, columns=None, aggfunc='mean', fill_value=None, margins=False, dropna=True, margins_name='All')\n",
    "# data：DF对象，values：要聚合的列，index：数据透视表index，columns：透视表columns，aggfunc：聚合方法，默认numpy.mean\n",
    "date = ['2017-5-1','2017-5-2','2017-5-3']*3\n",
    "rng = pd.to_datetime(date)    #创建timer Series\n",
    "df = pd.DataFrame({'date':rng,\n",
    "                   'key':list('abcdabcda'),\n",
    "                  'values':np.random.rand(9)*10})\n",
    "print(df)\n",
    "print('-----'*20)\n",
    "print(pd.pivot_table(df, values = 'values', index = 'date', columns = 'key', aggfunc=np.sum))  # 也可以写 aggfunc='sum'\n",
    "print('-----'*20) # 这里就分别以date、key共同做数据透视，值为values：统计不同（date，key）情况下values的平均值\n",
    "print(pd.pivot_table(df, values = 'values', index = ['date','key'], aggfunc=len)) # aggfunc=len(或者count)：计数"
   ]
  },
  {
   "cell_type": "code",
   "execution_count": 186,
   "metadata": {},
   "outputs": [
    {
     "name": "stdout",
     "output_type": "stream",
     "text": [
      "   A  B    C\n",
      "0  1  3  1.0\n",
      "1  2  3  1.0\n",
      "2  2  4  NaN\n",
      "3  2  4  1.0\n",
      "4  2  4  1.0\n",
      "----------------------------------------------------------------------------------------------------\n",
      "B  3  4\n",
      "A      \n",
      "1  1  0\n",
      "2  1  3\n",
      "----------------------------------------------------------------------------------------------------\n",
      "B    3    4\n",
      "A          \n",
      "1  0.2  0.0\n",
      "2  0.2  0.6\n",
      "----------------------------------------------------------------------------------------------------\n",
      "B    3    4\n",
      "A          \n",
      "1  1.0  NaN\n",
      "2  1.0  2.0\n",
      "----------------------------------------------------------------------------------------------------\n",
      "B      3    4  All\n",
      "A                 \n",
      "1    1.0  NaN  1.0\n",
      "2    1.0  2.0  3.0\n",
      "All  2.0  2.0  4.0\n",
      "----------------------------------------------------------------------------------------------------\n"
     ]
    }
   ],
   "source": [
    "# 交叉表：crosstab，默认情况下，crosstab计算因子的频率表，比如用于str的数据透视分析\n",
    "# pd.crosstab(index, columns, values=None, rownames=None, colnames=None, aggfunc=None, margins=False, dropna=True, normalize=False)\n",
    "\n",
    "df = pd.DataFrame({'A': [1, 2, 2, 2, 2],\n",
    "                   'B': [3, 3, 4, 4, 4],\n",
    "                   'C': [1, 1, np.nan, 1, 1]})\n",
    "print(df)\n",
    "print('-----'*20)\n",
    "print(pd.crosstab(df['A'],df['B']))  # 如果crosstab只接收两个Series，它将提供一个频率表，用A的唯一值，统计B唯一值的出现次数\n",
    "print('-----'*20) \n",
    "print(pd.crosstab(df['A'],df['B'],normalize=True)) # normalize：将所有值除以值的总和进行归一化，默认False；\n",
    "print('-----'*20)\n",
    "print(pd.crosstab(df['A'],df['B'],values=df['C'],aggfunc=np.sum))# 由AB双因子频率表对C按照sum计算，当于以A和B界定分组，计算出每组中第三个系列C的值\n",
    "print('-----'*20)\n",
    "# aggfunc：可选，如果未传递values数组，则计算频率表，如果传递数组，则按照指定计算\n",
    "print(pd.crosstab(df['A'],df['B'],values=df['C'],aggfunc=np.sum, margins=True))  # margins：布尔值，默认值False，添加行/列边距（小计）\n",
    "print('-----'*20)\n"
   ]
  },
  {
   "cell_type": "markdown",
   "metadata": {},
   "source": [
    "######## 本节课有作业，请查看 “课程作业.docx”  ########"
   ]
  },
  {
   "cell_type": "code",
   "execution_count": null,
   "metadata": {
    "collapsed": true
   },
   "outputs": [],
   "source": [
    "'''\n",
    "【课程2.22】  数据读取\n",
    "\n",
    "核心：read_table, read_csv, read_excel\n",
    " \n",
    "'''"
   ]
  },
  {
   "cell_type": "code",
   "execution_count": 198,
   "metadata": {},
   "outputs": [
    {
     "name": "stdout",
     "output_type": "stream",
     "text": [
      "     va1  va3  va4\n",
      "va2               \n",
      "2      1    3    4\n",
      "3      2    4    5\n",
      "4      3    5    6\n",
      "5      4    6    7\n"
     ]
    }
   ],
   "source": [
    "# 读取普通分隔数据：read_table，read_table主要用于读取简单的数据，txt/csv\n",
    "import os\n",
    "os.chdir('/Users/lyn/Library/Mobile Documents/com~apple~CloudDocs/Documents/Jupyter')\n",
    "#pd.read_table(filepath,sep='\\t',delimiter=None,header='infer',names=None,index_col=None)\n",
    "# delimiter：用于拆分的字符，也可以用sep：sep = ','\n",
    "# index_col：指定某列为行索引，否则自动索引0, 1, .....\n",
    "# header：用做列名的序号，默认为0（取第一行）\n",
    "data1=pd.read_table('data1.txt',delimiter=',',header=0,index_col=1)  \n",
    "print(data1)\n",
    "#使用逗号分隔符的TXT table可以直接修改为csv打开"
   ]
  },
  {
   "cell_type": "code",
   "execution_count": 199,
   "metadata": {},
   "outputs": [
    {
     "name": "stdout",
     "output_type": "stream",
     "text": [
      "                                                                                         City\n",
      "Ngawa Prefecture 23  665.1  271.13  8.200000  102.224650 31.899410 2617.0 11   0 36.00  23.00\n",
      "Aksu City        137 80.4   610.00  12.276712 80.263380  41.167540 1108.0 6547 0 33.94  23.00\n",
      "Alxa League      85  150.0  322.58  24.200000 105.728950 38.851920 1673.0 1    0 36.00  23.00\n",
      "Ngari            28  74.2   37.40   1.000000  80.105800  32.501110 4280.0 1    0 36.00  23.00\n",
      "Anqin City       79  2127.8 1613.20 17.291781 117.034431 30.512646 13.0   2271 0 45.80  27.48\n"
     ]
    }
   ],
   "source": [
    "# 读取csv数据：read_csv\n",
    "data2 = pd.read_csv('data.csv',engine = 'python',encoding='utf-8')\n",
    "print(data2.head())\n",
    "# engine：使用的分析引擎。可以选择C或者是python。C引擎快但是Python引擎功能更加完备。\n",
    "# encoding：指定字符集类型，即编码，通常指定为'utf-8'"
   ]
  },
  {
   "cell_type": "code",
   "execution_count": 202,
   "metadata": {},
   "outputs": [
    {
     "name": "stdout",
     "output_type": "stream",
     "text": [
      "   省级政区代码 省级政区名称  地市级政区代码 地市级政区名称    年份 党委书记姓名  出生年份  出生月份  籍贯省份代码 籍贯省份名称  \\\n",
      "0  130000    河北省   130100    石家庄市  2000    陈来立   NaN   NaN     NaN    NaN   \n",
      "1  130000    河北省   130100    石家庄市  2001    吴振华   NaN   NaN     NaN    NaN   \n",
      "2  130000    河北省   130100    石家庄市  2002    吴振华   NaN   NaN     NaN    NaN   \n",
      "3  130000    河北省   130100    石家庄市  2003    吴振华   NaN   NaN     NaN    NaN   \n",
      "4  130000    河北省   130100    石家庄市  2004    吴振华   NaN   NaN     NaN    NaN   \n",
      "5  130000    河北省   130100    石家庄市  2005    吴振华   NaN   NaN     NaN    NaN   \n",
      "6  130000    河北省   130100    石家庄市  2006    吴振华   NaN   NaN     NaN    NaN   \n",
      "7  130000    河北省   130100    石家庄市  2007    吴显国   NaN   NaN     NaN    NaN   \n",
      "8  130000    河北省   130100    石家庄市  2008    吴显国   NaN   NaN     NaN    NaN   \n",
      "9  130000    河北省   130100    石家庄市  2009     车俊   NaN   NaN     NaN    NaN   \n",
      "\n",
      "   ...   民族  教育 是否是党校教育（是=1，否=0） 专业：人文 专业：社科  专业：理工  专业：农科  专业：医科  入党年份  工作年份  \n",
      "0  ...  NaN  硕士              1.0   NaN   NaN    NaN    NaN    NaN   NaN   NaN  \n",
      "1  ...  NaN  本科              0.0   0.0   0.0    1.0    0.0    0.0   NaN   NaN  \n",
      "2  ...  NaN  本科              0.0   0.0   0.0    1.0    0.0    0.0   NaN   NaN  \n",
      "3  ...  NaN  本科              0.0   0.0   0.0    1.0    0.0    0.0   NaN   NaN  \n",
      "4  ...  NaN  本科              0.0   0.0   0.0    1.0    0.0    0.0   NaN   NaN  \n",
      "5  ...  NaN  本科              0.0   0.0   0.0    1.0    0.0    0.0   NaN   NaN  \n",
      "6  ...  NaN  本科              0.0   0.0   0.0    1.0    0.0    0.0   NaN   NaN  \n",
      "7  ...  NaN  硕士              1.0   0.0   1.0    0.0    0.0    0.0   NaN   NaN  \n",
      "8  ...  NaN  硕士              1.0   0.0   1.0    0.0    0.0    0.0   NaN   NaN  \n",
      "9  ...  NaN  本科              1.0   0.0   1.0    0.0    0.0    0.0   NaN   NaN  \n",
      "\n",
      "[10 rows x 23 columns]\n"
     ]
    }
   ],
   "source": [
    "# 读取excel数据：read_excel\n",
    "data3 = pd.read_excel('地市级党委书记数据库（2000-10）.xlsx',sheet_name='中国人民共和国地市级党委书记数据库（2000-10）',header=0)\n",
    "print(data3.head(10))\n",
    "# sheetname：返回多表使用sheetname=[0,1],若sheetname=None是返回全表 → ① int/string 返回的是dataframe ②而none和list返回的是dict\n",
    "# header：指定列名行，默认0，即取第一行\n",
    "# index_col：指定列为索引列，也可以使用u”strings”"
   ]
  }
 ],
 "metadata": {
  "anaconda-cloud": {},
  "kernelspec": {
   "display_name": "Python 3",
   "language": "python",
   "name": "python3"
  },
  "language_info": {
   "codemirror_mode": {
    "name": "ipython",
    "version": 3
   },
   "file_extension": ".py",
   "mimetype": "text/x-python",
   "name": "python",
   "nbconvert_exporter": "python",
   "pygments_lexer": "ipython3",
   "version": "3.7.7"
  }
 },
 "nbformat": 4,
 "nbformat_minor": 1
}
