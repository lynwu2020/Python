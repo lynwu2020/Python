{
 "cells": [
  {
   "cell_type": "code",
   "execution_count": null,
   "metadata": {
    "collapsed": true
   },
   "outputs": [],
   "source": [
    "'''\n",
    "【课程2.8】  时间模块：datetime\n",
    "\n",
    "datetime模块，主要掌握：datetime.date(), datetime.datetime(), datetime.timedelta()\n",
    "\n",
    "日期解析方法：parser.parse\n",
    "\n",
    "'''"
   ]
  },
  {
   "cell_type": "code",
   "execution_count": 2,
   "metadata": {},
   "outputs": [
    {
     "name": "stdout",
     "output_type": "stream",
     "text": [
      "2020-05-29 <class 'datetime.date'>\n",
      "2016-06-01 <class 'datetime.date'>\n"
     ]
    }
   ],
   "source": [
    "# datetime.date：date对象\n",
    "import numpy as np\n",
    "import pandas as pd \n",
    "import datetime as dt\n",
    "today=dt.date.today()  #date.today()输出当前日期\n",
    "print(today,type(today)) #输出格式为 date类，可以由str()转换成字符串\n",
    "t =dt.date(2016,6,1) # date(year, month, day)\n",
    "print(t,type(t))"
   ]
  },
  {
   "cell_type": "code",
   "execution_count": 14,
   "metadata": {},
   "outputs": [
    {
     "name": "stdout",
     "output_type": "stream",
     "text": [
      "2020-05-28 20:37:47.364573 <class 'datetime.datetime'>\n",
      "2016-06-01 00:00:00 \n",
      " 2014-01-01 12:44:33\n",
      "881 days, 11:15:27 \n",
      " <class 'datetime.timedelta'>\n"
     ]
    }
   ],
   "source": [
    "# datetime.datetime：datetime对象  datetime(year, month, day, hour, minute, second, microsecond)\n",
    "now = dt.datetime.now()   #datetime.datetime.now()输出当前时间\n",
    "print(now,type(now))   # 输出格式为 datetime类\n",
    "t1 = dt.datetime(2016,6,1)  # (年，月，日，时，分，秒)，至少输入年月日\n",
    "t2 = dt.datetime(2014,1,1,12,44,33)\n",
    "print(t1,'\\n',t2)  \n",
    "print(t1-t2,'\\n',type(t1-t2))  # 相减得到时间差 —— timedelta类型"
   ]
  },
  {
   "cell_type": "code",
   "execution_count": 28,
   "metadata": {},
   "outputs": [
    {
     "name": "stdout",
     "output_type": "stream",
     "text": [
      "2020-05-27 16:46:36.928303\n",
      "2020-05-27 16:46:36.928303\n"
     ]
    }
   ],
   "source": [
    "# datetime.timedelta：时间差，主要用作时间的加减法，相当于可被识别的时间“差值”\n",
    "today = datetime.datetime.today()  # datetime.datetime也有today()方法\n",
    "#timedelta(days=0, seconds=0, microseconds=0, milliseconds=0, minutes=0, hours=0, weeks=0)\n",
    "yestoday = today - datetime.timedelta(1) #\n",
    "datetime.timedelta(seconds=3600)\n",
    "print(today-datetime.timedelta(seconds=3600*24)) \n",
    "print(yestoday)"
   ]
  },
  {
   "cell_type": "code",
   "execution_count": 41,
   "metadata": {},
   "outputs": [
    {
     "name": "stdout",
     "output_type": "stream",
     "text": [
      "2017-12-21 00:00:00 <class 'datetime.datetime'>\n",
      "2000-01-01 22:45:00 \n",
      " 2014-05-01 14:45:00 \n",
      " 2014-01-05 00:00:00 \n",
      " 2014-01-01 00:00:00 \n",
      " 1997-01-31 22:45:00\n"
     ]
    }
   ],
   "source": [
    "# parser.parse：字符串-日期转换parse(timestr, parserinfo=None,dayfirst=Flase,yearfirst=Flase)\n",
    "from dateutil.parser import parse\n",
    "date = '12-21-2017'\n",
    "t=parse(date)      # 各种格式可以解析，但无法支持中文\n",
    "print(t,type(t)) # 直接将str转化成datetime.datetime\n",
    "print(parse('2000-1-1 10:45 PM'),'\\n',\n",
    "     parse('5/1/2014 2:45 PM'),'\\n',\n",
    "     parse('5/1/2014', dayfirst = True),'\\n',  # 国际通用格式中，日在月之前，可以通过dayfirst来设置\n",
    "     parse('2014/1/1'),'\\n',\n",
    "     parse('Jan 31, 1997 10:45 PM'))"
   ]
  },
  {
   "cell_type": "markdown",
   "metadata": {},
   "source": [
    "######## 本节课有作业，请查看 “课程作业.docx”  ########"
   ]
  },
  {
   "cell_type": "code",
   "execution_count": null,
   "metadata": {
    "collapsed": true
   },
   "outputs": [],
   "source": [
    "'''\n",
    "【课程2.9】  Pandas时刻数据：Timestamp\n",
    "\n",
    "时刻数据代表时间点，是pandas的数据类型，是将值与时间点相关联的最基本类型的时间序列数据\n",
    "\n",
    "pandas.Timestamp()\n",
    "\n",
    "'''"
   ]
  },
  {
   "cell_type": "code",
   "execution_count": 57,
   "metadata": {},
   "outputs": [
    {
     "name": "stdout",
     "output_type": "stream",
     "text": [
      "2020-05-28 16:59:20 <class 'pandas._libs.tslibs.timestamps.Timestamp'> \n",
      " 2020-05-01 15:00:00\n",
      "2017-12-21 15:00:22\n"
     ]
    }
   ],
   "source": [
    "# pd.Timestamp()\n",
    "date1=datetime.datetime(2020,5,28,16,59,20)\n",
    "date2='2020-05-01 15:00:00' # 创建一个字符串\n",
    "t1 = pd.Timestamp(date1)  # 直接生成pandas的时刻数据 → 时间戳,数据类型为 pandas的Timestamp\n",
    "t2=pd.Timestamp(date2)\n",
    "print(t1,type(t1),'\\n',t2)\n",
    "print(pd.Timestamp('2017-12-21 15:00:22'))"
   ]
  },
  {
   "cell_type": "code",
   "execution_count": 78,
   "metadata": {
    "scrolled": true
   },
   "outputs": [
    {
     "name": "stdout",
     "output_type": "stream",
     "text": [
      "2016-12-01 12:45:30 <class 'pandas._libs.tslibs.timestamps.Timestamp'> \n",
      " 2017-12-21 00:00:00\n",
      "DatetimeIndex(['2017-12-21', '2017-12-22', '2017-12-23'], dtype='datetime64[ns]', freq=None) <class 'pandas.core.indexes.datetimes.DatetimeIndex'> \n",
      " [Timestamp('2017-12-21 00:00:00'), Timestamp('2017-12-22 00:00:00'), Timestamp('2017-12-23 00:00:00')]\n",
      "2017-08-06 10:50:50\n"
     ]
    }
   ],
   "source": [
    "# pd.to_datetime()：能生成DatetimeIndex\n",
    "# 如果是单个时间数据，转换成pandas的时刻数据，数据类型为Timestamp\n",
    "from datetime import datetime\n",
    "date1 = datetime(2016,12,1,12,45,30)\n",
    "date2 = '2017-12-21'\n",
    "t1 = pd.to_datetime(date1)\n",
    "t2 = pd.to_datetime(date2)\n",
    "print(t1,type(t1),'\\n',t2)\n",
    "# 多个时间数据，将会转换为pandas的DatetimeIndex\n",
    "lst_date = [ '2017-12-21', '2017-12-22', '2017-12-23']\n",
    "t3 = pd.to_datetime(lst_date)\n",
    "print(t3,type(t3),'\\n',list(t3))"
   ]
  },
  {
   "cell_type": "code",
   "execution_count": 76,
   "metadata": {},
   "outputs": [
    {
     "name": "stdout",
     "output_type": "stream",
     "text": [
      "[datetime.datetime(2015, 6, 1, 0, 0), datetime.datetime(2015, 7, 1, 0, 0), datetime.datetime(2015, 8, 1, 0, 0), datetime.datetime(2015, 9, 1, 0, 0), datetime.datetime(2015, 10, 1, 0, 0)]\n",
      "['2017-2-1', '2017-2-2', '2017-2-3', '2017-2-4', '2017-2-5', '2017-2-6']\n",
      "DatetimeIndex(['2017-02-01', '2017-02-02', '2017-02-03', '2017-02-04',\n",
      "               '2017-02-05', '2017-02-06'],\n",
      "              dtype='datetime64[ns]', freq=None)\n",
      "DatetimeIndex(['2017-02-01', '2017-02-02', '2017-02-03', '2017-02-04',\n",
      "               '2017-02-05', '2017-02-06'],\n",
      "              dtype='datetime64[ns]', freq=None)\n",
      "Index(['2017-2-1', '2017-2-2', '2017-2-3', 'hello world!', '2017-2-5',\n",
      "       '2017-2-6'],\n",
      "      dtype='object') <class 'pandas.core.indexes.base.Index'>\n",
      "DatetimeIndex(['2017-02-01', '2017-02-02', '2017-02-03', 'NaT', '2017-02-05',\n",
      "               '2017-02-06'],\n",
      "              dtype='datetime64[ns]', freq=None) <class 'pandas.core.indexes.datetimes.DatetimeIndex'>\n"
     ]
    }
   ],
   "source": [
    "# pd.to_datetime → 多个时间数据转换为时间戳索引\n",
    "date1 = [datetime(2015,6,1),datetime(2015,7,1),datetime(2015,8,1),datetime(2015,9,1),datetime(2015,10,1)]\n",
    "date2 = ['2017-2-1','2017-2-2','2017-2-3','2017-2-4','2017-2-5','2017-2-6']\n",
    "print(date1)\n",
    "print(date2)\n",
    "t1 = pd.to_datetime(date2)\n",
    "t2 = pd.to_datetime(date2)\n",
    "print(t1)\n",
    "print(t2)\n",
    "# 多个时间数据转换为 DatetimeIndex\n",
    "date3 = ['2017-2-1','2017-2-2','2017-2-3','hello world!','2017-2-5','2017-2-6']\n",
    "# 当一组时间序列中夹杂其他格式数据，可用errors参数返回,errors = 'ignore':不可解析时返回原始输入，生成数组\n",
    "t3 = pd.to_datetime(date3, errors = 'ignore')  \n",
    "print(t3,type(t3))\n",
    "# errors = 'coerce':强制生成，缺失值返回NaT（Not a Time），生成DatetimeIndex\n",
    "t4 = pd.to_datetime(date3, errors = 'coerce')\n",
    "print(t4,type(t4))"
   ]
  },
  {
   "cell_type": "markdown",
   "metadata": {},
   "source": [
    "######## 本节课有作业，请查看 “课程作业.docx”  ########"
   ]
  },
  {
   "cell_type": "code",
   "execution_count": null,
   "metadata": {
    "collapsed": true
   },
   "outputs": [],
   "source": [
    "'''\n",
    "【课程2.10】  Pandas时间戳索引：DatetimeIndex\n",
    "\n",
    "核心：pd.date_range()\n",
    "\n",
    "'''"
   ]
  },
  {
   "cell_type": "code",
   "execution_count": 84,
   "metadata": {},
   "outputs": [
    {
     "name": "stdout",
     "output_type": "stream",
     "text": [
      "DatetimeIndex(['2017-12-01', '2017-12-02', '2017-12-03', '2017-12-04',\n",
      "               '2017-12-05'],\n",
      "              dtype='datetime64[ns]', freq=None) <class 'pandas.core.indexes.datetimes.DatetimeIndex'>\n",
      "2017-12-01 00:00:00 <class 'pandas._libs.tslibs.timestamps.Timestamp'>\n"
     ]
    }
   ],
   "source": [
    "# pd.DatetimeIndex()与TimeSeries时间序列\n",
    "# pd.DatetimeIndex()直接生成时间戳索引，支持str、datetime.datetime\n",
    "rng=pd.DatetimeIndex(['12/1/2017','12/2/2017','12/3/2017','12/4/2017','12/5/2017'])\n",
    "print(rng,type(rng))\n",
    "print(rng[0],type(rng[0])) "
   ]
  },
  {
   "cell_type": "code",
   "execution_count": 81,
   "metadata": {},
   "outputs": [
    {
     "name": "stdout",
     "output_type": "stream",
     "text": [
      "DatetimeIndex(['2017-12-01', '2017-12-02', '2017-12-03', '2017-12-04',\n",
      "               '2017-12-05'],\n",
      "              dtype='datetime64[ns]', freq=None) <class 'pandas.core.indexes.datetimes.DatetimeIndex'>\n",
      "2017-12-01 00:00:00 <class 'pandas._libs.tslibs.timestamps.Timestamp'>\n",
      "2017-12-01    0.454362\n",
      "2017-12-02    0.919604\n",
      "2017-12-03    0.773076\n",
      "2017-12-04    0.342530\n",
      "2017-12-05    0.669910\n",
      "dtype: float64 <class 'pandas.core.series.Series'>\n",
      "DatetimeIndex(['2017-12-01', '2017-12-02', '2017-12-03', '2017-12-04',\n",
      "               '2017-12-05'],\n",
      "              dtype='datetime64[ns]', freq=None)\n"
     ]
    }
   ],
   "source": [
    "# pd.DatetimeIndex()\n",
    "# pd.DatetimeIndex()直接生成时间戳索引，支持str、datetime.datetime\n",
    "rng = pd.DatetimeIndex(['12/1/2017','12/2/2017','12/3/2017','12/4/2017','12/5/2017']) \n",
    "print(rng,type(rng))\n",
    "print(rng[0],type(rng[0])) # 单个时间戳为Timestamp，多个时间戳为DatetimeIndex\n",
    "#TimeSeries时间序列,以DatetimeIndex为index的Series，为TimeSries，时间序列\n",
    "st = pd.Series(np.random.rand(len(rng)), index=rng)\n",
    "print(st,type(st))\n",
    "print(st.index)  "
   ]
  },
  {
   "cell_type": "code",
   "execution_count": 112,
   "metadata": {},
   "outputs": [
    {
     "name": "stdout",
     "output_type": "stream",
     "text": [
      "DatetimeIndex(['2020-05-27', '2020-05-28'], dtype='datetime64[ns]', freq='D') <class 'pandas.core.indexes.datetimes.DatetimeIndex'>\n",
      "DatetimeIndex(['2017-01-01 15:00:00', '2017-01-02 15:00:00',\n",
      "               '2017-01-03 15:00:00'],\n",
      "              dtype='datetime64[ns]', name='hello world!', freq='D')\n",
      "DatetimeIndex(['2017-01-28', '2017-01-29', '2017-01-30'], dtype='datetime64[ns]', freq='D')\n",
      "------------------------------------------------------------\n",
      "DatetimeIndex(['2017-01-01', '2017-01-02', '2017-01-03', '2017-01-04'], dtype='datetime64[ns]', freq='D')\n",
      "DatetimeIndex(['2017-01-02', '2017-01-03', '2017-01-04'], dtype='datetime64[ns]', freq='D')\n",
      "DatetimeIndex(['2017-01-01', '2017-01-02', '2017-01-03'], dtype='datetime64[ns]', freq='D')\n"
     ]
    }
   ],
   "source": [
    "## pd.date_range(start,end,periods,freq='D',tz,normalize=False,name,closed)-生成日期范围DatetimeIndex\n",
    "# 2种生成方式：①start + end； ②start/end + periods, freq='D'\n",
    "# freq默认天，periods即生成时间个数，normalize，Normalize时间参数值正则化到午夜时间戳,closed=只闭哪一边\n",
    "rng1 = pd.date_range('20200526','20200528',freq='D',normalize=True,closed='right') #确定start、end、periods、freq任意三个即可\n",
    "rng2 = pd.date_range(start = '1/1/2017 15:00:00', periods = 3,name='hello world!') \n",
    "rng3 = pd.date_range(end = '1/30/2017 15:00:00', periods = 3,normalize=True)  # 增加了时、分、秒,被normallize\n",
    "print(rng1,type(rng1))\n",
    "print(rng2)\n",
    "print(rng3)\n",
    "print('-'*60)\n",
    "# closed：默认为None的情况下，左闭右闭，left则左闭右开，right则左开右闭\n",
    "print(pd.date_range('20170101','20170104'))  # 20170101也可读取\n",
    "print(pd.date_range('20170101','20170104',closed = 'right'))\n",
    "print(pd.date_range('20170101','20170104',closed = 'left'))\n"
   ]
  },
  {
   "cell_type": "code",
   "execution_count": 117,
   "metadata": {},
   "outputs": [
    {
     "name": "stdout",
     "output_type": "stream",
     "text": [
      "DatetimeIndex(['2017-01-06'], dtype='datetime64[ns]', freq='B')\n",
      "DatetimeIndex(['2017-01-03', '2017-01-04'], dtype='datetime64[ns]', freq='D')\n",
      "DatetimeIndex(['2017-01-03', '2017-01-04'], dtype='datetime64[ns]', freq='B')\n",
      "DatetimeIndex(['2017-01-01 00:00:00', '2017-01-01 12:00:00',\n",
      "               '2017-01-02 00:00:00'],\n",
      "              dtype='datetime64[ns]', freq='12H')\n",
      "DatetimeIndex(['2017-01-01 12:00:00', '2017-01-01 12:01:00',\n",
      "               '2017-01-01 12:02:00'],\n",
      "              dtype='datetime64[ns]', freq='T')\n",
      "DatetimeIndex(['2017-01-01 12:00:00'], dtype='datetime64[ns]', freq='30S')\n",
      "DatetimeIndex(['2017-01-01 12:00:00', '2017-01-01 12:00:00.500000',\n",
      "               '2017-01-01 12:00:01'],\n",
      "              dtype='datetime64[ns]', freq='500L')\n",
      "DatetimeIndex(['2017-01-01 12:00:00', '2017-01-01 12:00:00.500000',\n",
      "               '2017-01-01 12:00:01'],\n",
      "              dtype='datetime64[ns]', freq='500000U')\n",
      "DatetimeIndex(['2017-01-02', '2017-01-09', '2017-01-16', '2017-01-23',\n",
      "               '2017-01-30'],\n",
      "              dtype='datetime64[ns]', freq='W-MON')\n",
      "DatetimeIndex(['2017-01-09', '2017-02-13', '2017-03-13'], dtype='datetime64[ns]', freq='WOM-2MON')\n"
     ]
    }
   ],
   "source": [
    "# pd.date_range()-日期范围：频率(1)\n",
    "print(pd.bdate_range('20170106','20170107')) # pd.bdate_range()默认频率为工作日\n",
    "print(pd.date_range('2017/1/3','2017/1/4'))  # 默认freq = 'D'：每日历日\n",
    "print(pd.date_range('2017/1/3','2017/1/4', freq = 'B'))  # B：每工作日\n",
    "print(pd.date_range('2017/1/1','2017/1/2', freq = '12H'))  # H：每小时\n",
    "print(pd.date_range('2017/1/1 12:00','2017/1/1 12:02', freq = 'T'))  # T/MIN：每分\n",
    "print(pd.date_range('2017/1/1 12:00:00','2017/1/1 12:00:01', freq = '30S'))  # S：每秒\n",
    "print(pd.date_range('2017/1/1 12:00:00','2017/1/1 12:00:01', freq = '500L'))  # L：每毫秒（千分之一秒）\n",
    "print(pd.date_range('2017/1/1 12:00:00','2017/1/1 12:00:01', freq = '500000U'))  # U：每微秒（百万分之一秒）\n",
    "print(pd.date_range('2017/1/1','2017/2/1', freq = 'W-MON')) # W-MON按周并指定星期起始日#周缩写（MON/TUE/WED/THU/FRI/SAT/SUN）\n",
    "print(pd.date_range('2017/1/1','2017/4/1', freq = 'WOM-2MON')) # WOM-2MON：每月的第几个星期几开始算，这里是每月第二个星期一"
   ]
  },
  {
   "cell_type": "code",
   "execution_count": 126,
   "metadata": {},
   "outputs": [
    {
     "name": "stdout",
     "output_type": "stream",
     "text": [
      "DatetimeIndex(['2017-01-31', '2017-02-28'], dtype='datetime64[ns]', freq='M')\n",
      "DatetimeIndex(['2020-03-31', '2020-06-30'], dtype='datetime64[ns]', freq='Q-DEC')\n",
      "DatetimeIndex(['2019-12-31'], dtype='datetime64[ns]', freq='A-DEC')\n",
      "------------------------------------------------------------\n",
      "DatetimeIndex(['2017-12-29'], dtype='datetime64[ns]', freq='BM')\n",
      "DatetimeIndex(['2020-03-31'], dtype='datetime64[ns]', freq='BQ-DEC')\n",
      "DatetimeIndex(['2019-12-31'], dtype='datetime64[ns]', freq='BA-DEC')\n",
      "------------------------------------------------------------\n",
      "DatetimeIndex(['2017-12-01', '2018-01-01'], dtype='datetime64[ns]', freq='MS')\n",
      "DatetimeIndex(['2017-03-01', '2017-06-01', '2017-09-01', '2017-12-01'], dtype='datetime64[ns]', freq='QS-DEC')\n",
      "DatetimeIndex(['2017-12-01'], dtype='datetime64[ns]', freq='AS-DEC')\n",
      "------------------------------------------------------------\n",
      "DatetimeIndex(['2017-12-01', '2018-01-01'], dtype='datetime64[ns]', freq='BMS')\n",
      "DatetimeIndex(['2017-03-01', '2017-06-01', '2017-09-01', '2017-12-01'], dtype='datetime64[ns]', freq='BQS-DEC')\n",
      "DatetimeIndex(['2017-12-01'], dtype='datetime64[ns]', freq='BAS-DEC')\n"
     ]
    }
   ],
   "source": [
    "# pd.date_range()-日期范围：频率(2)\n",
    "print(pd.date_range('2017/01','2017/03', freq = 'M'))  # M：每月最后一个日历日\n",
    "print(pd.date_range('2020/01','2020/07', freq = 'Q-DEC'))  # Q-月：指定月为季度末，每个季度末最后一月的最后一个日历日\n",
    "print(pd.date_range('2019','2020', freq = 'A-DEC')) # A-月：每年指定月份的最后一个日历日\n",
    "print('-'*60)\n",
    "# 月缩写：JAN/FEB/MAR/APR/MAY/JUN/JUL/AUG/SEP/OCT/NOV/DEC\n",
    "# Q-月只有三种情况：1-4-7-10,2-5-8-11,3-6-9-12\n",
    "print(pd.date_range('2017/12','2018/01', freq = 'BM'))  # BM：每月最后一个工作日\n",
    "print(pd.date_range('2020/01','2020/06', freq = 'BQ-DEC'))  # BQ-月：指定月为季度末，每个季度末最后一月的最后一个工作日\n",
    "print(pd.date_range('2019','2020',freq = 'BA-DEC')) # BA-月：每年指定月份的最后一个工作日\n",
    "print('-'*60)\n",
    "print(pd.date_range('2017/12','2018/01', freq = 'MS'))   # M：每月第一个日历日\n",
    "print(pd.date_range('2017/01','2018/01', freq = 'QS-DEC'))  # Q-月：指定月为季度末，每个季度末最后一月的第一个日历日\n",
    "print(pd.date_range('2017/01','2018/01', freq = 'AS-DEC')) # A-月：每年指定月份的第一个日历日\n",
    "print('-'*60)\n",
    "print(pd.date_range('2017/12','2018//01', freq = 'BMS'))   # BM：每月第一个工作日\n",
    "print(pd.date_range('2017/01','2018/01', freq = 'BQS-DEC'))   # BQ-月：指定月为季度末，每个季度末最后一月的第一个工作日\n",
    "print(pd.date_range('2017','2018', freq = 'BAS-DEC'))  # BA-月：每年指定月份的第一个工作日\n"
   ]
  },
  {
   "cell_type": "code",
   "execution_count": 127,
   "metadata": {},
   "outputs": [
    {
     "name": "stdout",
     "output_type": "stream",
     "text": [
      "DatetimeIndex(['2017-01-01', '2017-01-08', '2017-01-15', '2017-01-22',\n",
      "               '2017-01-29'],\n",
      "              dtype='datetime64[ns]', freq='7D')\n",
      "DatetimeIndex(['2017-01-01 00:00:00', '2017-01-01 02:30:00',\n",
      "               '2017-01-01 05:00:00', '2017-01-01 07:30:00',\n",
      "               '2017-01-01 10:00:00', '2017-01-01 12:30:00',\n",
      "               '2017-01-01 15:00:00', '2017-01-01 17:30:00',\n",
      "               '2017-01-01 20:00:00', '2017-01-01 22:30:00'],\n",
      "              dtype='datetime64[ns]', freq='150T')\n",
      "DatetimeIndex(['2017-01-31', '2017-03-31', '2017-05-31', '2017-07-31',\n",
      "               '2017-09-30', '2017-11-30'],\n",
      "              dtype='datetime64[ns]', freq='2M')\n"
     ]
    }
   ],
   "source": [
    "# pd.date_range()-日期范围：复合频率\n",
    "print(pd.date_range('2017/1/1','2017/2/1', freq = '7D'))  # 7天\n",
    "print(pd.date_range('2017/1/1','2017/1/2', freq = '2h30min'))  # 2小时30分钟\n",
    "print(pd.date_range('2017','2018', freq = '2M'))  # 2月，每月最后一个日历日"
   ]
  },
  {
   "cell_type": "code",
   "execution_count": 128,
   "metadata": {},
   "outputs": [
    {
     "name": "stdout",
     "output_type": "stream",
     "text": [
      "2017-01-01    0.369975\n",
      "2017-01-02    0.833426\n",
      "2017-01-03    0.482714\n",
      "2017-01-04    0.167447\n",
      "Freq: D, dtype: float64\n",
      "2017-01-01 00:00:00    0.369975\n",
      "2017-01-01 12:00:00    0.369975\n",
      "2017-01-02 00:00:00    0.833426\n",
      "2017-01-02 12:00:00    0.833426\n",
      "2017-01-03 00:00:00    0.482714\n",
      "2017-01-03 12:00:00    0.482714\n",
      "2017-01-04 00:00:00    0.167447\n",
      "Freq: 12H, dtype: float64\n"
     ]
    }
   ],
   "source": [
    "# t.asfreq()：时期频率转换\n",
    "ts = pd.Series(np.random.rand(4),\n",
    "              index = pd.date_range('20170101','20170104'))\n",
    "print(ts)\n",
    "print(ts.asfreq('12H',method = 'ffill'))  # 改变频率，这里是D改为4H\n",
    "# method：插值模式，默认None不插值填充Nah，ffill用之前值填充，bfill用之后值填充"
   ]
  },
  {
   "cell_type": "code",
   "execution_count": 14,
   "metadata": {},
   "outputs": [
    {
     "name": "stdout",
     "output_type": "stream",
     "text": [
      "2017-01-01    0.967312\n",
      "2017-01-02    0.945871\n",
      "2017-01-03    0.555347\n",
      "2017-01-04    0.872889\n",
      "Freq: D, dtype: float64\n",
      "2017-01-01         NaN\n",
      "2017-01-02         NaN\n",
      "2017-01-03    0.967312\n",
      "2017-01-04    0.945871\n",
      "Freq: D, dtype: float64\n",
      "2017-01-01    0.555347\n",
      "2017-01-02    0.872889\n",
      "2017-01-03         NaN\n",
      "2017-01-04         NaN\n",
      "Freq: D, dtype: float64\n",
      "------\n",
      "2017-01-01         NaN\n",
      "2017-01-02   -0.022166\n",
      "2017-01-03   -0.412872\n",
      "2017-01-04    0.571790\n",
      "Freq: D, dtype: float64\n",
      "------\n",
      "2017-01-03    0.967312\n",
      "2017-01-04    0.945871\n",
      "2017-01-05    0.555347\n",
      "2017-01-06    0.872889\n",
      "Freq: D, dtype: float64\n",
      "2017-01-01 00:02:00    0.967312\n",
      "2017-01-02 00:02:00    0.945871\n",
      "2017-01-03 00:02:00    0.555347\n",
      "2017-01-04 00:02:00    0.872889\n",
      "Freq: D, dtype: float64\n"
     ]
    }
   ],
   "source": [
    "# pd.date_range()-.shift()日期范围：超前/滞后数据\n",
    "ts = pd.Series(np.random.rand(4),\n",
    "              index = pd.date_range('20170101','20170104'))\n",
    "print(ts)\n",
    "# 正数：数值后移（滞后）；负数：数值前移（超前）\n",
    "print(ts.shift(2))\n",
    "print(ts.shift(-2))\n",
    "print('-'*60)\n",
    "per = ts/ts.shift(1) - 1   # 计算变化百分比，这里计算：该时间戳与上一个时间戳相比，变化百分比\n",
    "print(per)\n",
    "print('-'*60)\n",
    "# 加上freq参数：对时间戳进行位移，而不是对数值进行位移\n",
    "print(ts.shift(2, freq = 'D'))\n",
    "print(ts.shift(2, freq = 'T'))\n"
   ]
  },
  {
   "cell_type": "markdown",
   "metadata": {},
   "source": [
    "######## 本节课有作业，请查看 “课程作业.docx”  ########"
   ]
  },
  {
   "cell_type": "code",
   "execution_count": null,
   "metadata": {},
   "outputs": [],
   "source": [
    "'''\n",
    "【课程2.11】  Pandas时期：Period\n",
    "\n",
    "核心：pd.Period()\n",
    "\n",
    "'''"
   ]
  },
  {
   "cell_type": "code",
   "execution_count": 16,
   "metadata": {},
   "outputs": [
    {
     "name": "stdout",
     "output_type": "stream",
     "text": [
      "2017-01 <class 'pandas._libs.tslibs.period.Period'>\n",
      "2017-02\n",
      "2016-11\n",
      "2011\n"
     ]
    }
   ],
   "source": [
    "# pd.Period()创建时期构造器\n",
    "# pd.Period()参数：一个时间戳 + freq 参数 → freq用于指明该 period 的长度，时间戳则说明该 period 在时间轴上的位置\n",
    "p = pd.Period('2017', freq = 'M') # 生成一个以2017-01开始，月为频率的时间构造器\n",
    "print(p, type(p))\n",
    "print(p + 1)\n",
    "print(p - 2)\n",
    "print(pd.Period('2012', freq = 'A-DEC') - 1)  # Period('2012', freq = 'A-DEC')可以看成多个时间期的时间段中的游标\n",
    "# 通过加减整数，将周期整体移动,这里是按照 月、年 移动"
   ]
  },
  {
   "cell_type": "code",
   "execution_count": 24,
   "metadata": {
    "scrolled": true
   },
   "outputs": [
    {
     "name": "stdout",
     "output_type": "stream",
     "text": [
      "PeriodIndex(['2011-02', '2011-03'], dtype='period[M]', freq='M') <class 'pandas.core.indexes.period.PeriodIndex'>\n",
      "2011-02 <class 'pandas._libs.tslibs.period.Period'>\n",
      "2011-02    0.122083\n",
      "2011-03    0.288393\n",
      "Freq: M, dtype: float64 <class 'pandas.core.series.Series'>\n",
      "PeriodIndex(['2011-02', '2011-03'], dtype='period[M]', freq='M')\n"
     ]
    }
   ],
   "source": [
    "# pd.period_range()创建时期范围\n",
    "prng = pd.period_range('2/1/2011','3/1/2011', freq='M')\n",
    "print(prng,type(prng))\n",
    "print(prng[0],type(prng[0]))  # 数据格式为PeriodIndex，单个数值为Period\n",
    "ts = pd.Series(np.random.rand(len(prng)), index = prng) \n",
    "print(ts,type(ts))\n",
    "print(ts.index)  # 时间序列\n",
    "# Timestamp表示一个时间戳，是一个时间截面；Period是一个时期，是一个时间段！！但两者作为index时区别不大"
   ]
  },
  {
   "cell_type": "code",
   "execution_count": 45,
   "metadata": {
    "scrolled": true
   },
   "outputs": [
    {
     "name": "stdout",
     "output_type": "stream",
     "text": [
      "2017 \n",
      "\n",
      "2017-01 \n",
      "\n",
      "2017-12-31 \n",
      "\n",
      "2017-10    0.956754\n",
      "2017-11    0.898589\n",
      "2017-12    0.534834\n",
      "Freq: M, dtype: float64 3\n",
      "2017-10-01    0.174961\n",
      "2017-11-01    0.549328\n",
      "2017-12-01    0.812908\n",
      "Freq: D, dtype: float64 3\n"
     ]
    }
   ],
   "source": [
    "# asfreq：频率转换\n",
    "# 通过.asfreq(freq, method=None, how=None)方法转换成别的频率\n",
    "p = pd.Period('2017','A-DEC')\n",
    "print(p,'\\n')\n",
    "print(p.asfreq('M', how = 'start'),'\\n')   # 也可写 how = 's', 取时期第一个\n",
    "print(p.asfreq('D', how = 'end'),'\\n')  # 也可写 how = 'e'，取时间最后一个\n",
    "prng = pd.period_range('201710','201712',freq = 'M')\n",
    "ts1 = pd.Series(np.random.rand(len(prng)), index = prng)\n",
    "ts2 = pd.Series(np.random.rand(len(prng)), index = prng.asfreq('D', how = 'start')) # asfreq也可以转换TIMESeries的index\n",
    "print(ts1.head(),len(ts1))\n",
    "print(ts2.head(),len(ts2))"
   ]
  },
  {
   "cell_type": "code",
   "execution_count": null,
   "metadata": {},
   "outputs": [],
   "source": []
  },
  {
   "cell_type": "code",
   "execution_count": 51,
   "metadata": {},
   "outputs": [
    {
     "name": "stdout",
     "output_type": "stream",
     "text": [
      "2020-03-31    0.396893\n",
      "2020-04-30    0.290071\n",
      "2020-05-31    0.379792\n",
      "Freq: M, dtype: float64 \n",
      "\n",
      "2020-03    0.396893\n",
      "2020-04    0.290071\n",
      "2020-05    0.379792\n",
      "Freq: M, dtype: float64 \n",
      "\n",
      "2020-01    0.208427\n",
      "2020-02    0.745498\n",
      "Freq: M, dtype: float64 \n",
      "\n",
      "2020-01-01    0.208427\n",
      "2020-02-01    0.745498\n",
      "dtype: float64 \n",
      "\n"
     ]
    }
   ],
   "source": [
    "# 时间戳与时期之间的转换：pd.to_period()、pd.to_timestamp()\n",
    "# 时间戳转时期\n",
    "rng = pd.date_range('2020/3/1', periods = 3, freq = 'M')\n",
    "ts1 = pd.Series(np.random.rand(len(rng)), index = rng)\n",
    "print(ts1.head(),'\\n')\n",
    "print(ts1.to_period().head(),'\\n')  # 每月最后一日，转化为每月\n",
    "# 时期转时间戳\n",
    "prng = pd.period_range('202001','202002', freq = 'M')\n",
    "ts2 = pd.Series(np.random.rand(len(prng)), index = prng)\n",
    "print(ts2.head(),'\\n')\n",
    "print(ts2.to_timestamp().head(),'\\n') # 每月，转化为每月第一天\n"
   ]
  },
  {
   "cell_type": "markdown",
   "metadata": {},
   "source": [
    "######## 本节课有作业，请查看 “课程作业.docx”  ########"
   ]
  },
  {
   "cell_type": "code",
   "execution_count": null,
   "metadata": {},
   "outputs": [],
   "source": [
    "'''\n",
    "【课程2.12】  时间序列 - 索引及切片\n",
    "\n",
    "TimeSeries是Series的一个子类，所以Series索引及数据选取方面的方法基本一样\n",
    "\n",
    "同时TimeSeries通过时间序列有更便捷的方法做索引和切片\n",
    " \n",
    "'''"
   ]
  },
  {
   "cell_type": "code",
   "execution_count": 79,
   "metadata": {},
   "outputs": [
    {
     "name": "stdout",
     "output_type": "stream",
     "text": [
      "2020-04-01    0.718144\n",
      "Freq: 2D, dtype: float64 \n",
      "\n",
      "0.7181437003730454 \n",
      "\n",
      "0.7181437003730454 \n",
      "\n",
      "0.7181437003730454 \n",
      "\n",
      "2020-04-01    0.718144\n",
      "2020-04-02    0.638478\n",
      "Freq: D, dtype: float64 \n",
      "\n",
      "2020-04-01    0.718144\n",
      "2020-04-02    0.638478\n",
      "2020-04-03    0.965021\n",
      "Freq: D, dtype: float64 \n",
      "\n",
      "2020-04-01    0.718144\n",
      "2020-04-02    0.638478\n",
      "Freq: D, dtype: float64 \n",
      "\n"
     ]
    }
   ],
   "source": [
    "# 索引\n",
    "from datetime import datetime\n",
    "rng=pd.date_range('2020/04/01','2020/04/03',freq='D')\n",
    "ts=pd.Series(np.random.rand(len(rng)),index=rng)\n",
    "print(ts[0:2:2],'\\n')  #位置下标签索引+切片\n",
    "print(ts['2020/4/01'],'\\n')  #时间序列索引\n",
    "print(ts['04/01/2020'],'\\n')  #支持各种时间字符串\n",
    "print(ts[datetime(2020,4,1)],'\\n')  #datetime.datetime的转换\n",
    "# 时间序列由于按照时间先后排序，故不用考虑顺序问题\n",
    "# 索引方法同样适用于Dataframe\n",
    "# 切片\n",
    "print(ts['2020/4/1':'2020/4/02':1],'\\n')  # 和Series按照index索引原理一样，也是末端包含\n",
    "print(ts['2020'].head(),'\\n') # 包含结构，传入年，直接得到一个切片\n",
    "print(ts.loc['2020/4/1':'2020/4/02':1],'\\n')  和"
   ]
  },
  {
   "cell_type": "code",
   "execution_count": 77,
   "metadata": {},
   "outputs": [
    {
     "name": "stdout",
     "output_type": "stream",
     "text": [
      "2015-01-01    0.432545\n",
      "2015-01-02    0.372165\n",
      "2015-01-03    0.510051\n",
      "2015-01-04    0.751954\n",
      "2015-01-01    0.718059\n",
      "2015-01-02    0.000958\n",
      "dtype: float64 \n",
      "\n",
      "True False \n",
      "\n",
      "------------------------------------------------------------\n",
      "2015-01-01    0.432545\n",
      "2015-01-01    0.718059\n",
      "dtype: float64 <class 'pandas.core.series.Series'>\n",
      "2015-01-04    0.751954\n",
      "dtype: float64 <class 'pandas.core.series.Series'>\n",
      "------------------------------------------------------------\n",
      "2015-01-01    0.575302\n",
      "2015-01-02    0.186562\n",
      "2015-01-03    0.510051\n",
      "2015-01-04    0.751954\n",
      "dtype: float64\n"
     ]
    }
   ],
   "source": [
    "# 重复索引的时间序列\n",
    "dates = pd.DatetimeIndex(['1/1/2015','1/2/2015','1/3/2015','1/4/2015','1/1/2015','1/2/2015'])\n",
    "ts = pd.Series(np.random.rand(6), index = dates)\n",
    "print(ts,'\\n')\n",
    "print(ts.is_unique,ts.index.is_unique,'\\n')  #.is_unique查重\n",
    "print('-'*60)\n",
    "# index有重复，is_unique检查 → values唯一，index不唯一\n",
    "print(ts['20150101'],type(ts['20150101']))  # index有重复的将返回多个值\n",
    "print(ts['20150104'],type(ts['20150104'])) \n",
    "print('-'*60)\n",
    "print(ts.groupby(level = 0).mean()) # 通过groupby做分组，重复的值这里用平均值处理，level=0自动按照第一维度标签分组"
   ]
  },
  {
   "cell_type": "markdown",
   "metadata": {},
   "source": [
    "######## 本节课有作业，请查看 “课程作业.docx”  ########"
   ]
  },
  {
   "cell_type": "code",
   "execution_count": null,
   "metadata": {
    "collapsed": true
   },
   "outputs": [],
   "source": [
    "'''\n",
    "【课程2.13】  时间序列 - 重采样\n",
    "将时间序列从一个频率转换为另一个频率的过程，且会有数据的结合\n",
    "降采样：高频数据 → 低频数据，eg.以天为频率的数据转为以月为频率的数据\n",
    "升采样：低频数据 → 高频数据，eg.以年为频率的数据转为以月为频率的数据\n",
    " \n",
    "'''"
   ]
  },
  {
   "cell_type": "code",
   "execution_count": 100,
   "metadata": {},
   "outputs": [
    {
     "name": "stdout",
     "output_type": "stream",
     "text": [
      "2020-05-20 00:00:00    74\n",
      "2020-05-22 12:00:00    44\n",
      "2020-05-25 00:00:00     3\n",
      "2020-05-27 12:00:00    47\n",
      "2020-05-30 00:00:00    77\n",
      "Freq: 60H, dtype: int64 \n",
      "\n",
      "2020-05-20    59\n",
      "2020-05-25    25\n",
      "2020-05-30    77\n",
      "Freq: 5D, dtype: int64 → 求平均值\n",
      "\n",
      "2020-05-20    74\n",
      "2020-05-25    47\n",
      "2020-05-30    77\n",
      "Freq: 5D, dtype: int64 → 求最大值\n",
      "\n",
      "2020-05-20    44\n",
      "2020-05-25     3\n",
      "2020-05-30    77\n",
      "Freq: 5D, dtype: int64 → 求最小值\n",
      "\n",
      "2020-05-20    59\n",
      "2020-05-25    25\n",
      "2020-05-30    77\n",
      "Freq: 5D, dtype: int64 → 求中值\n",
      "\n",
      "2020-05-20    74\n",
      "2020-05-25     3\n",
      "2020-05-30    77\n",
      "Freq: 5D, dtype: int64 → 返回第一个值\n",
      "\n",
      "2020-05-20    44\n",
      "2020-05-25    47\n",
      "2020-05-30    77\n",
      "Freq: 5D, dtype: int64 → 返回最后一个值\n",
      "\n",
      "            open  high  low  close\n",
      "2020-05-20    74    74   44     44\n",
      "2020-05-25     3    47    3     47\n",
      "2020-05-30    77    77   77     77 → OHLC重采样\n",
      "\n"
     ]
    }
   ],
   "source": [
    "# 重采样：.resample()\n",
    "# 创建一个以天为频率的TimeSeries，重采样为按2天为频率\n",
    "rng=pd.date_range('2020/05/20','2020/05/30',freq='2.5D')\n",
    "ts=pd.Series(np.random.randint(0,100,size=len(rng)),index=rng) \n",
    "print(ts.head(),'\\n') \n",
    "# ts.resample()：得到一个重采样构建器，频率改为5天,输出为DatetimeIndexResampler\n",
    "ts_re=ts.resample('5D')  #降采样\n",
    "ts_re2 = ts.resample('5D').sum()   # 得到一个新的聚合后的Series，聚合方式为求和\n",
    "print(ts.resample('5D').mean(),'→ 求平均值\\n')\n",
    "print(ts.resample('5D').max(),'→ 求最大值\\n')\n",
    "print(ts.resample('5D').min(),'→ 求最小值\\n')\n",
    "print(ts.resample('5D').median(),'→ 求中值\\n')\n",
    "print(ts.resample('5D').first(),'→ 返回第一个值\\n')\n",
    "print(ts.resample('5D').last(),'→ 返回最后一个值\\n')\n",
    "print(ts.resample('5D').ohlc(),'→ OHLC重采样\\n')\n",
    "# OHLC:金融领域的时间序列聚合方式 → open开盘、high最大值、low最小值、close收盘"
   ]
  },
  {
   "cell_type": "code",
   "execution_count": 104,
   "metadata": {},
   "outputs": [
    {
     "name": "stdout",
     "output_type": "stream",
     "text": [
      "2020-05-01     1\n",
      "2020-05-02     2\n",
      "2020-05-03     3\n",
      "2020-05-04     4\n",
      "2020-05-05     5\n",
      "2020-05-06     6\n",
      "2020-05-07     7\n",
      "2020-05-08     8\n",
      "2020-05-09     9\n",
      "2020-05-10    10\n",
      "2020-05-11    11\n",
      "2020-05-12    12\n",
      "Freq: D, dtype: int64 \n",
      "\n",
      "2020-05-01    15\n",
      "2020-05-06    40\n",
      "2020-05-11    23\n",
      "Freq: 5D, dtype: int64 → 默认\n",
      "\n",
      "2020-05-01    15\n",
      "2020-05-06    40\n",
      "2020-05-11    23\n",
      "Freq: 5D, dtype: int64 → left\n",
      "\n",
      "2020-04-26     1\n",
      "2020-05-01    20\n",
      "2020-05-06    45\n",
      "2020-05-11    12\n",
      "Freq: 5D, dtype: int64 → right\n",
      "\n",
      "-----\n",
      "2020-05-01    15\n",
      "2020-05-06    40\n",
      "2020-05-11    23\n",
      "Freq: 5D, dtype: int64 → leftlabel\n",
      "\n",
      "2020-05-06    15\n",
      "2020-05-11    40\n",
      "2020-05-16    23\n",
      "Freq: 5D, dtype: int64 → rightlabel\n",
      "\n"
     ]
    }
   ],
   "source": [
    "# 降采样\n",
    "rng = pd.date_range('20200501', periods =12)\n",
    "ts = pd.Series(np.arange(1,13), index = rng)\n",
    "print(ts.head(12),'\\n')\n",
    "print(ts.resample('5D').sum(),'→ 默认\\n')\n",
    "print(ts.resample('5D', closed = 'left').sum(),'→ left\\n')\n",
    "print(ts.resample('5D', closed = 'right').sum(),'→ right\\n')\n",
    "print('-----')\n",
    "# closed：各时间段哪一端是闭合（即包含）的，默认 左闭右闭\n",
    "# 详解：这里values为0-11，按照5D重采样 → [1,2,3,4,5],[6,7,8,9,10],[11,12]\n",
    "# left指定间隔左边为结束 → [1,2,3,4,5],[6,7,8,9,10],[11,12]\n",
    "# right指定间隔右边为结束 → [1],[2,3,4,5,6],[7,8,9,10,11],[12]\n",
    "\n",
    "print(ts.resample('5D', label = 'left').sum(),'→ leftlabel\\n')\n",
    "print(ts.resample('5D', label = 'right').sum(),'→ rightlabel\\n')\n",
    "# label：聚合值的index，默认为取左，值采样为默认（这里closed默认）"
   ]
  },
  {
   "cell_type": "code",
   "execution_count": 5,
   "metadata": {},
   "outputs": [
    {
     "name": "stdout",
     "output_type": "stream",
     "text": [
      "                      a   b   c\n",
      "2017-01-01 00:00:00   0   1   2\n",
      "2017-01-01 01:00:00   3   4   5\n",
      "2017-01-01 02:00:00   6   7   8\n",
      "2017-01-01 03:00:00   9  10  11\n",
      "2017-01-01 04:00:00  12  13  14 \n",
      "\n",
      "                        a     b     c\n",
      "2017-01-01 00:00:00   0.0   1.0   2.0\n",
      "2017-01-01 00:30:00   NaN   NaN   NaN\n",
      "2017-01-01 01:00:00   3.0   4.0   5.0\n",
      "2017-01-01 01:30:00   NaN   NaN   NaN\n",
      "2017-01-01 02:00:00   6.0   7.0   8.0\n",
      "2017-01-01 02:30:00   NaN   NaN   NaN\n",
      "2017-01-01 03:00:00   9.0  10.0  11.0\n",
      "2017-01-01 03:30:00   NaN   NaN   NaN\n",
      "2017-01-01 04:00:00  12.0  13.0  14.0 \n",
      "\n",
      "                      a   b   c\n",
      "2017-01-01 00:00:00   0   1   2\n",
      "2017-01-01 00:30:00   0   1   2\n",
      "2017-01-01 01:00:00   3   4   5\n",
      "2017-01-01 01:30:00   3   4   5\n",
      "2017-01-01 02:00:00   6   7   8\n",
      "2017-01-01 02:30:00   6   7   8\n",
      "2017-01-01 03:00:00   9  10  11\n",
      "2017-01-01 03:30:00   9  10  11\n",
      "2017-01-01 04:00:00  12  13  14 \n",
      "\n",
      "                      a   b   c\n",
      "2017-01-01 00:00:00   0   1   2\n",
      "2017-01-01 00:30:00   3   4   5\n",
      "2017-01-01 01:00:00   3   4   5\n",
      "2017-01-01 01:30:00   6   7   8\n",
      "2017-01-01 02:00:00   6   7   8\n",
      "2017-01-01 02:30:00   9  10  11\n",
      "2017-01-01 03:00:00   9  10  11\n",
      "2017-01-01 03:30:00  12  13  14\n",
      "2017-01-01 04:00:00  12  13  14 \n",
      "\n"
     ]
    }
   ],
   "source": [
    "# 升采样及插值\n",
    "rng = pd.date_range('2017/1/1 0:0:0', periods = 5, freq = 'H')\n",
    "ts = pd.DataFrame(np.arange(15).reshape(5,3),\n",
    "                  index = rng,\n",
    "                  columns = ['a','b','c'])\n",
    "print(ts,'\\n') \n",
    "# 低频转高频，主要是如何插值\n",
    "print(ts.resample('30T').asfreq(),'\\n')  # .asfreq()：不做填充，返回Nan\n",
    "print(ts.resample('30T').ffill(),'\\n')   # .ffill()：向上填充\n",
    "print(ts.resample('30T').bfill(),'\\n')   # .bfill()：向下填充"
   ]
  },
  {
   "cell_type": "code",
   "execution_count": 9,
   "metadata": {},
   "outputs": [
    {
     "name": "stdout",
     "output_type": "stream",
     "text": [
      "2016-01     0\n",
      "2016-02     1\n",
      "2016-03     2\n",
      "2016-04     3\n",
      "2016-05     4\n",
      "2016-06     5\n",
      "2016-07     6\n",
      "2016-08     7\n",
      "2016-09     8\n",
      "2016-10     9\n",
      "2016-11    10\n",
      "2016-12    11\n",
      "2017-01    12\n",
      "Freq: M, dtype: int64\n",
      "2016-01    0\n",
      "2016-02    1\n",
      "2016-03    2\n",
      "2016-04    3\n",
      "2016-05    4\n",
      "2016-06    5\n",
      "2016-07    6\n",
      "2016-08    7\n",
      "2016-09    8\n",
      "2016-10    9\n",
      "Freq: M, dtype: int64\n",
      "2016-01-01    0\n",
      "2016-01-16    0\n",
      "2016-01-31    0\n",
      "2016-02-15    1\n",
      "2016-03-01    2\n",
      "2016-03-16    2\n",
      "2016-03-31    2\n",
      "2016-04-15    3\n",
      "2016-04-30    3\n",
      "2016-05-15    4\n",
      "Freq: 15D, dtype: int64\n"
     ]
    }
   ],
   "source": [
    "# 时期重采样 - Period 跟period_range一致\n",
    "prng = pd.period_range('2016','2017',freq = 'M')\n",
    "ts = pd.Series(np.arange(len(prng)), index = prng)\n",
    "print(ts)\n",
    "print(ts.resample('M').sum().head(10))  # 降采样\n",
    "print(ts.resample('15D').ffill().head(10))  # 升采样"
   ]
  },
  {
   "cell_type": "markdown",
   "metadata": {},
   "source": [
    "######## 本节课有作业，请查看 “课程作业.docx”  ########"
   ]
  }
 ],
 "metadata": {
  "anaconda-cloud": {},
  "kernelspec": {
   "display_name": "Python 3",
   "language": "python",
   "name": "python3"
  },
  "language_info": {
   "codemirror_mode": {
    "name": "ipython",
    "version": 3
   },
   "file_extension": ".py",
   "mimetype": "text/x-python",
   "name": "python",
   "nbconvert_exporter": "python",
   "pygments_lexer": "ipython3",
   "version": "3.7.7"
  }
 },
 "nbformat": 4,
 "nbformat_minor": 1
}
