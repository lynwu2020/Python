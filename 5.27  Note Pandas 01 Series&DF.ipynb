{
 "cells": [
  {
   "cell_type": "code",
   "execution_count": null,
   "metadata": {
    "collapsed": true
   },
   "outputs": [],
   "source": [
    "'''\n",
    "【课程2.2】  Pandas数据结构Series：基本概念及创建\n",
    "\"一维数组\"Serise\n",
    "1.series基本概念及创建 \n",
    "2.series索引\n",
    "3.series基本技巧\n",
    "4.dataframe基本概念及创建 \n",
    "5.dataframe 索引 \n",
    "6.dataframe 基本技巧 \n",
    "'''"
   ]
  },
  {
   "cell_type": "code",
   "execution_count": 2,
   "metadata": {},
   "outputs": [
    {
     "name": "stdout",
     "output_type": "stream",
     "text": [
      "0    0.350633\n",
      "1    0.493936\n",
      "2    0.207519\n",
      "3    0.733144\n",
      "4    0.271580\n",
      "5    0.226033\n",
      "6    0.903872\n",
      "7    0.081838\n",
      "8    0.258773\n",
      "9    0.420291\n",
      "Name: test, dtype: float64 <class 'pandas.core.series.Series'> test\n",
      "[0, 1, 2, 3, 4, 5, 6, 7, 8, 9] RangeIndex(start=0, stop=10, step=1) <class 'pandas.core.indexes.range.RangeIndex'>\n",
      "[0.35063305 0.49393643 0.20751919 0.73314385 0.2715799  0.22603252\n",
      " 0.90387213 0.08183817 0.25877252 0.42029137] <class 'numpy.ndarray'>\n"
     ]
    }
   ],
   "source": [
    "# 核心：series相比于ndarray，是一个自带索引index的数组 → 一维数组 + 对应索引,所以当只看series的值的时候，就是一个ndarray\n",
    "# series和ndarray较相似，索引切片功能差别不大\n",
    "# series和dict相比，series更像一个有顺序的字典（dict本身不存在顺序），其索引原理与字典相似（一个用key，一个用index）\n",
    "import numpy as np\n",
    "import pandas as pd \n",
    "#数组的创建：\n",
    "#pd.Series(data=None,index=None,dtype=None,name=None,copy=False,fastpath=False) 可定义 index,dtype,name\n",
    "# index参数：设置index，长度保持一致,默认index是从0开始，步长为1的数字 \n",
    "# dtype参数：设置数值类型\n",
    "s=pd.Series(np.random.rand(10),index=range(10),dtype=np.float64,name='test')  # Series可通过一维数组创建\n",
    "print(s,type(s),s.name)     # like dict but in order\n",
    "print(list(s.index),s.index,type(s.index))  #.index查看series索引，类型为rangeindex\n",
    "print(s.values,type(s.values)) # .values查看series值，类型是ndarray"
   ]
  },
  {
   "cell_type": "code",
   "execution_count": 59,
   "metadata": {},
   "outputs": [
    {
     "name": "stdout",
     "output_type": "stream",
     "text": [
      "a        1\n",
      "b    hello\n",
      "c        3\n",
      "4        4\n",
      "5        5\n",
      "dtype: object\n"
     ]
    }
   ],
   "source": [
    "# Series 创建方法一：由字典创建，字典的key就是index，values就是values (字典的 key 肯定是字符串)\n",
    "dic = {'a':1 ,'b':'hello' , 'c':3, 4:4, 5:5}\n",
    "s = pd.Series(dic) \n",
    "print(s) "
   ]
  },
  {
   "cell_type": "code",
   "execution_count": 58,
   "metadata": {},
   "outputs": [
    {
     "name": "stdout",
     "output_type": "stream",
     "text": [
      "a    0\n",
      "b    0\n",
      "c    8\n",
      "d    6\n",
      "e    6\n",
      "Name: test2, dtype: object\n"
     ]
    }
   ],
   "source": [
    "# Series 创建方法二：由数组创建(一维数组)\n",
    "s=pd.Series(np.random.randint(0,10,size=(5)),index=list('abcde'),dtype=np.object,name='test2')\n",
    "print(s)"
   ]
  },
  {
   "cell_type": "code",
   "execution_count": 60,
   "metadata": {},
   "outputs": [
    {
     "name": "stdout",
     "output_type": "stream",
     "text": [
      "0    10\n",
      "1    10\n",
      "2    10\n",
      "3    10\n",
      "dtype: int64\n"
     ]
    }
   ],
   "source": [
    "# Series 创建方法三：由标量创建\n",
    "s = pd.Series(10, index = range(4))  # 如果data是标量值，则必须提供索引。该值会重复，来匹配索引的长度\n",
    "print(s)"
   ]
  },
  {
   "cell_type": "code",
   "execution_count": 71,
   "metadata": {},
   "outputs": [
    {
     "name": "stdout",
     "output_type": "stream",
     "text": [
      "0   -0.142240\n",
      "1    0.902081\n",
      "2   -0.976061\n",
      "3    0.199280\n",
      "4   -0.269922\n",
      "Name: hehehe, dtype: float64\n",
      "test hehehe\n"
     ]
    }
   ],
   "source": [
    "# Series 名称属性：name\n",
    "#.name方法：输出数组的名称，输出格式为str，如果没用定义输出名称，输出为None\n",
    "s1 = pd.Series(np.random.randn(5),name = 'test',dtype=str)  #生成 5 个 正太分布数 mean 0 and variance 1\n",
    "s2 = s2.rename('hehehe')  # .rename()重命名一个数组的名称，并且新指向一个数组，原数组不变\n",
    "print(s2)\n",
    "print(s1.name, s2.name)"
   ]
  },
  {
   "cell_type": "markdown",
   "metadata": {},
   "source": [
    "######## 本节课有作业，请查看 “课程作业.docx”  ########"
   ]
  },
  {
   "cell_type": "code",
   "execution_count": null,
   "metadata": {
    "collapsed": true
   },
   "outputs": [],
   "source": [
    "'''\n",
    "【课程2.3】  Pandas数据结构Series：索引\n",
    "\n",
    "位置下标 / 标签索引 / 切片索引 / 布尔型索引\n",
    "\n",
    "'''"
   ]
  },
  {
   "cell_type": "code",
   "execution_count": 88,
   "metadata": {},
   "outputs": [
    {
     "name": "stdout",
     "output_type": "stream",
     "text": [
      "a    0.445420\n",
      "b    0.776303\n",
      "c    0.512740\n",
      "d    0.147574\n",
      "e    0.377886\n",
      "Name: random, dtype: float64\n",
      "0.44541997274233447 <class 'numpy.float64'> float64\n",
      "0.44541997274233447 <class 'float'>\n",
      "a    0.445420\n",
      "b    0.776303\n",
      "c    0.512740\n",
      "Name: random, dtype: float64 <class 'pandas.core.series.Series'>\n"
     ]
    }
   ],
   "source": [
    "# 位置下标索引，类似序列,从 0 开始，输出结果为numpy.float格式，不能用-1\n",
    "s = pd.Series(np.random.rand(5),name='random',index=list('abcde')) #0-1随机数\n",
    "print(s)\n",
    "print(s[0],type(s[0]),s[0].dtype)\n",
    "print(float(s[0]),type(float(s[0]))) # 可以通过float()函数转换为python float格式,numpy.float与float占用字节不同\n",
    "print(s[list(range(3))],type(s[list(range(3))]))    #多重索引type 为新的series"
   ]
  },
  {
   "cell_type": "code",
   "execution_count": 80,
   "metadata": {},
   "outputs": [
    {
     "name": "stdout",
     "output_type": "stream",
     "text": [
      "0.2944133826868329 <class 'numpy.float64'> float64\n",
      "a    0.294413\n",
      "b    0.658732\n",
      "e    0.704895\n",
      "dtype: float64 <class 'pandas.core.series.Series'>\n"
     ]
    }
   ],
   "source": [
    "# 标签索引index\n",
    "s = pd.Series(np.random.rand(5), index=list('abcde'))\n",
    "print(s['a'],type(s['a']),s['a'].dtype)\n",
    "# 方法类似下标索引，用[]表示，内写上index，注意index是字符串\n",
    "sci = s[['a','b','e']] # 如果需要选择多个标签的值，用[[]]来表示（相当于[]中包含一个列表）\n",
    "print(sci,type(sci))  # 多标签索引结果是新的series"
   ]
  },
  {
   "cell_type": "code",
   "execution_count": 104,
   "metadata": {},
   "outputs": [
    {
     "name": "stdout",
     "output_type": "stream",
     "text": [
      "b    0.776303\n",
      "c    0.512740\n",
      "d    0.147574\n",
      "Name: random, dtype: float64 0.377885738530058\n",
      "----------------------------------------------------------------------------------------------------\n",
      "a    0.445420\n",
      "b    0.776303\n",
      "c    0.512740\n",
      "Name: random, dtype: float64 0.512740216834578\n",
      "----------------------------------------------------------------------------------------------------\n",
      "a    0.445420\n",
      "b    0.776303\n",
      "c    0.512740\n",
      "d    0.147574\n",
      "Name: random, dtype: float64\n",
      "----------------------------------------------------------------------------------------------------\n",
      "2    0.477317\n",
      "3    0.375783\n",
      "4    0.387430\n",
      "5    0.097571\n",
      "6    0.193068\n",
      "dtype: float64 4    0.38743\n",
      "dtype: float64\n",
      "----------------------------------------------------------------------------------------------------\n",
      "a    0.445420\n",
      "c    0.512740\n",
      "e    0.377886\n",
      "Name: random, dtype: float64\n"
     ]
    }
   ],
   "source": [
    "# 切片索引\n",
    "s1 = pd.Series(np.random.rand(5),index=list(range(2,7)))\n",
    "print(s[1:4],s[4])   #下标切片不包含endpoint，\n",
    "print('-----'*20)\n",
    "print(s['a':'c'],s['c'])  #index切片则是末端包含\n",
    "print('-----'*20)\n",
    "print(s[:-1])   # 下标索引做切片和list写法一样\n",
    "print('-----'*20)\n",
    "print(s1,s1[2:3]) # 当 index也为数字时，索引默认先匹配下标\n",
    "print('-----'*20)\n",
    "print(s[::2])"
   ]
  },
  {
   "cell_type": "code",
   "execution_count": 9,
   "metadata": {},
   "outputs": [
    {
     "name": "stdout",
     "output_type": "stream",
     "text": [
      "0    2.03802\n",
      "1    40.3989\n",
      "2    25.2001\n",
      "4       None\n",
      "dtype: object\n",
      "0    False\n",
      "1    False\n",
      "2    False\n",
      "4    False\n",
      "dtype: bool <class 'pandas.core.series.Series'> bool\n",
      "0    False\n",
      "1    False\n",
      "2    False\n",
      "4     True\n",
      "dtype: bool <class 'pandas.core.series.Series'> bool\n",
      "0     True\n",
      "1     True\n",
      "2     True\n",
      "4    False\n",
      "dtype: bool <class 'pandas.core.series.Series'> bool\n",
      "-----\n",
      "Series([], dtype: object)\n",
      "0    2.03802\n",
      "1    40.3989\n",
      "2    25.2001\n",
      "dtype: object\n"
     ]
    }
   ],
   "source": [
    "# 布尔型索引\n",
    "s = pd.Series(np.random.rand(3)*100)\n",
    "s[4] = None  # 添加一个空值\n",
    "print(s)\n",
    "bs1 = s > 50     # 数组做判断之后，返回的是一个由布尔值组成的新的数组\n",
    "bs2 = s.isnull()    # .isnull() / .notnull() 判断是否为空值 (None代表空值，NaN代表有问题的数值，两个都会识别为空值)\n",
    "bs3 = s.notnull()        #是否是空值\n",
    "print(bs1, type(bs1), bs1.dtype)\n",
    "print(bs2, type(bs2), bs2.dtype)\n",
    "print(bs3, type(bs3), bs3.dtype)\n",
    "print('-----')\n",
    "print(s[s > 50])   # 布尔型索引方法：用[判断条件]表示，其中判断条件可以是 一个语句，或者是 一个布尔型数组！\n",
    "print(s[bs3])\n"
   ]
  },
  {
   "cell_type": "markdown",
   "metadata": {},
   "source": [
    "######## 本节课有作业，请查看 “课程作业.docx”  ########"
   ]
  },
  {
   "cell_type": "code",
   "execution_count": null,
   "metadata": {},
   "outputs": [],
   "source": [
    "'''\n",
    "【课程2.4】  Pandas数据结构Series：基本技巧\n",
    "\n",
    "数据查看 / 重新索引 / 对齐 / 添加、修改、删除值\n",
    "\n",
    "'''"
   ]
  },
  {
   "cell_type": "code",
   "execution_count": 3,
   "metadata": {},
   "outputs": [
    {
     "name": "stdout",
     "output_type": "stream",
     "text": [
      "0    0.603718\n",
      "1    0.955567\n",
      "2    0.231331\n",
      "3    0.440968\n",
      "4    0.596477\n",
      "5    0.799650\n",
      "6    0.623066\n",
      "7    0.820151\n",
      "8    0.375414\n",
      "9    0.948452\n",
      "dtype: float64\n",
      "5    0.799650\n",
      "6    0.623066\n",
      "7    0.820151\n",
      "8    0.375414\n",
      "9    0.948452\n",
      "dtype: float64\n"
     ]
    }
   ],
   "source": [
    "# 数据查看\n",
    "s = pd.Series(np.random.rand(10))\n",
    "print(s.head(10))        # .head( 10)查看头部10条数据\n",
    "print(s.tail())         # .tail()查看尾部数据 # 默认查看5条"
   ]
  },
  {
   "cell_type": "code",
   "execution_count": 3,
   "metadata": {},
   "outputs": [
    {
     "name": "stdout",
     "output_type": "stream",
     "text": [
      "a    0.528797\n",
      "b    0.350316\n",
      "c    0.921381\n",
      "dtype: float64\n",
      "c    0.921381\n",
      "b    0.350316\n",
      "a    0.528797\n",
      "d         NaN\n",
      "dtype: float64\n",
      "c    0.921381\n",
      "b    0.350316\n",
      "a    0.528797\n",
      "d    0.000000\n",
      "dtype: float64\n"
     ]
    }
   ],
   "source": [
    "# 重新索引： .reindex将会根据索引重新排序，如果当前索引不存在，则引入缺失值\n",
    "s = pd.Series(np.random.rand(3), index = ['a','b','c'])\n",
    "print(s)\n",
    "s1 = s.reindex(['c','b','a','d'])    # 这里'd'索引不存在，默认填充为NaN\n",
    "print(s1)\n",
    "s2 = s.reindex(['c','b','a','d'], fill_value = 0)    # fill_value参数：填充缺失值的值\n",
    "print(s2)"
   ]
  },
  {
   "cell_type": "code",
   "execution_count": 12,
   "metadata": {},
   "outputs": [
    {
     "name": "stdout",
     "output_type": "stream",
     "text": [
      "Jack     0.753732\n",
      "Marry    0.180223\n",
      "Tom      0.283704\n",
      "dtype: float64\n",
      "Wang     0.309128\n",
      "Jack     0.533997\n",
      "Marry    0.626126\n",
      "dtype: float64\n",
      "Jack     1.287729\n",
      "Marry    0.806349\n",
      "Tom           NaN\n",
      "Wang          NaN\n",
      "dtype: float64\n"
     ]
    }
   ],
   "source": [
    "# Series相加，标签对齐\n",
    "s1 = pd.Series(np.random.rand(3), index = ['Jack','Marry','Tom'])\n",
    "s2 = pd.Series(np.random.rand(3), index = ['Wang','Jack','Marry'])\n",
    "print(s1)\n",
    "print(s2)\n",
    "print(s1+s2)\n",
    "# Series 和 ndarray 之间的主要区别是，Series 上的操作会根据标签自动对齐\n",
    "# index顺序不会影响数值计算，以标签来计算，空值和任何值计算结果扔为空值\n"
   ]
  },
  {
   "cell_type": "code",
   "execution_count": 4,
   "metadata": {},
   "outputs": [
    {
     "name": "stdout",
     "output_type": "stream",
     "text": [
      "n    0.831391\n",
      "g    0.718718\n",
      "j    0.828745\n",
      "u    0.421867\n",
      "r    0.491497\n",
      "dtype: float64\n",
      "None\n",
      "u    0.421867\n",
      "r    0.491497\n",
      "dtype: float64\n",
      "g    0.718718\n",
      "j    0.828745\n",
      "u    0.421867\n",
      "r    0.491497\n",
      "dtype: float64\n"
     ]
    }
   ],
   "source": [
    "# 删除：s.drop(labels=None,axis=0,index=None,columns=None,level=None,inplace=False,errors='raise'）\n",
    "s = pd.Series(np.random.rand(5), index = list('ngjur'))\n",
    "print(s)\n",
    "s1 = s.drop('n',inplace=True) # drop 删除元素之后默认返回副本(inplace=False)，TRUE则直接修改原Series不生成副本\n",
    "s2 = s.drop(['g','j'])\n",
    "print(s1)\n",
    "print(s2)\n",
    "print(s)       "
   ]
  },
  {
   "cell_type": "code",
   "execution_count": 5,
   "metadata": {},
   "outputs": [
    {
     "name": "stdout",
     "output_type": "stream",
     "text": [
      "n    0.794204\n",
      "g    0.765729\n",
      "j    0.598532\n",
      "u    0.892235\n",
      "r    0.946056\n",
      "dtype: float64\n",
      "n      0.794204\n",
      "g      0.765729\n",
      "j      0.598532\n",
      "u      0.892235\n",
      "r      0.946056\n",
      "a    100.000000\n",
      "dtype: float64\n",
      "-----\n",
      "0      0.237656\n",
      "1      0.179422\n",
      "2      0.598128\n",
      "3      0.279134\n",
      "4      0.551434\n",
      "n      0.794204\n",
      "g      0.765729\n",
      "j      0.598532\n",
      "u      0.892235\n",
      "r      0.946056\n",
      "a    100.000000\n",
      "dtype: float64\n"
     ]
    }
   ],
   "source": [
    "# 添加，直接通过下标索引/标签index添加值\n",
    "s1 = pd.Series(np.random.rand(5))\n",
    "s2 = pd.Series(np.random.rand(5), index = list('ngjur'))\n",
    "print(s2)\n",
    "s2['a'] = 100\n",
    "print(s2)\n",
    "print('-----')\n",
    " # 通过.append方法，直接添加一个数组，.append方法生成一个新的数组，不改变之前的数组\n",
    "s3 = s1.append(s2)\n",
    "print(s3)"
   ]
  },
  {
   "cell_type": "code",
   "execution_count": 15,
   "metadata": {},
   "outputs": [
    {
     "name": "stdout",
     "output_type": "stream",
     "text": [
      "a    0.873604\n",
      "b    0.244707\n",
      "c    0.888685\n",
      "dtype: float64\n",
      "a    100.0\n",
      "b    200.0\n",
      "c    200.0\n",
      "dtype: float64\n"
     ]
    }
   ],
   "source": [
    "# 修改\n",
    "# 通过索引直接修改，类似序列\n",
    "s = pd.Series(np.random.rand(3), index = ['a','b','c'])\n",
    "print(s)\n",
    "s['a'] = 100\n",
    "s[['b','c']] = 200\n",
    "print(s)\n"
   ]
  },
  {
   "cell_type": "markdown",
   "metadata": {},
   "source": [
    "######## 本节课有作业，请查看 “课程作业.docx”  ########"
   ]
  },
  {
   "cell_type": "code",
   "execution_count": null,
   "metadata": {
    "collapsed": true
   },
   "outputs": [],
   "source": [
    "'''\n",
    "【课程2.5】  Pandas数据结构Dataframe：基本概念及创建\n",
    "\n",
    "\"二维数组\"Dataframe：是一个表格型的数据结构，包含一组有序的列，其列的值类型可以是数值、字符串、布尔值等。\n",
    "\n",
    "Dataframe中的数据以一个或多个二维块存放，不是列表、字典或一维数组结构。\n",
    "\n",
    "'''"
   ]
  },
  {
   "cell_type": "code",
   "execution_count": 7,
   "metadata": {},
   "outputs": [
    {
     "name": "stdout",
     "output_type": "stream",
     "text": [
      "   name  age gender\n",
      "0  Jack   18      m\n",
      "1   Tom   19      m\n",
      "2  Mary   20      w <class 'pandas.core.frame.DataFrame'>\n",
      "RangeIndex(start=0, stop=3, step=1) \n",
      "该数据类型为： <class 'pandas.core.indexes.range.RangeIndex'>\n",
      "Index(['name', 'age', 'gender'], dtype='object') \n",
      "该数据类型为： <class 'pandas.core.indexes.base.Index'>\n",
      "[['Jack' 18 'm']\n",
      " ['Tom' 19 'm']\n",
      " ['Mary' 20 'w']] \n",
      "该数据类型为： <class 'numpy.ndarray'>\n"
     ]
    }
   ],
   "source": [
    "# Dataframe 数据结构，一个表格型的数据结构，“带有标签的二维数组”。\n",
    "# Dataframe带有index（行标签）和columns（列标签）\n",
    "data = {'name':['Jack','Tom','Mary'],\n",
    "        'age':[18,19,20],\n",
    "       'gender':['m','m','w']}\n",
    "frame = pd.DataFrame(data)\n",
    "print(frame,type(frame))     # 查看数据，数据类型为dataframe\n",
    "print(frame.index,'\\n该数据类型为：',type(frame.index)) # .index查看行标签\n",
    "print(frame.columns,'\\n该数据类型为：',type(frame.columns))  # .columns查看列标签\n",
    "print(frame.values,'\\n该数据类型为：',type(frame.values))    # .values查看值，数据类型为二维ndarray"
   ]
  },
  {
   "cell_type": "code",
   "execution_count": 10,
   "metadata": {},
   "outputs": [
    {
     "name": "stdout",
     "output_type": "stream",
     "text": [
      "{'a': [1, 2, 3], 'b': [3, 4, 5], 'c': [5, 6, 7]}\n",
      "{'one': array([0.26195058, 0.39019281, 0.36291013]), 'two': array([0.24016381, 0.1789534 , 0.1611964 ])}\n",
      "   a  b  c\n",
      "0  1  3  5\n",
      "1  2  4  6\n",
      "2  3  5  7\n",
      "        one       two\n",
      "0  0.261951  0.240164\n",
      "1  0.390193  0.178953\n",
      "2  0.362910  0.161196\n",
      "************************************************************\n",
      "   b  c  a    d\n",
      "0  3  5  1  NaN\n",
      "1  4  6  2  NaN\n",
      "2  5  7  3  NaN\n",
      "   b  c\n",
      "0  3  5\n",
      "1  4  6\n",
      "2  5  7\n",
      "         one       two\n",
      "f1  0.261951  0.240164\n",
      "f2  0.390193  0.178953\n",
      "f3  0.362910  0.161196\n"
     ]
    }
   ],
   "source": [
    "# Dataframe创建方法一：由数组/list组成的字典,s=pandas.Dataframe()\n",
    "data1 = {'a':[1,2,3],\n",
    "        'b':[3,4,5],\n",
    "        'c':[5,6,7]}\n",
    "data2 = {'one':np.random.rand(3),\n",
    "        'two':np.random.rand(3)}   # # 字典的值的长度必须保持一致！\n",
    "print(data1)\n",
    "print(data2)\n",
    "df1 = pd.DataFrame(data1)\n",
    "df2 = pd.DataFrame(data2)\n",
    "print(df1)\n",
    "print(df2)\n",
    "print('*'*60)\n",
    "# 由数组/list组成的字典 创建Dataframe，columns为字典key，index为默认数字标签\n",
    "df1 = pd.DataFrame(data1, columns = ['b','c','a','d']) \n",
    "# columns参数：可以重新指定列的顺序，格式为list，如果现有数据中没有该列（比如'd'），则产生NaN值，\n",
    "print(df1)\n",
    "df1 = pd.DataFrame(data1, columns = ['b','c'])  # 如果columns重新指定时候，列的数量可以少于原数据，但多余列会消失；\n",
    "print(df1)\n",
    "\n",
    "df2 = pd.DataFrame(data2, index = ['f1','f2','f3'])  # 这里如果尝试  index = ['f1','f2','f3','f4'] 会怎么样？\n",
    "print(df2)   # index参数：重新定义index，格式为list，长度必须保持一致"
   ]
  },
  {
   "cell_type": "code",
   "execution_count": 18,
   "metadata": {},
   "outputs": [
    {
     "name": "stdout",
     "output_type": "stream",
     "text": [
      "{'one': 0    0.892580\n",
      "1    0.834076\n",
      "dtype: float64, 'two': 0    0.301309\n",
      "1    0.977709\n",
      "2    0.489000\n",
      "dtype: float64}\n",
      "{'one': a    0.470947\n",
      "b    0.584577\n",
      "dtype: float64, 'two': a    0.122659\n",
      "b    0.136429\n",
      "c    0.396825\n",
      "dtype: float64}\n",
      "        one       two\n",
      "0  0.892580  0.301309\n",
      "1  0.834076  0.977709\n",
      "2       NaN  0.489000\n",
      "        one       two\n",
      "a  0.470947  0.122659\n",
      "b  0.584577  0.136429\n",
      "c       NaN  0.396825\n"
     ]
    }
   ],
   "source": [
    "# Dataframe 创建方法二：由Series组成的字典\n",
    "data1 = {'one':pd.Series(np.random.rand(2)),\n",
    "        'two':pd.Series(np.random.rand(3))}  # 没有设置index的Series\n",
    "data2 = {'one':pd.Series(np.random.rand(2), index = ['a','b']),\n",
    "        'two':pd.Series(np.random.rand(3),index = ['a','b','c'])}  # 设置了index的Series\n",
    "print(data1)\n",
    "print(data2)\n",
    "df1 = pd.DataFrame(data1)\n",
    "df2 = pd.DataFrame(data2)\n",
    "print(df1)\n",
    "print(df2)\n",
    "# 由Seris组成的字典 创建Dataframe，columns为字典key，index为Series的标签（如果Series没有指定标签，则是默认数字标签）\n",
    "# Series可以长度不一样，生成的Dataframe会出现NaN值"
   ]
  },
  {
   "cell_type": "code",
   "execution_count": 19,
   "metadata": {},
   "outputs": [
    {
     "name": "stdout",
     "output_type": "stream",
     "text": [
      "[[ 0.54492282  0.28956161  0.46592269]\n",
      " [ 0.30480674  0.12917132  0.38757672]\n",
      " [ 0.2518185   0.13544544  0.13930429]]\n",
      "          0         1         2\n",
      "0  0.544923  0.289562  0.465923\n",
      "1  0.304807  0.129171  0.387577\n",
      "2  0.251819  0.135445  0.139304\n",
      "        one       two     three\n",
      "a  0.544923  0.289562  0.465923\n",
      "b  0.304807  0.129171  0.387577\n",
      "c  0.251819  0.135445  0.139304\n"
     ]
    }
   ],
   "source": [
    "# Dataframe 创建方法三：通过二维数组直接创建\n",
    "\n",
    "ar = np.random.rand(9).reshape(3,3)\n",
    "print(ar)\n",
    "df1 = pd.DataFrame(ar)\n",
    "df2 = pd.DataFrame(ar, index = ['a', 'b', 'c'], columns = ['one','two','three'])  # 可以尝试一下index或columns长度不等于已有数组的情况\n",
    "print(df1)\n",
    "print(df2)\n",
    "# 通过二维数组直接创建Dataframe，得到一样形状的结果数据，如果不指定index和columns，两者均返回默认数字格式\n",
    "# index和colunms指定长度与原数组保持一致"
   ]
  },
  {
   "cell_type": "code",
   "execution_count": 20,
   "metadata": {},
   "outputs": [
    {
     "name": "stdout",
     "output_type": "stream",
     "text": [
      "[{'one': 1, 'two': 2}, {'one': 5, 'three': 20, 'two': 10}]\n",
      "   one  three  two\n",
      "0    1    NaN    2\n",
      "1    5   20.0   10\n",
      "   one  three  two\n",
      "a    1    NaN    2\n",
      "b    5   20.0   10\n",
      "   one  two\n",
      "0    1    2\n",
      "1    5   10\n"
     ]
    }
   ],
   "source": [
    "# Dataframe 创建方法四：由字典组成的列表\n",
    "\n",
    "data = [{'one': 1, 'two': 2}, {'one': 5, 'two': 10, 'three': 20}]\n",
    "print(data)\n",
    "df1 = pd.DataFrame(data)\n",
    "df2 = pd.DataFrame(data, index = ['a','b'])\n",
    "df3 = pd.DataFrame(data, columns = ['one','two'])\n",
    "print(df1)\n",
    "print(df2)\n",
    "print(df3)\n",
    "# 由字典组成的列表创建Dataframe，columns为字典的key，index不做指定则为默认数组标签\n",
    "# colunms和index参数分别重新指定相应列及行标签"
   ]
  },
  {
   "cell_type": "code",
   "execution_count": 21,
   "metadata": {},
   "outputs": [
    {
     "name": "stdout",
     "output_type": "stream",
     "text": [
      "         Jack  Marry   Tom\n",
      "art        78     92   NaN\n",
      "english    89     95  67.0\n",
      "math       90     82  78.0\n",
      "         Jack   Tom  Bob\n",
      "art        78   NaN  NaN\n",
      "english    89  67.0  NaN\n",
      "math       90  78.0  NaN\n",
      "   Jack  Marry  Tom\n",
      "a   NaN    NaN  NaN\n",
      "b   NaN    NaN  NaN\n",
      "c   NaN    NaN  NaN\n"
     ]
    }
   ],
   "source": [
    "# Dataframe 创建方法五：由字典组成的字典\n",
    "data = {'Jack':{'math':90,'english':89,'art':78},\n",
    "       'Marry':{'math':82,'english':95,'art':92},\n",
    "       'Tom':{'math':78,'english':67}}\n",
    "df1 = pd.DataFrame(data)\n",
    "print(df1)\n",
    "# 由字典组成的字典创建Dataframe，columns为字典的key，index为子字典的key\n",
    "df2 = pd.DataFrame(data, columns = ['Jack','Tom','Bob'])\n",
    "df3 = pd.DataFrame(data, index = ['a','b','c'])\n",
    "print(df2)\n",
    "print(df3)\n",
    "# columns参数可以增加和减少现有列，如出现新的列，值为NaN\n",
    "# index在这里和之前不同，并不能改变原有index，如果指向新的标签，值为NaN （非常重要！）"
   ]
  },
  {
   "cell_type": "markdown",
   "metadata": {},
   "source": [
    "######## 本节课有作业，请查看 “课程作业.docx”  ########"
   ]
  },
  {
   "cell_type": "code",
   "execution_count": null,
   "metadata": {
    "collapsed": true
   },
   "outputs": [],
   "source": [
    "'''\n",
    "【课程2.6】  Pandas数据结构Dataframe：索引\n",
    "\n",
    "Dataframe既有行索引也有列索引，可以被看做由Series组成的字典（共用一个索引）\n",
    "\n",
    "选择列 / 选择行 / 切片 / 布尔判断\n",
    "\n",
    "'''"
   ]
  },
  {
   "cell_type": "code",
   "execution_count": 7,
   "metadata": {},
   "outputs": [
    {
     "name": "stdout",
     "output_type": "stream",
     "text": [
      "               a          b          c\n",
      "one    18.313239  51.083491  84.502354\n",
      "two    33.689343  47.960137  87.299517\n",
      "three  86.669378  98.222475  45.205407\n",
      "************************************************************\n",
      "one      18.313239\n",
      "two      33.689343\n",
      "three    86.669378\n",
      "Name: a, dtype: float64 <class 'pandas.core.series.Series'>\n",
      "               a          b\n",
      "one    18.313239  51.083491\n",
      "two    33.689343  47.960137\n",
      "three  86.669378  98.222475 <class 'pandas.core.frame.DataFrame'>\n",
      "************************************************************\n",
      "one      18.313239\n",
      "two      33.689343\n",
      "three    86.669378\n",
      "Name: a, dtype: float64 <class 'pandas.core.series.Series'> 在这里\n",
      "************************************************************\n",
      "a    18.313239\n",
      "b    51.083491\n",
      "c    84.502354\n",
      "Name: one, dtype: float64 <class 'pandas.core.series.Series'>\n",
      "             a          b          c\n",
      "one  18.313239  51.083491  84.502354\n",
      "two  33.689343  47.960137  87.299517 <class 'pandas.core.frame.DataFrame'>\n",
      "************************************************************\n",
      "               a          b          c\n",
      "one    18.313239  51.083491  84.502354\n",
      "two    33.689343  47.960137  87.299517\n",
      "three  86.669378  98.222475  45.205407\n",
      "               a          b          c\n",
      "one    18.313239  51.083491  84.502354\n",
      "two    33.689343  47.960137  87.299517\n",
      "three  86.669378  98.222475  45.205407 <class 'pandas.core.frame.DataFrame'> 在这里\n"
     ]
    }
   ],
   "source": [
    "# 输出行与列\n",
    "df = pd.DataFrame(np.random.rand(9).reshape(3,3)*100,\n",
    "                   index = ['one','two','three'],\n",
    "                   columns = ['a','b','c'])\n",
    "print(df)\n",
    "print('*'*60)\n",
    "#df[] 直接索引列标签\n",
    "data1 = df['a']           #只选择一列则输出 series，列标签消失，index 相同\n",
    "data2 = df[['a','b']]     #列表索引多个列标签，选择多列则输出Dataframe\n",
    "print(data1,type(data1))\n",
    "print(data2,type(data2))\n",
    "print('*'*60)\n",
    "# .列名，直接索引列标签\n",
    "print(df.a,type(df.a),'在这里')\n",
    "print('*'*60)\n",
    "# df.loc[] 索引行标签\n",
    "data3 = df.loc['one']     #只选择一行则输出 series，列标签成为 Index\n",
    "data5 = df.loc[['one','two']]   #列表索引多个行标签，选择多行则输出Dataframe\n",
    "print(data3,type(data3))\n",
    "print(data5,type(data5))\n",
    "print('*'*60)\n",
    "# df1.loc[]切片\n",
    "data6 = df.loc['one':'three']\n",
    "print(data6)\n",
    "# df.query做筛选\n",
    "print(df.query('a>18'),type(df.query('a>18')),'在这里')"
   ]
  },
  {
   "cell_type": "code",
   "execution_count": 72,
   "metadata": {},
   "outputs": [
    {
     "name": "stdout",
     "output_type": "stream",
     "text": [
      "               a          b          c\n",
      "one    36.377362  39.374825  34.260450\n",
      "two    58.762923  50.639137  72.733196\n",
      "three  60.298524  49.197664  88.838944\n",
      "a    36.377362\n",
      "b    39.374825\n",
      "c    34.260450\n",
      "Name: one, dtype: float64\n",
      "a    60.298524\n",
      "b    49.197664\n",
      "c    88.838944\n",
      "Name: three, dtype: float64\n",
      "单行索引 ------------------------------------------------------------\n",
      "               a          b          c\n",
      "one    36.377362  39.374825  34.260450\n",
      "three  60.298524  49.197664  88.838944\n",
      "多行索引 ------------------------------------------------------------\n",
      "               a          b          c\n",
      "two    58.762923  50.639137  72.733196\n",
      "three  60.298524  49.197664  88.838944\n",
      "               a          b          c\n",
      "one    36.377362  39.374825  34.260450\n",
      "three  60.298524  49.197664  88.838944\n",
      "切片索引\n",
      "             a          b          c\n",
      "one  36.377362  39.374825  34.260450\n",
      "two  58.762923  50.639137  72.733196 <class 'pandas.core.frame.DataFrame'>\n"
     ]
    }
   ],
   "source": [
    "# df.iloc[] - 按照整数位置（从轴的0到length-1）选择行,类似list的索引，其顺序就是dataframe的整数位置，从0开始计\n",
    "print(df)\n",
    "print(df.iloc[0])   #顺序索引，列标签成为 index\n",
    "print(df.iloc[-1])   #倒序索引，列标签成为 index\n",
    "print('单行索引','-'*60)\n",
    "print(df.iloc[[0,2]])  #多行索引，输出dataframe\n",
    "print('多行索引','-'*60) \n",
    "print(df.iloc[1:3])  # 切片索引，末端不包含\n",
    "print(df.iloc[::2])  #步长 为 2 索引 \n",
    "print('切片索引')\n",
    "# df[]中为数字时，只能使用行切片，(不建议使用)\n",
    "data4 = df[:2]  # 表示 1-2 行，输出结果为Dataframe，即便只选择一行\n",
    "print(data4,type(data4))"
   ]
  },
  {
   "cell_type": "code",
   "execution_count": 88,
   "metadata": {},
   "outputs": [
    {
     "name": "stdout",
     "output_type": "stream",
     "text": [
      "               a          b          c\n",
      "one    50.138849  56.092495  85.117015\n",
      "two    17.733808  74.993870  49.389400\n",
      "three  46.510163  18.400765  53.594008\n",
      "------------------------------------------------------------\n",
      "           a      b      c\n",
      "one    False  False  False\n",
      "two     True  False  False\n",
      "three  False   True  False <class 'pandas.core.frame.DataFrame'>\n",
      "               a          b   c\n",
      "one          NaN        NaN NaN\n",
      "two    17.733808        NaN NaN\n",
      "three        NaN  18.400765 NaN\n",
      "全局索引 ------------------------------------------------------------\n",
      "one       True\n",
      "two      False\n",
      "three     True\n",
      "Name: a, dtype: bool <class 'pandas.core.series.Series'>\n",
      "               a          b          c\n",
      "one    50.138849  56.092495  85.117015\n",
      "three  46.510163  18.400765  53.594008\n",
      "单列布尔索引 ------------------------------------------------------------\n",
      "           a      b\n",
      "one     True   True\n",
      "two    False   True\n",
      "three  False  False <class 'pandas.core.frame.DataFrame'>\n",
      "               a          b   c\n",
      "one    50.138849  56.092495 NaN\n",
      "two          NaN  74.993870 NaN\n",
      "three        NaN        NaN NaN\n",
      "多列布尔索引 ------------------------------------------------------------\n",
      "         a      b      c\n",
      "one  False  False  False <class 'pandas.core.frame.DataFrame'>\n",
      "        a   b   c\n",
      "one   NaN NaN NaN\n",
      "two   NaN NaN NaN\n",
      "three NaN NaN NaN\n",
      "单行布尔索引 ------------------------------------------------------------\n",
      "           a      b      c\n",
      "one    False  False  False\n",
      "three   True   True  False <class 'pandas.core.frame.DataFrame'>\n",
      "               a          b   c\n",
      "one          NaN        NaN NaN\n",
      "two          NaN        NaN NaN\n",
      "three  46.510163  18.400765 NaN\n",
      "多行布尔索引 ------------------------------------------------------------\n"
     ]
    }
   ],
   "source": [
    "# 布尔型索引，和Series原理相同\n",
    "df = pd.DataFrame(np.random.rand(9).reshape(3,3)*100,\n",
    "                   index = ['one','two','three'],\n",
    "                   columns = ['a','b','c'])\n",
    "print(df)\n",
    "print('-'*60)\n",
    "b1 = df < 20     #不做索引则会对数据每个值进行判断\n",
    "print(b1,type(b1)) \n",
    "print(df[b1])  #索引结果保留 所有数据：True返回原数据，False返回值为NaN，也可以书写为 df[df < 20]\n",
    "print('全局索引','-'*60)\n",
    "b2 = df['a'] > 20\n",
    "print(b2,type(b2))\n",
    "print(df[b2])  # 也可以书写为 df[df['a'] > 50]  # 索引结果为判断为True的行的所有数据\n",
    "print('单列布尔索引','-'*60) \n",
    "\n",
    "b3 = df[['a','b']] > 50  # 多列做判断\n",
    "print(b3,type(b3))\n",
    "print(df[b3])  # 也可以书写为 df[df[['a','b']] > 50] # 索引结果保留所有数据：True返回原数据，False返回值为NaN\n",
    "print('多列布尔索引','-'*60) \n",
    "\n",
    "b4 = df.loc[['one']] < 50\n",
    "print(b4,type(b4))\n",
    "print(df[b4])           # 索引结果保留所有数据：True返回原数据，False返回值为NaN\n",
    "print('单行布尔索引','-'*60)      \n",
    "\n",
    "b5 = df.loc[['one','three']] < 50\n",
    "print(b5,type(b5))\n",
    "print(df[b5])  # 也可以书写为 df[df.loc[['one','three']] < 50]  # 索引结果保留所有数据：True返回原数据，False返回值为NaN\n",
    "print('多行布尔索引','-'*60) "
   ]
  },
  {
   "cell_type": "code",
   "execution_count": 21,
   "metadata": {},
   "outputs": [
    {
     "name": "stdout",
     "output_type": "stream",
     "text": [
      "               a          b          c\n",
      "one    16.229513   4.682136  31.789613\n",
      "two    79.068792  35.457870  12.210438\n",
      "three  90.775079  38.620985  38.265738\n",
      "------------------------------------------------------------\n",
      "one      16.229513\n",
      "three    90.775079\n",
      "Name: a, dtype: float64\n",
      "               b          c\n",
      "one     4.682136  31.789613\n",
      "three  38.620985  38.265738\n",
      "             a         b          c\n",
      "one  16.229513  4.682136  31.789613 \n",
      "\n",
      "one      16.229513\n",
      "two      79.068792\n",
      "three    90.775079\n",
      "Name: a, dtype: float64\n"
     ]
    }
   ],
   "source": [
    "# 多重索引：比如同时索引行和列,先选择列再选择行 —— 相当于对于一个数据，先筛选字段，再选择数据量\n",
    "df = pd.DataFrame(np.random.rand(9).reshape(3,3)*100,\n",
    "                   index = ['one','two','three'],\n",
    "                   columns = ['a','b','c'])\n",
    "print(df)\n",
    "print('-'*60)\n",
    "print(df['a'].loc[['one','three']])   # 选择a列的one，three行\n",
    "print(df[['b','c']].iloc[::2])   # 选择b，c列的one，three行\n",
    "print(df[df['a'] < 50].iloc[:2],'\\n')   # 选择满足判断索引的前两行数据"
   ]
  },
  {
   "cell_type": "markdown",
   "metadata": {},
   "source": [
    "######## 本节课有作业，请查看 “课程作业.docx”  ########"
   ]
  },
  {
   "cell_type": "code",
   "execution_count": null,
   "metadata": {
    "collapsed": true
   },
   "outputs": [],
   "source": [
    "'''\n",
    "【课程2.7】  Pandas数据结构Dataframe：基本技巧\n",
    "\n",
    "数据查看、转置 / 添加、修改、删除值 / 对齐 / 排序\n",
    "\n",
    "'''"
   ]
  },
  {
   "cell_type": "code",
   "execution_count": 4,
   "metadata": {},
   "outputs": [
    {
     "name": "stdout",
     "output_type": "stream",
     "text": [
      "           a          b\n",
      "0  77.773732  18.910947\n",
      "1  95.248072  72.375780\n",
      "           a          b\n",
      "0  77.773732  18.910947\n",
      "1  95.248072  72.375780\n",
      "2   4.329797  71.289591\n",
      "3  93.591960  93.366836\n",
      "           0          1          2          3\n",
      "a  77.773732  95.248072   4.329797  93.591960\n",
      "b  18.910947  72.375780  71.289591  93.366836\n"
     ]
    }
   ],
   "source": [
    "# 数据查看、转置\n",
    "df = pd.DataFrame(np.random.rand(8).reshape(4,2)*100,\n",
    "                   columns = ['a','b'])\n",
    "print(df.head(2))  # .head()查看头部数据\n",
    "print(df.tail())   # .tail()查看尾部数据,默认查看5条\n",
    "print(df.T)  # .T 转置"
   ]
  },
  {
   "cell_type": "code",
   "execution_count": 6,
   "metadata": {},
   "outputs": [
    {
     "name": "stdout",
     "output_type": "stream",
     "text": [
      "           a          b          c          d\n",
      "0   8.896444  66.625227   6.563212  73.923248\n",
      "1  32.340877  61.258503  41.624232  20.518858\n",
      "2  13.129499   2.365804  65.081770  34.409676\n",
      "3  41.933940  70.897424  27.702161  26.191884\n",
      "           a          b          c          d   e\n",
      "0   8.896444  66.625227   6.563212  73.923248  10\n",
      "1  32.340877  61.258503  41.624232  20.518858  10\n",
      "2  13.129499   2.365804  65.081770  34.409676  10\n",
      "3  41.933940  70.897424  27.702161  26.191884  10\n",
      "4  20.000000  20.000000  20.000000  20.000000  20\n",
      "     a          b    c          d   e\n",
      "0  100  66.625227  100  73.923248  20\n",
      "1  100  61.258503  100  20.518858  20\n",
      "2  100   2.365804  100  34.409676  20\n",
      "3  100  70.897424  100  26.191884  20\n",
      "4  100  20.000000  100  20.000000  20\n"
     ]
    }
   ],
   "source": [
    "# 添加与修改\n",
    "df = pd.DataFrame(np.random.rand(16).reshape(4,4)*100,\n",
    "                   columns = ['a','b','c','d'])\n",
    "print(df)\n",
    "df['e'] = 10\n",
    "df.loc[4] = 20\n",
    "print(df)\n",
    "# 新增列/行并赋值\n",
    "df['e'] = 20\n",
    "df[['a','c']] = 100\n",
    "print(df)\n",
    "# 索引并赋值直接修改"
   ]
  },
  {
   "cell_type": "code",
   "execution_count": 8,
   "metadata": {},
   "outputs": [
    {
     "name": "stdout",
     "output_type": "stream",
     "text": [
      "           a          b          c          d\n",
      "0  55.127105  45.382908  40.785597  55.724808\n",
      "1  23.792946  85.387409  39.221872  10.123730\n",
      "           b          c          d\n",
      "0  45.382908  40.785597  55.724808\n",
      "1  85.387409  39.221872  10.123730\n",
      "-----\n",
      "           b          c         d\n",
      "1  85.387409  39.221872  10.12373\n",
      "Empty DataFrame\n",
      "Columns: [b, c, d]\n",
      "Index: []\n",
      "           b          c          d\n",
      "0  45.382908  40.785597  55.724808\n",
      "1  85.387409  39.221872  10.123730\n",
      "-----\n",
      "           b          c\n",
      "0  45.382908  40.785597\n",
      "1  85.387409  39.221872\n",
      "           b          c          d\n",
      "0  45.382908  40.785597  55.724808\n",
      "1  85.387409  39.221872  10.123730\n"
     ]
    }
   ],
   "source": [
    "# 删除  del / drop()\n",
    "df = pd.DataFrame(np.random.rand(8).reshape(2,4)*100,\n",
    "                   columns = ['a','b','c','d'])\n",
    "print(df)\n",
    "# del语句 - 删除列\n",
    "del df['a']\n",
    "print(df)\n",
    "print('-----')\n",
    "# drop()删除行，inplace=False → 删除后生成新的数据，不改变原数据\n",
    "print(df.drop(0,axis=0))\n",
    "print(df.drop([0,1]))\n",
    "print(df)\n",
    "print('-----')\n",
    "print(df.drop(['d'], axis = 1))  # drop()删除列，需要加上axis = 1，inplace=False → 删除后生成新的数据，不改变原数据\n",
    "print(df)"
   ]
  },
  {
   "cell_type": "code",
   "execution_count": 31,
   "metadata": {},
   "outputs": [
    {
     "name": "stdout",
     "output_type": "stream",
     "text": [
      "          A         B         C   D\n",
      "0 -0.281123 -2.529461  1.325663 NaN\n",
      "1 -0.310514 -0.408225 -0.760986 NaN\n",
      "2 -0.172169 -2.355042  1.521342 NaN\n",
      "3  1.113505  0.325933  3.689586 NaN\n",
      "4  0.107513 -0.503907 -1.010349 NaN\n",
      "5 -0.845676 -2.410537 -1.406071 NaN\n",
      "6  1.682854 -0.576620 -0.981622 NaN\n",
      "7       NaN       NaN       NaN NaN\n",
      "8       NaN       NaN       NaN NaN\n",
      "9       NaN       NaN       NaN NaN\n"
     ]
    }
   ],
   "source": [
    "# 对齐 DataFrame对象之间的数据自动按照列和索引（行标签）对齐\n",
    "df1 = pd.DataFrame(np.random.randn(10, 4), columns=['A', 'B', 'C', 'D'])\n",
    "df2 = pd.DataFrame(np.random.randn(7, 3), columns=['A', 'B', 'C'])\n",
    "print(df1 + df2)"
   ]
  },
  {
   "cell_type": "code",
   "execution_count": 9,
   "metadata": {},
   "outputs": [
    {
     "name": "stdout",
     "output_type": "stream",
     "text": [
      "           a          b          c          d\n",
      "0  59.657376  32.987978  59.545804  79.776816\n",
      "1  79.142581  62.769027  57.646574  97.510485\n",
      "2  26.763098   1.449269  73.213779  24.787921\n",
      "3  92.554068  99.013300  75.746467  36.622730\n",
      "           a          b          c          d\n",
      "2  26.763098   1.449269  73.213779  24.787921\n",
      "0  59.657376  32.987978  59.545804  79.776816\n",
      "1  79.142581  62.769027  57.646574  97.510485\n",
      "3  92.554068  99.013300  75.746467  36.622730\n",
      "           a          b          c          d\n",
      "3  92.554068  99.013300  75.746467  36.622730\n",
      "1  79.142581  62.769027  57.646574  97.510485\n",
      "0  59.657376  32.987978  59.545804  79.776816\n",
      "2  26.763098   1.449269  73.213779  24.787921\n",
      "------\n",
      "   a  b  c\n",
      "0  1  0  8\n",
      "1  1  1  7\n",
      "2  1  2  6\n",
      "3  1  3  5\n",
      "4  2  4  4\n",
      "5  2  5  3\n",
      "6  2  6  2\n",
      "7  2  7  1\n",
      "   a  b  c\n",
      "3  1  3  5\n",
      "2  1  2  6\n",
      "1  1  1  7\n",
      "0  1  0  8\n",
      "7  2  7  1\n",
      "6  2  6  2\n",
      "5  2  5  3\n",
      "4  2  4  4\n"
     ]
    }
   ],
   "source": [
    "# 排序1 - 按值排序 .sort_values  同样适用于Series\n",
    "df1 = pd.DataFrame(np.random.rand(16).reshape(4,4)*100,\n",
    "                   columns = ['a','b','c','d'])\n",
    "# 单列排序,ascending参数：设置升序降序，默认升序\n",
    "print(df1)\n",
    "print(df1.sort_values(['a'], ascending = True))  # 升序\n",
    "print(df1.sort_values(['a'], ascending = False))  # 降序\n",
    "print('------')\n",
    "\n",
    "df2 = pd.DataFrame({'a':[1,1,1,1,2,2,2,2],\n",
    "                  'b':list(range(8)),\n",
    "                  'c':list(range(8,0,-1))})\n",
    "print(df2)\n",
    "print(df2.sort_values(['a','c']))   # 多列排序，按列顺序排序"
   ]
  },
  {
   "cell_type": "code",
   "execution_count": 33,
   "metadata": {},
   "outputs": [
    {
     "name": "stdout",
     "output_type": "stream",
     "text": [
      "           a          b          c          d\n",
      "5  57.327269  87.623119  93.655538   5.859571\n",
      "4  69.739134  80.084366  89.005538  56.825475\n",
      "3  88.148296   6.211556  68.938504  41.542563\n",
      "2  29.248036  72.005306  57.855365  45.931715\n",
      "           a          b          c          d\n",
      "2  29.248036  72.005306  57.855365  45.931715\n",
      "3  88.148296   6.211556  68.938504  41.542563\n",
      "4  69.739134  80.084366  89.005538  56.825475\n",
      "5  57.327269  87.623119  93.655538   5.859571\n",
      "           a          b          c          d\n",
      "h  50.579469  80.239138  24.085110  39.443600\n",
      "s  30.906725  39.175302  11.161542  81.010205\n",
      "x  19.900056  18.421110   4.995141  12.605395\n",
      "g  67.760755  72.573568  33.507090  69.854906\n",
      "           a          b          c          d\n",
      "g  67.760755  72.573568  33.507090  69.854906\n",
      "h  50.579469  80.239138  24.085110  39.443600\n",
      "s  30.906725  39.175302  11.161542  81.010205\n",
      "x  19.900056  18.421110   4.995141  12.605395\n"
     ]
    }
   ],
   "source": [
    "# 排序2 - 索引排序 .sort_index # 默认 ascending=True, inplace=False\n",
    "\n",
    "df1 = pd.DataFrame(np.random.rand(16).reshape(4,4)*100,\n",
    "                  index = [5,4,3,2],\n",
    "                   columns = ['a','b','c','d'])\n",
    "df2 = pd.DataFrame(np.random.rand(16).reshape(4,4)*100,\n",
    "                  index = ['h','s','x','g'],\n",
    "                   columns = ['a','b','c','d'])\n",
    "print(df1)\n",
    "print(df1.sort_index())\n",
    "print(df2)\n",
    "print(df2.sort_index())"
   ]
  },
  {
   "cell_type": "markdown",
   "metadata": {},
   "source": [
    "######## 本节课有作业，请查看 “课程作业.docx”  ########"
   ]
  }
 ],
 "metadata": {
  "anaconda-cloud": {},
  "kernelspec": {
   "display_name": "Python 3",
   "language": "python",
   "name": "python3"
  },
  "language_info": {
   "codemirror_mode": {
    "name": "ipython",
    "version": 3
   },
   "file_extension": ".py",
   "mimetype": "text/x-python",
   "name": "python",
   "nbconvert_exporter": "python",
   "pygments_lexer": "ipython3",
   "version": "3.7.7"
  }
 },
 "nbformat": 4,
 "nbformat_minor": 1
}
